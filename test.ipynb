{
 "cells": [
  {
   "cell_type": "code",
   "execution_count": 9,
   "metadata": {},
   "outputs": [],
   "source": [
    "import pandas as pd\n",
    "import numpy as np\n",
    "\n",
    "y = [('K1','l'),(\"K1\",'m'),(\"K2\",'l'),('K2','m'),(\"K3\",'l'),('K3','m')]\n",
    "col_list = pd.MultiIndex.from_tuples(y)\n",
    "\n",
    "A = pd.DataFrame(np.random.randint(2,5,(4,6)), columns = col_list)\n",
    "#A.to_excel(\"test_result/multiindex.xlsx\")\n",
    "A.drop(A.index).to_excel(\"test_result/multiindex.xlsx\")"
   ]
  },
  {
   "cell_type": "code",
   "execution_count": 3,
   "metadata": {},
   "outputs": [],
   "source": [
    "def save_double_column_df(df, xl_writer, startrow = 0, **kwargs):\n",
    "    '''Function to save doublecolumn DataFrame, to xlwriter'''\n",
    "    # inputs:\n",
    "    # df - pandas dataframe to save\n",
    "    # xl_writer - book for saving\n",
    "    # startrow - row from wich data frame will begins\n",
    "    # **kwargs - arguments of `to_excel` function of DataFrame`\n",
    "    df.drop(df.index).to_excel(xl_writer, startrow = startrow, **kwargs)\n",
    "    df.to_excel(xl_writer, startrow = startrow + 1, header = False, **kwargs)\n",
    "\n",
    "\n",
    "import pandas as pd\n",
    "import numpy as np\n",
    "\n",
    "y = [('K1','l'),(\"K1\",'m'),(\"K2\",'l'),('K2','m'),(\"K3\",'l'),('K3','m')]\n",
    "col_list = pd.MultiIndex.from_tuples(y)\n",
    "A = pd.DataFrame(np.random.randint(2,5,(4,6)), columns = col_list)\n",
    "\n",
    "xl_writer = pd.ExcelWriter(\"test_result/multiindex_saving.xlsx\",engine='xlsxwriter')\n",
    "save_double_column_df(A, xl_writer, sheet_name = 'hello')\n",
    "xl_writer.close()"
   ]
  },
  {
   "cell_type": "code",
   "execution_count": 5,
   "metadata": {},
   "outputs": [
    {
     "name": "stdout",
     "output_type": "stream",
     "text": [
      "my print is called\n",
      "my print is called\n"
     ]
    }
   ],
   "source": [
    "def my_print(self):\n",
    "    print('my print is called')\n",
    "\n",
    "\n",
    "class example():\n",
    "\n",
    "    def __init__(self):\n",
    "        self.some_method = my_print\n",
    "        self.some_method(self)\n",
    "\n",
    "    def test(self):\n",
    "        self.some_method(self)\n",
    "\n",
    "a = example()\n",
    "a.some_method = my_print\n",
    "a.test()"
   ]
  },
  {
   "cell_type": "code",
   "execution_count": 25,
   "metadata": {},
   "outputs": [
    {
     "name": "stdout",
     "output_type": "stream",
     "text": [
      "a\n",
      "b\n"
     ]
    }
   ],
   "source": [
    "table = pd.DataFrame({'a':[1,2,3,4], 'b': [2,3,4,5]})\n",
    "for i in table:\n",
    "    print(i)"
   ]
  }
 ],
 "metadata": {
  "interpreter": {
   "hash": "e7370f93d1d0cde622a1f8e1c04877d8463912d04d973331ad4851f04de6915a"
  },
  "kernelspec": {
   "display_name": "Python 3.10.2 64-bit",
   "language": "python",
   "name": "python3"
  },
  "language_info": {
   "codemirror_mode": {
    "name": "ipython",
    "version": 3
   },
   "file_extension": ".py",
   "mimetype": "text/x-python",
   "name": "python",
   "nbconvert_exporter": "python",
   "pygments_lexer": "ipython3",
   "version": "3.10.2"
  },
  "orig_nbformat": 4
 },
 "nbformat": 4,
 "nbformat_minor": 2
}
