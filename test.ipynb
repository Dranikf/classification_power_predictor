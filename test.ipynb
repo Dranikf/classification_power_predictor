{
 "cells": [
  {
   "cell_type": "code",
   "execution_count": 6,
   "metadata": {},
   "outputs": [
    {
     "data": {
      "text/html": [
       "<div>\n",
       "<style scoped>\n",
       "    .dataframe tbody tr th:only-of-type {\n",
       "        vertical-align: middle;\n",
       "    }\n",
       "\n",
       "    .dataframe tbody tr th {\n",
       "        vertical-align: top;\n",
       "    }\n",
       "\n",
       "    .dataframe thead tr th {\n",
       "        text-align: left;\n",
       "    }\n",
       "</style>\n",
       "<table border=\"1\" class=\"dataframe\">\n",
       "  <thead>\n",
       "    <tr>\n",
       "      <th></th>\n",
       "      <th colspan=\"2\" halign=\"left\">K1</th>\n",
       "      <th colspan=\"2\" halign=\"left\">K2</th>\n",
       "      <th colspan=\"2\" halign=\"left\">K3</th>\n",
       "    </tr>\n",
       "    <tr>\n",
       "      <th></th>\n",
       "      <th>l</th>\n",
       "      <th>m</th>\n",
       "      <th>l</th>\n",
       "      <th>m</th>\n",
       "      <th>l</th>\n",
       "      <th>m</th>\n",
       "    </tr>\n",
       "  </thead>\n",
       "  <tbody>\n",
       "    <tr>\n",
       "      <th>0</th>\n",
       "      <td>1</td>\n",
       "      <td>2</td>\n",
       "      <td>3</td>\n",
       "      <td>4</td>\n",
       "      <td>5</td>\n",
       "      <td>6</td>\n",
       "    </tr>\n",
       "  </tbody>\n",
       "</table>\n",
       "</div>"
      ],
      "text/plain": [
       "  K1    K2    K3   \n",
       "   l  m  l  m  l  m\n",
       "0  1  2  3  4  5  6"
      ]
     },
     "execution_count": 6,
     "metadata": {},
     "output_type": "execute_result"
    }
   ],
   "source": [
    "import pandas as pd\n",
    "import numpy as np\n",
    "\n",
    "x = [('G1','a'),(\"G1\",'b'),(\"G2\",'a'),('G2','b')]\n",
    "y = [('K1','l'),(\"K1\",'m'),(\"K2\",'l'),('K2','m'),(\"K3\",'l'),('K3','m')]\n",
    "row_list = pd.MultiIndex.from_tuples(x)\n",
    "col_list = pd.MultiIndex.from_tuples(y)\n",
    "\n",
    "#A = pd.DataFrame(columns = col_list)\n",
    "#A.loc[0, :] = [1,2,3,4,5,6]\n",
    "#B = pd.DataFrame(np.random.randint(2,5,(4,6)), row_list,col_list)\n",
    "#A\n",
    "#pd.concat([A,B], axis = 0)"
   ]
  },
  {
   "cell_type": "code",
   "execution_count": 23,
   "metadata": {},
   "outputs": [
    {
     "ename": "TypeError",
     "evalue": "my_print() missing 1 required positional argument: 'self'",
     "output_type": "error",
     "traceback": [
      "\u001b[0;31m---------------------------------------------------------------------------\u001b[0m",
      "\u001b[0;31mTypeError\u001b[0m                                 Traceback (most recent call last)",
      "Input \u001b[0;32mIn [23]\u001b[0m, in \u001b[0;36m<module>\u001b[0;34m\u001b[0m\n\u001b[1;32m     13\u001b[0m     \u001b[38;5;28;01mdef\u001b[39;00m \u001b[38;5;21mtest\u001b[39m(\u001b[38;5;28mself\u001b[39m):\n\u001b[1;32m     14\u001b[0m         \u001b[38;5;28mself\u001b[39m\u001b[38;5;241m.\u001b[39msome_method()\n\u001b[0;32m---> 16\u001b[0m a \u001b[38;5;241m=\u001b[39m \u001b[43mexample\u001b[49m\u001b[43m(\u001b[49m\u001b[43m)\u001b[49m\n\u001b[1;32m     17\u001b[0m a\u001b[38;5;241m.\u001b[39mtest()\n",
      "Input \u001b[0;32mIn [23]\u001b[0m, in \u001b[0;36mexample.__init__\u001b[0;34m(self, some_method)\u001b[0m\n\u001b[1;32m      9\u001b[0m \u001b[38;5;28;01mdef\u001b[39;00m \u001b[38;5;21m__init__\u001b[39m(\u001b[38;5;28mself\u001b[39m, some_method \u001b[38;5;241m=\u001b[39m my_print):\n\u001b[1;32m     10\u001b[0m     \u001b[38;5;28mself\u001b[39m\u001b[38;5;241m.\u001b[39msome_method \u001b[38;5;241m=\u001b[39m some_method\n\u001b[0;32m---> 11\u001b[0m     \u001b[38;5;28;43mself\u001b[39;49m\u001b[38;5;241;43m.\u001b[39;49m\u001b[43msome_method\u001b[49m\u001b[43m(\u001b[49m\u001b[43m)\u001b[49m\n",
      "\u001b[0;31mTypeError\u001b[0m: my_print() missing 1 required positional argument: 'self'"
     ]
    }
   ],
   "source": [
    "def my_print(self):\n",
    "    print('my print is called')\n",
    "\n",
    "def redefined_print(self):\n",
    "    print('redefined print')\n",
    "\n",
    "class example():\n",
    "\n",
    "    def __init__(self, some_method = my_print):\n",
    "        self.some_method = some_method\n",
    "        self.some_method()\n",
    "\n",
    "    def test(self):\n",
    "        self.some_method()\n",
    "\n",
    "a = example()\n",
    "a.test()"
   ]
  },
  {
   "cell_type": "code",
   "execution_count": 25,
   "metadata": {},
   "outputs": [
    {
     "name": "stdout",
     "output_type": "stream",
     "text": [
      "a\n",
      "b\n"
     ]
    }
   ],
   "source": [
    "table = pd.DataFrame({'a':[1,2,3,4], 'b': [2,3,4,5]})\n",
    "for i in table:\n",
    "    print(i)"
   ]
  }
 ],
 "metadata": {
  "interpreter": {
   "hash": "e7370f93d1d0cde622a1f8e1c04877d8463912d04d973331ad4851f04de6915a"
  },
  "kernelspec": {
   "display_name": "Python 3.10.2 64-bit",
   "language": "python",
   "name": "python3"
  },
  "language_info": {
   "codemirror_mode": {
    "name": "ipython",
    "version": 3
   },
   "file_extension": ".py",
   "mimetype": "text/x-python",
   "name": "python",
   "nbconvert_exporter": "python",
   "pygments_lexer": "ipython3",
   "version": "3.10.2"
  },
  "orig_nbformat": 4
 },
 "nbformat": 4,
 "nbformat_minor": 2
}
