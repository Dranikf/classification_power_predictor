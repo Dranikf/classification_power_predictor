{
 "cells": [
  {
   "cell_type": "markdown",
   "id": "39746abf",
   "metadata": {},
   "source": [
    "# Testing notebook"
   ]
  },
  {
   "cell_type": "code",
   "execution_count": 1,
   "id": "3b59c6fc",
   "metadata": {},
   "outputs": [],
   "source": [
    "import xlsxwriter\n",
    "import pandas as pd\n",
    "import numpy as np\n",
    "\n",
    "from classification_power_predictor import classification_power_predictor\n",
    "from writing import *"
   ]
  },
  {
   "cell_type": "markdown",
   "id": "0c2fe7ca",
   "metadata": {},
   "source": [
    "## We need some testing data"
   ]
  },
  {
   "cell_type": "code",
   "execution_count": 2,
   "id": "95c1aefc",
   "metadata": {},
   "outputs": [],
   "source": [
    "# frame size\n",
    "n = 1000\n",
    "\n",
    "test_frame = pd.DataFrame({\"numeric_variable\": np.random.normal(10, 5, n), \n",
    "                           \"object_variable\": np.round(np.random.uniform(0, 10, n)).astype('O'),\n",
    "                           \"column with soo000oo000oo000oo000oo long name\": np.random.normal(10, 5, n)})\n",
    "\n",
    "nv = test_frame[\"numeric_variable\"]\n",
    "ov = test_frame[\"object_variable\"]\n",
    "\n",
    "probs1 = nv.apply(lambda x: (x/(max(nv) - min(nv))) + ((np.random.rand())/5))\n",
    "probs2 = ov.apply(lambda x: (x/(max(ov) - min(ov))) + ((np.random.rand())/5))\n",
    "\n",
    "f_probs = (probs1 + probs2)/2\n",
    "f_probs[f_probs >= 1] = 1\n",
    "\n",
    "\n",
    "Y = np.zeros(n)\n",
    "Y[f_probs > 0.4] = 1\n",
    "Y[f_probs > 0.7] = 2\n",
    "\n",
    "Y = pd.Series(Y)\n",
    "Y_strs = Y.replace({0: 'cetegory 0', 1:'category 1', 2:'category 2'})\n",
    "Y.value_counts()\n",
    "Y_binary = Y.replace({2:1})\n",
    "\n",
    "na_containts_frame = test_frame.copy()\n",
    "\n",
    "for col in test_frame.columns:\n",
    "    na_containts_frame.loc[na_containts_frame.sample(int(n/50)).index, col] = np.NaN"
   ]
  },
  {
   "cell_type": "markdown",
   "id": "faea01a5",
   "metadata": {},
   "source": [
    "## Computions funcitons"
   ]
  },
  {
   "cell_type": "code",
   "execution_count": 3,
   "id": "10639a29",
   "metadata": {},
   "outputs": [],
   "source": [
    "from computions import *"
   ]
  },
  {
   "cell_type": "markdown",
   "id": "c75f1b01",
   "metadata": {},
   "source": [
    "### get_describe_nominal function test"
   ]
  },
  {
   "cell_type": "markdown",
   "id": "fb231041",
   "metadata": {},
   "source": [
    "Basic situation"
   ]
  },
  {
   "cell_type": "code",
   "execution_count": 4,
   "id": "3954086a",
   "metadata": {},
   "outputs": [
    {
     "data": {
      "text/html": [
       "<div>\n",
       "<style scoped>\n",
       "    .dataframe tbody tr th:only-of-type {\n",
       "        vertical-align: middle;\n",
       "    }\n",
       "\n",
       "    .dataframe tbody tr th {\n",
       "        vertical-align: top;\n",
       "    }\n",
       "\n",
       "    .dataframe thead th {\n",
       "        text-align: right;\n",
       "    }\n",
       "</style>\n",
       "<table border=\"1\" class=\"dataframe\">\n",
       "  <thead>\n",
       "    <tr style=\"text-align: right;\">\n",
       "      <th></th>\n",
       "      <th>object_variable</th>\n",
       "      <th>1.0</th>\n",
       "      <th>1.0%</th>\n",
       "      <th>0.0</th>\n",
       "      <th>0.0%</th>\n",
       "      <th>2.0</th>\n",
       "      <th>2.0%</th>\n",
       "    </tr>\n",
       "  </thead>\n",
       "  <tbody>\n",
       "    <tr>\n",
       "      <th>2.0</th>\n",
       "      <td>107</td>\n",
       "      <td>30.0</td>\n",
       "      <td>28.037383</td>\n",
       "      <td>77.0</td>\n",
       "      <td>71.962617</td>\n",
       "      <td>0.0</td>\n",
       "      <td>0.000000</td>\n",
       "    </tr>\n",
       "    <tr>\n",
       "      <th>9.0</th>\n",
       "      <td>106</td>\n",
       "      <td>59.0</td>\n",
       "      <td>55.660377</td>\n",
       "      <td>0.0</td>\n",
       "      <td>0.000000</td>\n",
       "      <td>47.0</td>\n",
       "      <td>44.339623</td>\n",
       "    </tr>\n",
       "    <tr>\n",
       "      <th>3.0</th>\n",
       "      <td>105</td>\n",
       "      <td>53.0</td>\n",
       "      <td>50.476190</td>\n",
       "      <td>52.0</td>\n",
       "      <td>49.523810</td>\n",
       "      <td>0.0</td>\n",
       "      <td>0.000000</td>\n",
       "    </tr>\n",
       "    <tr>\n",
       "      <th>6.0</th>\n",
       "      <td>104</td>\n",
       "      <td>93.0</td>\n",
       "      <td>89.423077</td>\n",
       "      <td>8.0</td>\n",
       "      <td>7.692308</td>\n",
       "      <td>3.0</td>\n",
       "      <td>2.884615</td>\n",
       "    </tr>\n",
       "    <tr>\n",
       "      <th>7.0</th>\n",
       "      <td>102</td>\n",
       "      <td>86.0</td>\n",
       "      <td>84.313725</td>\n",
       "      <td>0.0</td>\n",
       "      <td>0.000000</td>\n",
       "      <td>16.0</td>\n",
       "      <td>15.686275</td>\n",
       "    </tr>\n",
       "    <tr>\n",
       "      <th>8.0</th>\n",
       "      <td>99</td>\n",
       "      <td>64.0</td>\n",
       "      <td>64.646465</td>\n",
       "      <td>0.0</td>\n",
       "      <td>0.000000</td>\n",
       "      <td>35.0</td>\n",
       "      <td>35.353535</td>\n",
       "    </tr>\n",
       "    <tr>\n",
       "      <th>5.0</th>\n",
       "      <td>98</td>\n",
       "      <td>87.0</td>\n",
       "      <td>88.775510</td>\n",
       "      <td>8.0</td>\n",
       "      <td>8.163265</td>\n",
       "      <td>3.0</td>\n",
       "      <td>3.061224</td>\n",
       "    </tr>\n",
       "    <tr>\n",
       "      <th>1.0</th>\n",
       "      <td>86</td>\n",
       "      <td>6.0</td>\n",
       "      <td>6.976744</td>\n",
       "      <td>80.0</td>\n",
       "      <td>93.023256</td>\n",
       "      <td>0.0</td>\n",
       "      <td>0.000000</td>\n",
       "    </tr>\n",
       "    <tr>\n",
       "      <th>4.0</th>\n",
       "      <td>82</td>\n",
       "      <td>54.0</td>\n",
       "      <td>65.853659</td>\n",
       "      <td>28.0</td>\n",
       "      <td>34.146341</td>\n",
       "      <td>0.0</td>\n",
       "      <td>0.000000</td>\n",
       "    </tr>\n",
       "    <tr>\n",
       "      <th>10.0</th>\n",
       "      <td>56</td>\n",
       "      <td>15.0</td>\n",
       "      <td>26.785714</td>\n",
       "      <td>0.0</td>\n",
       "      <td>0.000000</td>\n",
       "      <td>41.0</td>\n",
       "      <td>73.214286</td>\n",
       "    </tr>\n",
       "    <tr>\n",
       "      <th>0.0</th>\n",
       "      <td>55</td>\n",
       "      <td>0.0</td>\n",
       "      <td>0.000000</td>\n",
       "      <td>55.0</td>\n",
       "      <td>100.000000</td>\n",
       "      <td>0.0</td>\n",
       "      <td>0.000000</td>\n",
       "    </tr>\n",
       "  </tbody>\n",
       "</table>\n",
       "</div>"
      ],
      "text/plain": [
       "      object_variable   1.0       1.0%   0.0        0.0%   2.0       2.0%\n",
       "2.0               107  30.0  28.037383  77.0   71.962617   0.0   0.000000\n",
       "9.0               106  59.0  55.660377   0.0    0.000000  47.0  44.339623\n",
       "3.0               105  53.0  50.476190  52.0   49.523810   0.0   0.000000\n",
       "6.0               104  93.0  89.423077   8.0    7.692308   3.0   2.884615\n",
       "7.0               102  86.0  84.313725   0.0    0.000000  16.0  15.686275\n",
       "8.0                99  64.0  64.646465   0.0    0.000000  35.0  35.353535\n",
       "5.0                98  87.0  88.775510   8.0    8.163265   3.0   3.061224\n",
       "1.0                86   6.0   6.976744  80.0   93.023256   0.0   0.000000\n",
       "4.0                82  54.0  65.853659  28.0   34.146341   0.0   0.000000\n",
       "10.0               56  15.0  26.785714   0.0    0.000000  41.0  73.214286\n",
       "0.0                55   0.0   0.000000  55.0  100.000000   0.0   0.000000"
      ]
     },
     "execution_count": 4,
     "metadata": {},
     "output_type": "execute_result"
    }
   ],
   "source": [
    "get_describe_nominal(test_frame.iloc[:,1], Y)"
   ]
  },
  {
   "cell_type": "markdown",
   "id": "6c801486",
   "metadata": {},
   "source": [
    "Data frame with emptys"
   ]
  },
  {
   "cell_type": "code",
   "execution_count": 5,
   "id": "5dca1007",
   "metadata": {},
   "outputs": [
    {
     "name": "stdout",
     "output_type": "stream",
     "text": [
      "Is all obs. are in table -  False\n",
      "Is all obs. are in table -  True\n"
     ]
    }
   ],
   "source": [
    "test = get_describe_nominal(na_containts_frame.iloc[:,1], Y)\n",
    "print(\"Is all obs. are in table - \",  str(test['object_variable'].sum() == n))\n",
    "test = get_describe_nominal(na_containts_frame.fillna('empty').iloc[:,1], Y)\n",
    "print(\"Is all obs. are in table - \",  str(test['object_variable'].sum() == n))"
   ]
  },
  {
   "cell_type": "markdown",
   "id": "e7ed1137",
   "metadata": {},
   "source": [
    "### AUC computing test\n",
    "\n",
    "AUC numeric - simple fucntion"
   ]
  },
  {
   "cell_type": "code",
   "execution_count": 6,
   "id": "67bb1cf7",
   "metadata": {},
   "outputs": [
    {
     "name": "stdout",
     "output_type": "stream",
     "text": [
      "{1.0: 0.5070038863396976, 0.0: 0.3267819608137527, 2.0: 0.7837951199838677}\n",
      "{'category 1': 0.5070038863396976, 'cetegory 0': 0.3267819608137527, 'category 2': 0.7837951199838677}\n",
      "{'category 1': 0.5103769820434737, 'cetegory 0': 0.32596445811273744, 'category 2': 0.7814436301236697}\n",
      "{1.0: 0.6732180391862473, 0.0: 0.3267819608137527}\n"
     ]
    }
   ],
   "source": [
    "print(get_AUC_numeric(test_frame['numeric_variable'] ,Y))\n",
    "print(get_AUC_numeric(test_frame['numeric_variable'], Y_strs))\n",
    "print(get_AUC_numeric(na_containts_frame['numeric_variable'], Y_strs))\n",
    "print(get_AUC_numeric(test_frame['numeric_variable'], Y_binary))"
   ]
  },
  {
   "cell_type": "markdown",
   "id": "6bcfed18",
   "metadata": {},
   "source": [
    "AUC nominal"
   ]
  },
  {
   "cell_type": "code",
   "execution_count": 7,
   "id": "f3213fdd",
   "metadata": {},
   "outputs": [
    {
     "name": "stdout",
     "output_type": "stream",
     "text": [
      "{'category 1': 0.8264182314934763, 'cetegory 0': 0.9431958937016741, 'category 2': 0.9118531962089131}\n",
      "AUC bynary\n",
      "{1.0: 0.943195893701674, 0.0: 0.9431958937016741}\n",
      "AUC with emptys\n",
      "{'category 1': 0.6748342728392415, 'cetegory 0': 0.05636097642125659, 'category 2': 0.9124424350398334}\n"
     ]
    }
   ],
   "source": [
    "non_table = get_AUC_nominal(test_frame['object_variable'], Y)\n",
    "dn_tab = get_describe_nominal(test_frame.iloc[:,1], Y_strs)\n",
    "with_table = get_AUC_nominal(test_frame['object_variable'], Y_strs, dn_tab)\n",
    "print(with_table)\n",
    "\n",
    "print('AUC bynary')\n",
    "print(get_AUC_nominal(test_frame['object_variable'], Y_binary))\n",
    "\n",
    "print('AUC with emptys')\n",
    "print(get_AUC_numeric(na_containts_frame['object_variable'], Y_strs))"
   ]
  },
  {
   "cell_type": "markdown",
   "id": "2822fc40",
   "metadata": {},
   "source": [
    "Get publish AUC for any predictor type"
   ]
  },
  {
   "cell_type": "code",
   "execution_count": 8,
   "id": "94a81646",
   "metadata": {},
   "outputs": [
    {
     "name": "stdout",
     "output_type": "stream",
     "text": [
      "nominal predictor without table\n",
      "{1.0: {'AUC': 0.8264182314934763, 'rel_type': 1, 'GINI': 0.6528364629869525}, 0.0: {'AUC': 0.9431958937016741, 'rel_type': 1, 'GINI': 0.8863917874033482}, 2.0: {'AUC': 0.9118531962089131, 'rel_type': 1, 'GINI': 0.8237063924178263}}\n",
      "moninal predictor with table\n",
      "{'category 1': {'AUC': 0.8264182314934763, 'rel_type': 1, 'GINI': 0.6528364629869525}, 'cetegory 0': {'AUC': 0.9431958937016741, 'rel_type': 1, 'GINI': 0.8863917874033482}, 'category 2': {'AUC': 0.9118531962089131, 'rel_type': 1, 'GINI': 0.8237063924178263}}\n",
      "numeric predictor\n",
      "{1.0: {'AUC': 0.5070038863396976, 'rel_type': 1, 'GINI': 0.014007772679395236}, 0.0: {'AUC': 0.6732180391862472, 'rel_type': -1, 'GINI': 0.34643607837249446}, 2.0: {'AUC': 0.7837951199838677, 'rel_type': 1, 'GINI': 0.5675902399677355}}\n"
     ]
    }
   ],
   "source": [
    "non_table = get_full_AUC(test_frame['object_variable'], Y, 'nominal')\n",
    "print('nominal predictor without table')\n",
    "print(non_table)\n",
    "\n",
    "\n",
    "with_table = get_full_AUC(test_frame['object_variable'], Y_strs, 'nominal', dn_tab)\n",
    "print('moninal predictor with table')\n",
    "print(with_table)\n",
    "\n",
    "numeric_var = get_full_AUC(test_frame['numeric_variable'], Y, 'numeric')\n",
    "print('numeric predictor')\n",
    "print(numeric_var)"
   ]
  },
  {
   "cell_type": "markdown",
   "id": "99161e41",
   "metadata": {},
   "source": [
    "## Writing to excel"
   ]
  },
  {
   "cell_type": "markdown",
   "id": "007e606b",
   "metadata": {},
   "source": [
    "Adding a new sheet"
   ]
  },
  {
   "cell_type": "code",
   "execution_count": 9,
   "id": "16d855b2",
   "metadata": {},
   "outputs": [],
   "source": [
    "xl_writer = pd.ExcelWriter(\"test_result/sheet_creation.xlsx\",engine='xlsxwriter')\n",
    "\n",
    "\n",
    "for i in range(20):\n",
    "    add_sheet(xl_writer, 'some name')\n",
    "    add_sheet(xl_writer, 'some very very very long long name')\n",
    "xl_writer.close()"
   ]
  },
  {
   "cell_type": "markdown",
   "id": "1bc367dd",
   "metadata": {},
   "source": [
    "Adding a info about different predictors"
   ]
  },
  {
   "cell_type": "code",
   "execution_count": 10,
   "id": "84079594",
   "metadata": {},
   "outputs": [
    {
     "ename": "UnboundLocalError",
     "evalue": "local variable 'header_info' referenced before assignment",
     "output_type": "error",
     "traceback": [
      "\u001b[0;31m---------------------------------------------------------------------------\u001b[0m",
      "\u001b[0;31mUnboundLocalError\u001b[0m                         Traceback (most recent call last)",
      "Input \u001b[0;32mIn [10]\u001b[0m, in \u001b[0;36m<module>\u001b[0;34m\u001b[0m\n\u001b[1;32m      3\u001b[0m my_cpp \u001b[38;5;241m=\u001b[39m classification_power_predictor(test_frame, Y)\n\u001b[1;32m      4\u001b[0m my_cpp\u001b[38;5;241m.\u001b[39mupdate_predictors()\n\u001b[0;32m----> 5\u001b[0m \u001b[43mmy_cpp\u001b[49m\u001b[38;5;241;43m.\u001b[39;49m\u001b[43mwrite_to_book\u001b[49m\u001b[43m(\u001b[49m\u001b[43mxl_writer\u001b[49m\u001b[43m)\u001b[49m\n\u001b[1;32m      6\u001b[0m xl_writer\u001b[38;5;241m.\u001b[39mclose()\n",
      "File \u001b[0;32m~/KFA/work/classifying_power_predictor/classification_power_predictor.py:76\u001b[0m, in \u001b[0;36mclassification_power_predictor.write_to_book\u001b[0;34m(self, xl_writer)\u001b[0m\n\u001b[1;32m     74\u001b[0m \u001b[38;5;28;01mfor\u001b[39;00m col_data \u001b[38;5;129;01min\u001b[39;00m \u001b[38;5;28mself\u001b[39m\u001b[38;5;241m.\u001b[39m_predictors_data\u001b[38;5;241m.\u001b[39mvalues():\n\u001b[1;32m     75\u001b[0m     curr_shit_name \u001b[38;5;241m=\u001b[39m add_sheet(xl_writer, col_data[\u001b[38;5;124m'\u001b[39m\u001b[38;5;124mname\u001b[39m\u001b[38;5;124m'\u001b[39m])\n\u001b[0;32m---> 76\u001b[0m     \u001b[38;5;28;43mself\u001b[39;49m\u001b[38;5;241;43m.\u001b[39;49m\u001b[43mheader_creator\u001b[49m\u001b[43m(\u001b[49m\u001b[43mxl_writer\u001b[49m\u001b[38;5;241;43m.\u001b[39;49m\u001b[43msheets\u001b[49m\u001b[43m[\u001b[49m\u001b[43mcurr_shit_name\u001b[49m\u001b[43m]\u001b[49m\u001b[43m,\u001b[49m\u001b[43m \u001b[49m\u001b[43mcol_data\u001b[49m\u001b[43m,\u001b[49m\u001b[43m \u001b[49m\u001b[43mdefault_header_format\u001b[49m\u001b[43m)\u001b[49m\n",
      "File \u001b[0;32m~/KFA/work/classifying_power_predictor/writing.py:44\u001b[0m, in \u001b[0;36mdefault_header_creator\u001b[0;34m(calling_obj, sheet, predictors_data, default_format)\u001b[0m\n\u001b[1;32m     36\u001b[0m \u001b[38;5;124;03m'''Создание заголовка описывающего переменную и его нанаесение на лист'''\u001b[39;00m\n\u001b[1;32m     37\u001b[0m \u001b[38;5;66;03m# inputs:\u001b[39;00m\n\u001b[1;32m     38\u001b[0m \u001b[38;5;66;03m# col - имя колонки которой посвящен лист\u001b[39;00m\n\u001b[1;32m     39\u001b[0m \u001b[38;5;66;03m# df_name - название data frame который обрабатывается\u001b[39;00m\n\u001b[1;32m     40\u001b[0m \u001b[38;5;66;03m# is_numeric - маркер, что даст понять численная ли переменная\u001b[39;00m\n\u001b[1;32m     41\u001b[0m \u001b[38;5;66;03m# header_format - формат ячеки заголовка\u001b[39;00m\n\u001b[1;32m     42\u001b[0m \u001b[38;5;66;03m# header_range - диапазон в который ляжет ячейка заголовок\u001b[39;00m\n\u001b[0;32m---> 44\u001b[0m header_info \u001b[38;5;241m+\u001b[39m\u001b[38;5;241m=\u001b[39m   (\u001b[38;5;124m'\u001b[39m\u001b[38;5;124mColumn: \u001b[39m\u001b[38;5;124m'\u001b[39m \u001b[38;5;241m+\u001b[39m predictors_data[\u001b[38;5;124m'\u001b[39m\u001b[38;5;124mname\u001b[39m\u001b[38;5;124m'\u001b[39m] \u001b[38;5;241m+\u001b[39m \u001b[38;5;124m'\u001b[39m\u001b[38;5;130;01m\\n\u001b[39;00m\u001b[38;5;124m'\u001b[39m \u001b[38;5;241m+\u001b[39m \n\u001b[1;32m     45\u001b[0m                  \u001b[38;5;124m'\u001b[39m\u001b[38;5;124mType: \u001b[39m\u001b[38;5;124m'\u001b[39m\u001b[38;5;241m+\u001b[39m  predictors_data[\u001b[38;5;124m'\u001b[39m\u001b[38;5;124mpredictor_type\u001b[39m\u001b[38;5;124m'\u001b[39m])\n\u001b[1;32m     46\u001b[0m sheet\u001b[38;5;241m.\u001b[39mmerge_range(\u001b[38;5;124m\"\u001b[39m\u001b[38;5;124mA1:K10\u001b[39m\u001b[38;5;124m\"\u001b[39m, header_info , default_format)\n",
      "\u001b[0;31mUnboundLocalError\u001b[0m: local variable 'header_info' referenced before assignment"
     ]
    }
   ],
   "source": [
    "xl_writer = pd.ExcelWriter(\"test_result/write_to_book.xlsx\",engine='xlsxwriter')\n",
    "\n",
    "my_cpp = classification_power_predictor(test_frame, Y)\n",
    "my_cpp.update_predictors()\n",
    "my_cpp.write_to_book(xl_writer)\n",
    "xl_writer.close()"
   ]
  }
 ],
 "metadata": {
  "kernelspec": {
   "display_name": "Python 3 (ipykernel)",
   "language": "python",
   "name": "python3"
  },
  "language_info": {
   "codemirror_mode": {
    "name": "ipython",
    "version": 3
   },
   "file_extension": ".py",
   "mimetype": "text/x-python",
   "name": "python",
   "nbconvert_exporter": "python",
   "pygments_lexer": "ipython3",
   "version": "3.10.2"
  }
 },
 "nbformat": 4,
 "nbformat_minor": 5
}
