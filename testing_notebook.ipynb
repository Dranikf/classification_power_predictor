{
 "cells": [
  {
   "cell_type": "markdown",
   "id": "39746abf",
   "metadata": {},
   "source": [
    "# Testing notebook"
   ]
  },
  {
   "cell_type": "code",
   "execution_count": 74,
   "id": "3b59c6fc",
   "metadata": {},
   "outputs": [],
   "source": [
    "import xlsxwriter\n",
    "import pandas as pd\n",
    "import numpy as np\n",
    "\n",
    "from classification_power_predictor import classification_power_predictor\n",
    "from writing import *"
   ]
  },
  {
   "cell_type": "markdown",
   "id": "0c2fe7ca",
   "metadata": {},
   "source": [
    "## We need some testing data"
   ]
  },
  {
   "cell_type": "code",
   "execution_count": 75,
   "id": "95c1aefc",
   "metadata": {},
   "outputs": [],
   "source": [
    "# frame size\n",
    "n = 1000\n",
    "\n",
    "test_frame = pd.DataFrame({\"numeric_variable\": np.random.normal(10, 5, n), \n",
    "                           \"object_variable\": np.round(np.random.uniform(0, 10, n)).astype('O'),\n",
    "                           \"column with soo000oo000oo000oo000oo long name\": np.random.normal(10, 5, n)})\n",
    "\n",
    "nv = test_frame[\"numeric_variable\"]\n",
    "ov = test_frame[\"object_variable\"]\n",
    "\n",
    "probs1 = nv.apply(lambda x: (x/(max(nv) - min(nv))) + ((np.random.rand())/5))\n",
    "probs2 = ov.apply(lambda x: (x/(max(ov) - min(ov))) + ((np.random.rand())/5))\n",
    "\n",
    "f_probs = (probs1 + probs2)/2\n",
    "f_probs[f_probs >= 1] = 1\n",
    "\n",
    "\n",
    "Y = np.zeros(n)\n",
    "Y[f_probs > 0.4] = 1\n",
    "Y[f_probs > 0.7] = 2\n",
    "\n",
    "Y = pd.Series(Y)\n",
    "Y_strs = Y.replace({0: 'cetegory 0', 1:'category 1', 2:'category 2'})\n",
    "Y.value_counts()\n",
    "Y_binary = Y.replace({2:1})\n",
    "\n",
    "na_containts_frame = test_frame.copy()\n",
    "\n",
    "for col in test_frame.columns:\n",
    "    na_containts_frame.loc[na_containts_frame.sample(int(n/50)).index, col] = np.NaN"
   ]
  },
  {
   "cell_type": "markdown",
   "id": "faea01a5",
   "metadata": {},
   "source": [
    "## Computions funcitons"
   ]
  },
  {
   "cell_type": "code",
   "execution_count": 76,
   "id": "10639a29",
   "metadata": {},
   "outputs": [],
   "source": [
    "from computions import *"
   ]
  },
  {
   "cell_type": "markdown",
   "id": "c75f1b01",
   "metadata": {},
   "source": [
    "### get_describe_nominal function test"
   ]
  },
  {
   "cell_type": "markdown",
   "id": "fb231041",
   "metadata": {},
   "source": [
    "Basic situation"
   ]
  },
  {
   "cell_type": "code",
   "execution_count": 77,
   "id": "3954086a",
   "metadata": {},
   "outputs": [
    {
     "data": {
      "text/html": [
       "<div>\n",
       "<style scoped>\n",
       "    .dataframe tbody tr th:only-of-type {\n",
       "        vertical-align: middle;\n",
       "    }\n",
       "\n",
       "    .dataframe tbody tr th {\n",
       "        vertical-align: top;\n",
       "    }\n",
       "\n",
       "    .dataframe thead th {\n",
       "        text-align: right;\n",
       "    }\n",
       "</style>\n",
       "<table border=\"1\" class=\"dataframe\">\n",
       "  <thead>\n",
       "    <tr style=\"text-align: right;\">\n",
       "      <th></th>\n",
       "      <th>object_variable</th>\n",
       "      <th>1.0</th>\n",
       "      <th>1.0%</th>\n",
       "      <th>2.0</th>\n",
       "      <th>2.0%</th>\n",
       "      <th>0.0</th>\n",
       "      <th>0.0%</th>\n",
       "    </tr>\n",
       "  </thead>\n",
       "  <tbody>\n",
       "    <tr>\n",
       "      <th>4.0</th>\n",
       "      <td>111</td>\n",
       "      <td>79</td>\n",
       "      <td>71.171171</td>\n",
       "      <td>1.0</td>\n",
       "      <td>0.900901</td>\n",
       "      <td>31.0</td>\n",
       "      <td>27.927928</td>\n",
       "    </tr>\n",
       "    <tr>\n",
       "      <th>1.0</th>\n",
       "      <td>107</td>\n",
       "      <td>20</td>\n",
       "      <td>18.691589</td>\n",
       "      <td>0.0</td>\n",
       "      <td>0.000000</td>\n",
       "      <td>87.0</td>\n",
       "      <td>81.308411</td>\n",
       "    </tr>\n",
       "    <tr>\n",
       "      <th>7.0</th>\n",
       "      <td>106</td>\n",
       "      <td>78</td>\n",
       "      <td>73.584906</td>\n",
       "      <td>27.0</td>\n",
       "      <td>25.471698</td>\n",
       "      <td>1.0</td>\n",
       "      <td>0.943396</td>\n",
       "    </tr>\n",
       "    <tr>\n",
       "      <th>9.0</th>\n",
       "      <td>103</td>\n",
       "      <td>42</td>\n",
       "      <td>40.776699</td>\n",
       "      <td>61.0</td>\n",
       "      <td>59.223301</td>\n",
       "      <td>0.0</td>\n",
       "      <td>0.000000</td>\n",
       "    </tr>\n",
       "    <tr>\n",
       "      <th>6.0</th>\n",
       "      <td>98</td>\n",
       "      <td>90</td>\n",
       "      <td>91.836735</td>\n",
       "      <td>5.0</td>\n",
       "      <td>5.102041</td>\n",
       "      <td>3.0</td>\n",
       "      <td>3.061224</td>\n",
       "    </tr>\n",
       "    <tr>\n",
       "      <th>8.0</th>\n",
       "      <td>97</td>\n",
       "      <td>60</td>\n",
       "      <td>61.855670</td>\n",
       "      <td>37.0</td>\n",
       "      <td>38.144330</td>\n",
       "      <td>0.0</td>\n",
       "      <td>0.000000</td>\n",
       "    </tr>\n",
       "    <tr>\n",
       "      <th>3.0</th>\n",
       "      <td>95</td>\n",
       "      <td>56</td>\n",
       "      <td>58.947368</td>\n",
       "      <td>0.0</td>\n",
       "      <td>0.000000</td>\n",
       "      <td>39.0</td>\n",
       "      <td>41.052632</td>\n",
       "    </tr>\n",
       "    <tr>\n",
       "      <th>2.0</th>\n",
       "      <td>91</td>\n",
       "      <td>33</td>\n",
       "      <td>36.263736</td>\n",
       "      <td>0.0</td>\n",
       "      <td>0.000000</td>\n",
       "      <td>58.0</td>\n",
       "      <td>63.736264</td>\n",
       "    </tr>\n",
       "    <tr>\n",
       "      <th>5.0</th>\n",
       "      <td>82</td>\n",
       "      <td>70</td>\n",
       "      <td>85.365854</td>\n",
       "      <td>4.0</td>\n",
       "      <td>4.878049</td>\n",
       "      <td>8.0</td>\n",
       "      <td>9.756098</td>\n",
       "    </tr>\n",
       "    <tr>\n",
       "      <th>10.0</th>\n",
       "      <td>63</td>\n",
       "      <td>12</td>\n",
       "      <td>19.047619</td>\n",
       "      <td>51.0</td>\n",
       "      <td>80.952381</td>\n",
       "      <td>0.0</td>\n",
       "      <td>0.000000</td>\n",
       "    </tr>\n",
       "    <tr>\n",
       "      <th>0.0</th>\n",
       "      <td>47</td>\n",
       "      <td>2</td>\n",
       "      <td>4.255319</td>\n",
       "      <td>0.0</td>\n",
       "      <td>0.000000</td>\n",
       "      <td>45.0</td>\n",
       "      <td>95.744681</td>\n",
       "    </tr>\n",
       "  </tbody>\n",
       "</table>\n",
       "</div>"
      ],
      "text/plain": [
       "      object_variable  1.0       1.0%   2.0       2.0%   0.0       0.0%\n",
       "4.0               111   79  71.171171   1.0   0.900901  31.0  27.927928\n",
       "1.0               107   20  18.691589   0.0   0.000000  87.0  81.308411\n",
       "7.0               106   78  73.584906  27.0  25.471698   1.0   0.943396\n",
       "9.0               103   42  40.776699  61.0  59.223301   0.0   0.000000\n",
       "6.0                98   90  91.836735   5.0   5.102041   3.0   3.061224\n",
       "8.0                97   60  61.855670  37.0  38.144330   0.0   0.000000\n",
       "3.0                95   56  58.947368   0.0   0.000000  39.0  41.052632\n",
       "2.0                91   33  36.263736   0.0   0.000000  58.0  63.736264\n",
       "5.0                82   70  85.365854   4.0   4.878049   8.0   9.756098\n",
       "10.0               63   12  19.047619  51.0  80.952381   0.0   0.000000\n",
       "0.0                47    2   4.255319   0.0   0.000000  45.0  95.744681"
      ]
     },
     "execution_count": 77,
     "metadata": {},
     "output_type": "execute_result"
    }
   ],
   "source": [
    "get_describe_nominal(test_frame.iloc[:,1], Y)"
   ]
  },
  {
   "cell_type": "markdown",
   "id": "6c801486",
   "metadata": {},
   "source": [
    "Data frame with emptys"
   ]
  },
  {
   "cell_type": "code",
   "execution_count": 78,
   "id": "5dca1007",
   "metadata": {},
   "outputs": [
    {
     "name": "stdout",
     "output_type": "stream",
     "text": [
      "Is all obs. are in table -  False\n",
      "Is all obs. are in table -  True\n"
     ]
    }
   ],
   "source": [
    "test = get_describe_nominal(na_containts_frame.iloc[:,1], Y)\n",
    "print(\"Is all obs. are in table - \",  str(test['object_variable'].sum() == n))\n",
    "test = get_describe_nominal(na_containts_frame.fillna('empty').iloc[:,1], Y)\n",
    "print(\"Is all obs. are in table - \",  str(test['object_variable'].sum() == n))"
   ]
  },
  {
   "cell_type": "markdown",
   "id": "e7ed1137",
   "metadata": {},
   "source": [
    "### AUC computing test\n",
    "\n",
    "AUC numeric - simple fucntion"
   ]
  },
  {
   "cell_type": "code",
   "execution_count": 79,
   "id": "67bb1cf7",
   "metadata": {},
   "outputs": [
    {
     "name": "stdout",
     "output_type": "stream",
     "text": [
      "{1.0: 0.5219025443529544, 2.0: 0.7708845208845209, 0.0: 0.26542299612152553}\n",
      "{'category 1': 0.5219025443529544, 'category 2': 0.7708845208845209, 'cetegory 0': 0.26542299612152553}\n",
      "{'category 1': 0.5263438155136269, 'category 2': 0.7654457574730844, 'cetegory 0': 0.2664345207284363}\n",
      "{1.0: 0.7345770038784745, 0.0: 0.26542299612152553}\n"
     ]
    }
   ],
   "source": [
    "print(get_AUC_numeric(test_frame['numeric_variable'] ,Y))\n",
    "print(get_AUC_numeric(test_frame['numeric_variable'], Y_strs))\n",
    "print(get_AUC_numeric(na_containts_frame['numeric_variable'], Y_strs))\n",
    "print(get_AUC_numeric(test_frame['numeric_variable'], Y_binary))"
   ]
  },
  {
   "cell_type": "markdown",
   "id": "6bcfed18",
   "metadata": {},
   "source": [
    "AUC nominal"
   ]
  },
  {
   "cell_type": "code",
   "execution_count": 80,
   "id": "f3213fdd",
   "metadata": {},
   "outputs": [
    {
     "name": "stdout",
     "output_type": "stream",
     "text": [
      "{'category 1': 0.7968868334971559, 'category 2': 0.9175186917122401, 'cetegory 0': 0.9272079023917259}\n",
      "AUC bynary\n",
      "{1.0: 0.927207902391726, 0.0: 0.9272079023917259}\n",
      "AUC with emptys\n",
      "{'category 1': 0.5854077684959699, 'category 2': 0.916822563906489, 'cetegory 0': 0.07227729013347624}\n"
     ]
    }
   ],
   "source": [
    "non_table = get_AUC_nominal(test_frame['object_variable'], Y)\n",
    "dn_tab = get_describe_nominal(test_frame.iloc[:,1], Y_strs)\n",
    "with_table = get_AUC_nominal(test_frame['object_variable'], Y_strs, dn_tab)\n",
    "print(with_table)\n",
    "\n",
    "print('AUC bynary')\n",
    "print(get_AUC_nominal(test_frame['object_variable'], Y_binary))\n",
    "\n",
    "print('AUC with emptys')\n",
    "print(get_AUC_numeric(na_containts_frame['object_variable'], Y_strs))"
   ]
  },
  {
   "cell_type": "markdown",
   "id": "2822fc40",
   "metadata": {},
   "source": [
    "Get publish AUC for any predictor type"
   ]
  },
  {
   "cell_type": "code",
   "execution_count": 81,
   "id": "94a81646",
   "metadata": {},
   "outputs": [
    {
     "name": "stdout",
     "output_type": "stream",
     "text": [
      "nominal predictor without table\n",
      "{1.0: {'AUC': 0.7968868334971559, 'rel_type': 1, 'GINI': 0.5937736669943119}, 2.0: {'AUC': 0.9175186917122401, 'rel_type': 1, 'GINI': 0.8350373834244802}, 0.0: {'AUC': 0.9272079023917259, 'rel_type': 1, 'GINI': 0.8544158047834518}}\n",
      "moninal predictor with table\n",
      "{'category 1': {'AUC': 0.7968868334971559, 'rel_type': 1, 'GINI': 0.5937736669943119}, 'category 2': {'AUC': 0.9175186917122401, 'rel_type': 1, 'GINI': 0.8350373834244802}, 'cetegory 0': {'AUC': 0.9272079023917259, 'rel_type': 1, 'GINI': 0.8544158047834518}}\n",
      "numeric predictor\n",
      "{1.0: {'AUC': 0.5219025443529544, 'rel_type': 1, 'GINI': 0.04380508870590871}, 2.0: {'AUC': 0.7708845208845209, 'rel_type': 1, 'GINI': 0.5417690417690417}, 0.0: {'AUC': 0.7345770038784745, 'rel_type': -1, 'GINI': 0.46915400775694893}}\n"
     ]
    }
   ],
   "source": [
    "non_table = get_full_AUC(test_frame['object_variable'], Y, 'nominal')\n",
    "print('nominal predictor without table')\n",
    "print(non_table)\n",
    "\n",
    "\n",
    "with_table = get_full_AUC(test_frame['object_variable'], Y_strs, 'nominal', dn_tab)\n",
    "print('moninal predictor with table')\n",
    "print(with_table)\n",
    "\n",
    "numeric_var = get_full_AUC(test_frame['numeric_variable'], Y, 'numeric')\n",
    "print('numeric predictor')\n",
    "print(numeric_var)"
   ]
  },
  {
   "cell_type": "markdown",
   "id": "99161e41",
   "metadata": {},
   "source": [
    "## Writing to excel"
   ]
  },
  {
   "cell_type": "markdown",
   "id": "007e606b",
   "metadata": {},
   "source": [
    "Adding a new sheet"
   ]
  },
  {
   "cell_type": "code",
   "execution_count": 95,
   "id": "1c193a6f",
   "metadata": {},
   "outputs": [],
   "source": [
    "xl_writer.close()"
   ]
  },
  {
   "cell_type": "code",
   "execution_count": 100,
   "id": "16d855b2",
   "metadata": {},
   "outputs": [
    {
     "name": "stdout",
     "output_type": "stream",
     "text": [
      "test\n"
     ]
    }
   ],
   "source": [
    "xl_writer = pd.ExcelWriter(\"test_result/test.xlsx\",engine='xlsxwriter')\n",
    "\n",
    "\n",
    "for i in range(20):\n",
    "    add_sheet(xl_writer, 'some name')\n",
    "    add_sheet(xl_writer, 'some very very very long long name')\n",
    "xl_writer.close()"
   ]
  },
  {
   "cell_type": "code",
   "execution_count": 10,
   "id": "84079594",
   "metadata": {},
   "outputs": [],
   "source": [
    "my_cpp = classification_power_predictor(test_frame, Y)\n",
    "my_cpp.update_predictors()\n",
    "#my_cpp.write_to_book(xl_writer)"
   ]
  },
  {
   "cell_type": "code",
   "execution_count": 13,
   "id": "19fbecde",
   "metadata": {},
   "outputs": [
    {
     "data": {
      "text/plain": [
       "{'name': 'object_variable',\n",
       " 'emptys_count': 0,\n",
       " 'predictor_type': 'nominal',\n",
       " 'describe_table':       object_variable  1.0       1.0%   0.0       0.0%   2.0       2.0%\n",
       " 6.0               123  112  91.056911   7.0   5.691057   4.0   3.252033\n",
       " 1.0               113   22  19.469027  91.0  80.530973   0.0   0.000000\n",
       " 8.0               110   80  72.727273   0.0   0.000000  30.0  27.272727\n",
       " 2.0               107   21  19.626168  86.0  80.373832   0.0   0.000000\n",
       " 9.0               102   51  50.000000   0.0   0.000000  51.0  50.000000\n",
       " 3.0                94   48  51.063830  46.0  48.936170   0.0   0.000000\n",
       " 7.0                91   80  87.912088   1.0   1.098901  10.0  10.989011\n",
       " 5.0                87   79  90.804598   7.0   8.045977   1.0   1.149425\n",
       " 4.0                82   63  76.829268  19.0  23.170732   0.0   0.000000\n",
       " 0.0                49    4   8.163265  45.0  91.836735   0.0   0.000000\n",
       " 10.0               42    7  16.666667   0.0   0.000000  35.0  83.333333,\n",
       " 'AUC_data': {1.0: {'AUC': 0.8389461164672865,\n",
       "   'rel_type': 1,\n",
       "   'GINI': 0.6778922329345729},\n",
       "  0.0: {'AUC': 0.933013434790034, 'rel_type': 1, 'GINI': 0.8660268695800679},\n",
       "  2.0: {'AUC': 0.9297253138203955, 'rel_type': 1, 'GINI': 0.8594506276407909}}}"
      ]
     },
     "execution_count": 13,
     "metadata": {},
     "output_type": "execute_result"
    }
   ],
   "source": [
    "predictos_data = my_cpp.get_predictors_data()\n",
    "predictos_data['object_variable']"
   ]
  },
  {
   "cell_type": "markdown",
   "id": "eba3f8f6",
   "metadata": {},
   "source": [
    "## Saving the results"
   ]
  },
  {
   "cell_type": "code",
   "execution_count": 7,
   "id": "0c04ce03",
   "metadata": {},
   "outputs": [],
   "source": [
    "xl_writer.close()"
   ]
  }
 ],
 "metadata": {
  "kernelspec": {
   "display_name": "Python 3 (ipykernel)",
   "language": "python",
   "name": "python3"
  },
  "language_info": {
   "codemirror_mode": {
    "name": "ipython",
    "version": 3
   },
   "file_extension": ".py",
   "mimetype": "text/x-python",
   "name": "python",
   "nbconvert_exporter": "python",
   "pygments_lexer": "ipython3",
   "version": "3.10.2"
  }
 },
 "nbformat": 4,
 "nbformat_minor": 5
}
