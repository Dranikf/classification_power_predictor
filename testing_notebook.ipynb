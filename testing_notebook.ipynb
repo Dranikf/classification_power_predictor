{
 "cells": [
  {
   "cell_type": "markdown",
   "id": "39746abf",
   "metadata": {},
   "source": [
    "# Testing notebook"
   ]
  },
  {
   "cell_type": "code",
   "execution_count": 1,
   "id": "3b59c6fc",
   "metadata": {},
   "outputs": [],
   "source": [
    "import xlsxwriter\n",
    "import pandas as pd\n",
    "import numpy as np\n",
    "\n",
    "from classification_power_predictor import classification_power_predictor"
   ]
  },
  {
   "cell_type": "markdown",
   "id": "0c2fe7ca",
   "metadata": {},
   "source": [
    "## We need some testing data"
   ]
  },
  {
   "cell_type": "code",
   "execution_count": 2,
   "id": "95c1aefc",
   "metadata": {},
   "outputs": [],
   "source": [
    "# frame size\n",
    "n = 1000\n",
    "\n",
    "test_frame = pd.DataFrame({\"numeric_variable\": np.random.normal(10, 5, n), \n",
    "                           \"object_variable\": np.round(np.random.uniform(0, 10, n)).astype('O'),\n",
    "                           \"column with soo000oo000oo000oo000oo long name\": np.random.normal(10, 5, n)})\n",
    "\n",
    "nv = test_frame[\"numeric_variable\"]\n",
    "ov = test_frame[\"object_variable\"]\n",
    "\n",
    "probs1 = nv.apply(lambda x: (x/(max(nv) - min(nv))) + ((np.random.rand())/5))\n",
    "probs2 = ov.apply(lambda x: (x/(max(ov) - min(ov))) + ((np.random.rand())/5))\n",
    "\n",
    "f_probs = (probs1 + probs2)/2\n",
    "f_probs[f_probs >= 1] = 1\n",
    "\n",
    "\n",
    "Y = np.zeros(n)\n",
    "Y[f_probs > 0.4] = 1\n",
    "Y[f_probs > 0.7] = 2\n",
    "\n",
    "Y = pd.Series(Y)\n",
    "Y_strs = Y.replace({0: 'cetegory 0', 1:'category 1', 2:'category 2'})\n",
    "Y.value_counts()\n",
    "Y_binary = Y.replace({2:1})\n",
    "\n",
    "na_containts_frame = test_frame.copy()\n",
    "\n",
    "for col in test_frame.columns:\n",
    "    na_containts_frame.loc[na_containts_frame.sample(int(n/50)).index, col] = np.NaN"
   ]
  },
  {
   "cell_type": "markdown",
   "id": "faea01a5",
   "metadata": {},
   "source": [
    "## Computions funcitons"
   ]
  },
  {
   "cell_type": "code",
   "execution_count": 3,
   "id": "10639a29",
   "metadata": {},
   "outputs": [],
   "source": [
    "from computions import *"
   ]
  },
  {
   "cell_type": "markdown",
   "id": "c75f1b01",
   "metadata": {},
   "source": [
    "### get_describe_nominal function test"
   ]
  },
  {
   "cell_type": "markdown",
   "id": "fb231041",
   "metadata": {},
   "source": [
    "Basic situation"
   ]
  },
  {
   "cell_type": "code",
   "execution_count": 4,
   "id": "3954086a",
   "metadata": {},
   "outputs": [
    {
     "data": {
      "text/html": [
       "<div>\n",
       "<style scoped>\n",
       "    .dataframe tbody tr th:only-of-type {\n",
       "        vertical-align: middle;\n",
       "    }\n",
       "\n",
       "    .dataframe tbody tr th {\n",
       "        vertical-align: top;\n",
       "    }\n",
       "\n",
       "    .dataframe thead th {\n",
       "        text-align: right;\n",
       "    }\n",
       "</style>\n",
       "<table border=\"1\" class=\"dataframe\">\n",
       "  <thead>\n",
       "    <tr style=\"text-align: right;\">\n",
       "      <th></th>\n",
       "      <th>object_variable</th>\n",
       "      <th>1.0</th>\n",
       "      <th>1.0%</th>\n",
       "      <th>0.0</th>\n",
       "      <th>0.0%</th>\n",
       "      <th>2.0</th>\n",
       "      <th>2.0%</th>\n",
       "    </tr>\n",
       "  </thead>\n",
       "  <tbody>\n",
       "    <tr>\n",
       "      <th>6.0</th>\n",
       "      <td>123</td>\n",
       "      <td>112</td>\n",
       "      <td>91.056911</td>\n",
       "      <td>7.0</td>\n",
       "      <td>5.691057</td>\n",
       "      <td>4.0</td>\n",
       "      <td>3.252033</td>\n",
       "    </tr>\n",
       "    <tr>\n",
       "      <th>1.0</th>\n",
       "      <td>113</td>\n",
       "      <td>22</td>\n",
       "      <td>19.469027</td>\n",
       "      <td>91.0</td>\n",
       "      <td>80.530973</td>\n",
       "      <td>0.0</td>\n",
       "      <td>0.000000</td>\n",
       "    </tr>\n",
       "    <tr>\n",
       "      <th>8.0</th>\n",
       "      <td>110</td>\n",
       "      <td>80</td>\n",
       "      <td>72.727273</td>\n",
       "      <td>0.0</td>\n",
       "      <td>0.000000</td>\n",
       "      <td>30.0</td>\n",
       "      <td>27.272727</td>\n",
       "    </tr>\n",
       "    <tr>\n",
       "      <th>2.0</th>\n",
       "      <td>107</td>\n",
       "      <td>21</td>\n",
       "      <td>19.626168</td>\n",
       "      <td>86.0</td>\n",
       "      <td>80.373832</td>\n",
       "      <td>0.0</td>\n",
       "      <td>0.000000</td>\n",
       "    </tr>\n",
       "    <tr>\n",
       "      <th>9.0</th>\n",
       "      <td>102</td>\n",
       "      <td>51</td>\n",
       "      <td>50.000000</td>\n",
       "      <td>0.0</td>\n",
       "      <td>0.000000</td>\n",
       "      <td>51.0</td>\n",
       "      <td>50.000000</td>\n",
       "    </tr>\n",
       "    <tr>\n",
       "      <th>3.0</th>\n",
       "      <td>94</td>\n",
       "      <td>48</td>\n",
       "      <td>51.063830</td>\n",
       "      <td>46.0</td>\n",
       "      <td>48.936170</td>\n",
       "      <td>0.0</td>\n",
       "      <td>0.000000</td>\n",
       "    </tr>\n",
       "    <tr>\n",
       "      <th>7.0</th>\n",
       "      <td>91</td>\n",
       "      <td>80</td>\n",
       "      <td>87.912088</td>\n",
       "      <td>1.0</td>\n",
       "      <td>1.098901</td>\n",
       "      <td>10.0</td>\n",
       "      <td>10.989011</td>\n",
       "    </tr>\n",
       "    <tr>\n",
       "      <th>5.0</th>\n",
       "      <td>87</td>\n",
       "      <td>79</td>\n",
       "      <td>90.804598</td>\n",
       "      <td>7.0</td>\n",
       "      <td>8.045977</td>\n",
       "      <td>1.0</td>\n",
       "      <td>1.149425</td>\n",
       "    </tr>\n",
       "    <tr>\n",
       "      <th>4.0</th>\n",
       "      <td>82</td>\n",
       "      <td>63</td>\n",
       "      <td>76.829268</td>\n",
       "      <td>19.0</td>\n",
       "      <td>23.170732</td>\n",
       "      <td>0.0</td>\n",
       "      <td>0.000000</td>\n",
       "    </tr>\n",
       "    <tr>\n",
       "      <th>0.0</th>\n",
       "      <td>49</td>\n",
       "      <td>4</td>\n",
       "      <td>8.163265</td>\n",
       "      <td>45.0</td>\n",
       "      <td>91.836735</td>\n",
       "      <td>0.0</td>\n",
       "      <td>0.000000</td>\n",
       "    </tr>\n",
       "    <tr>\n",
       "      <th>10.0</th>\n",
       "      <td>42</td>\n",
       "      <td>7</td>\n",
       "      <td>16.666667</td>\n",
       "      <td>0.0</td>\n",
       "      <td>0.000000</td>\n",
       "      <td>35.0</td>\n",
       "      <td>83.333333</td>\n",
       "    </tr>\n",
       "  </tbody>\n",
       "</table>\n",
       "</div>"
      ],
      "text/plain": [
       "      object_variable  1.0       1.0%   0.0       0.0%   2.0       2.0%\n",
       "6.0               123  112  91.056911   7.0   5.691057   4.0   3.252033\n",
       "1.0               113   22  19.469027  91.0  80.530973   0.0   0.000000\n",
       "8.0               110   80  72.727273   0.0   0.000000  30.0  27.272727\n",
       "2.0               107   21  19.626168  86.0  80.373832   0.0   0.000000\n",
       "9.0               102   51  50.000000   0.0   0.000000  51.0  50.000000\n",
       "3.0                94   48  51.063830  46.0  48.936170   0.0   0.000000\n",
       "7.0                91   80  87.912088   1.0   1.098901  10.0  10.989011\n",
       "5.0                87   79  90.804598   7.0   8.045977   1.0   1.149425\n",
       "4.0                82   63  76.829268  19.0  23.170732   0.0   0.000000\n",
       "0.0                49    4   8.163265  45.0  91.836735   0.0   0.000000\n",
       "10.0               42    7  16.666667   0.0   0.000000  35.0  83.333333"
      ]
     },
     "execution_count": 4,
     "metadata": {},
     "output_type": "execute_result"
    }
   ],
   "source": [
    "get_describe_nominal(test_frame.iloc[:,1], Y)"
   ]
  },
  {
   "cell_type": "markdown",
   "id": "6c801486",
   "metadata": {},
   "source": [
    "Data frame with emptys"
   ]
  },
  {
   "cell_type": "code",
   "execution_count": 5,
   "id": "5dca1007",
   "metadata": {},
   "outputs": [
    {
     "name": "stdout",
     "output_type": "stream",
     "text": [
      "Is all obs. are in table -  False\n",
      "Is all obs. are in table -  True\n"
     ]
    }
   ],
   "source": [
    "test = get_describe_nominal(na_containts_frame.iloc[:,1], Y)\n",
    "print(\"Is all obs. are in table - \",  str(test['object_variable'].sum() == n))\n",
    "test = get_describe_nominal(na_containts_frame.fillna('empty').iloc[:,1], Y)\n",
    "print(\"Is all obs. are in table - \",  str(test['object_variable'].sum() == n))"
   ]
  },
  {
   "cell_type": "markdown",
   "id": "e7ed1137",
   "metadata": {},
   "source": [
    "### AUC computing test\n",
    "\n",
    "AUC numeric - simple fucntion"
   ]
  },
  {
   "cell_type": "code",
   "execution_count": 6,
   "id": "67bb1cf7",
   "metadata": {},
   "outputs": [
    {
     "name": "stdout",
     "output_type": "stream",
     "text": [
      "{1.0: 0.5509977149700014, 0.0: 0.30096396516062923, 2.0: 0.7585713156299685}\n",
      "{'category 1': 0.5509977149700014, 'cetegory 0': 0.30096396516062923, 'category 2': 0.7585713156299685}\n",
      "{'category 1': 0.548858505564388, 'cetegory 0': 0.30387624466571833, 'category 2': 0.7567294291257891}\n",
      "{1.0: 0.6990360348393708, 0.0: 0.30096396516062923}\n"
     ]
    }
   ],
   "source": [
    "print(get_AUC_numeric(test_frame['numeric_variable'] ,Y))\n",
    "print(get_AUC_numeric(test_frame['numeric_variable'], Y_strs))\n",
    "print(get_AUC_numeric(na_containts_frame['numeric_variable'], Y_strs))\n",
    "print(get_AUC_numeric(test_frame['numeric_variable'], Y_binary))"
   ]
  },
  {
   "cell_type": "markdown",
   "id": "6bcfed18",
   "metadata": {},
   "source": [
    "AUC nominal"
   ]
  },
  {
   "cell_type": "code",
   "execution_count": 7,
   "id": "f3213fdd",
   "metadata": {},
   "outputs": [
    {
     "name": "stdout",
     "output_type": "stream",
     "text": [
      "{'category 1': 0.8389461164672865, 'cetegory 0': 0.933013434790034, 'category 2': 0.9297253138203955}\n",
      "AUC bynary\n",
      "{1.0: 0.933013434790034, 0.0: 0.933013434790034}\n",
      "AUC with emptys\n",
      "{'category 1': 0.6749472647711694, 'cetegory 0': 0.06687855618776675, 'category 2': 0.9289815472948648}\n"
     ]
    }
   ],
   "source": [
    "non_table = get_AUC_nominal(test_frame['object_variable'], Y)\n",
    "dn_tab = get_describe_nominal(test_frame.iloc[:,1], Y_strs)\n",
    "with_table = get_AUC_nominal(test_frame['object_variable'], Y_strs, dn_tab)\n",
    "print(with_table)\n",
    "\n",
    "print('AUC bynary')\n",
    "print(get_AUC_nominal(test_frame['object_variable'], Y_binary))\n",
    "\n",
    "print('AUC with emptys')\n",
    "print(get_AUC_numeric(na_containts_frame['object_variable'], Y_strs))"
   ]
  },
  {
   "cell_type": "markdown",
   "id": "2822fc40",
   "metadata": {},
   "source": [
    "Get publish AUC for any predictor type"
   ]
  },
  {
   "cell_type": "code",
   "execution_count": 8,
   "id": "94a81646",
   "metadata": {},
   "outputs": [
    {
     "name": "stdout",
     "output_type": "stream",
     "text": [
      "nominal predictor without table\n",
      "{1.0: {'AUC': 0.8389461164672865, 'rel_type': 1, 'GINI': 0.6778922329345729}, 0.0: {'AUC': 0.933013434790034, 'rel_type': 1, 'GINI': 0.8660268695800679}, 2.0: {'AUC': 0.9297253138203955, 'rel_type': 1, 'GINI': 0.8594506276407909}}\n",
      "moninal predictor with table\n",
      "{'category 1': {'AUC': 0.8389461164672865, 'rel_type': 1, 'GINI': 0.6778922329345729}, 'cetegory 0': {'AUC': 0.933013434790034, 'rel_type': 1, 'GINI': 0.8660268695800679}, 'category 2': {'AUC': 0.9297253138203955, 'rel_type': 1, 'GINI': 0.8594506276407909}}\n",
      "numeric predictor\n",
      "{1.0: {'AUC': 0.5509977149700014, 'rel_type': 1, 'GINI': 0.10199542994000277}, 0.0: {'AUC': 0.6990360348393707, 'rel_type': -1, 'GINI': 0.3980720696787414}, 2.0: {'AUC': 0.7585713156299685, 'rel_type': 1, 'GINI': 0.517142631259937}}\n"
     ]
    }
   ],
   "source": [
    "non_table = get_full_AUC(test_frame['object_variable'], Y, 'nominal')\n",
    "print('nominal predictor without table')\n",
    "print(non_table)\n",
    "\n",
    "\n",
    "with_table = get_full_AUC(test_frame['object_variable'], Y_strs, 'nominal', dn_tab)\n",
    "print('moninal predictor with table')\n",
    "print(with_table)\n",
    "\n",
    "numeric_var = get_full_AUC(test_frame['numeric_variable'], Y, 'numeric')\n",
    "print('numeric predictor')\n",
    "print(numeric_var)"
   ]
  },
  {
   "cell_type": "markdown",
   "id": "99161e41",
   "metadata": {},
   "source": [
    "## Creating a writer to excel"
   ]
  },
  {
   "cell_type": "code",
   "execution_count": 9,
   "id": "e391b25e",
   "metadata": {},
   "outputs": [],
   "source": [
    "xl_writer = pd.ExcelWriter(\"test_result/test.xlsx\",engine='xlsxwriter')"
   ]
  },
  {
   "cell_type": "code",
   "execution_count": 10,
   "id": "84079594",
   "metadata": {},
   "outputs": [],
   "source": [
    "my_cpp = classification_power_predictor(test_frame, Y)\n",
    "my_cpp.update_predictors()\n",
    "#my_cpp.write_to_book(xl_writer)"
   ]
  },
  {
   "cell_type": "code",
   "execution_count": 11,
   "id": "19fbecde",
   "metadata": {},
   "outputs": [
    {
     "ename": "KeyError",
     "evalue": "0",
     "output_type": "error",
     "traceback": [
      "\u001b[0;31m---------------------------------------------------------------------------\u001b[0m",
      "\u001b[0;31mKeyError\u001b[0m                                  Traceback (most recent call last)",
      "Input \u001b[0;32mIn [11]\u001b[0m, in \u001b[0;36m<module>\u001b[0;34m\u001b[0m\n\u001b[1;32m      1\u001b[0m predictos_data \u001b[38;5;241m=\u001b[39m my_cpp\u001b[38;5;241m.\u001b[39mget_predictors_data()\n\u001b[0;32m----> 2\u001b[0m \u001b[43mpredictos_data\u001b[49m\u001b[43m[\u001b[49m\u001b[38;5;241;43m0\u001b[39;49m\u001b[43m]\u001b[49m[\u001b[38;5;124m'\u001b[39m\u001b[38;5;124mAUC_data\u001b[39m\u001b[38;5;124m'\u001b[39m]\n",
      "\u001b[0;31mKeyError\u001b[0m: 0"
     ]
    }
   ],
   "source": [
    "predictos_data = my_cpp.get_predictors_data()"
   ]
  },
  {
   "cell_type": "markdown",
   "id": "eba3f8f6",
   "metadata": {},
   "source": [
    "## Saving the results"
   ]
  },
  {
   "cell_type": "code",
   "execution_count": 7,
   "id": "0c04ce03",
   "metadata": {},
   "outputs": [],
   "source": [
    "xl_writer.close()"
   ]
  }
 ],
 "metadata": {
  "kernelspec": {
   "display_name": "Python 3 (ipykernel)",
   "language": "python",
   "name": "python3"
  },
  "language_info": {
   "codemirror_mode": {
    "name": "ipython",
    "version": 3
   },
   "file_extension": ".py",
   "mimetype": "text/x-python",
   "name": "python",
   "nbconvert_exporter": "python",
   "pygments_lexer": "ipython3",
   "version": "3.10.2"
  }
 },
 "nbformat": 4,
 "nbformat_minor": 5
}
