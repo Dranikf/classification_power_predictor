{
 "cells": [
  {
   "cell_type": "markdown",
   "id": "39746abf",
   "metadata": {},
   "source": [
    "# Testing notebook"
   ]
  },
  {
   "cell_type": "code",
   "execution_count": 11,
   "id": "3b59c6fc",
   "metadata": {},
   "outputs": [],
   "source": [
    "import xlsxwriter\n",
    "import pandas as pd\n",
    "import numpy as np\n",
    "\n",
    "from classification_power_predictor import classification_power_predictor\n",
    "from writing import *"
   ]
  },
  {
   "cell_type": "markdown",
   "id": "0c2fe7ca",
   "metadata": {},
   "source": [
    "## We need some testing data"
   ]
  },
  {
   "cell_type": "code",
   "execution_count": 12,
   "id": "95c1aefc",
   "metadata": {},
   "outputs": [],
   "source": [
    "# frame size\n",
    "n = 1000\n",
    "\n",
    "test_frame = pd.DataFrame({\"numeric_variable\": np.random.normal(10, 5, n), \n",
    "                           \"object_variable\": np.round(np.random.uniform(0, 10, n)).astype('O'),\n",
    "                           \"column with soo000oo000oo000oo000oo long name\": np.random.normal(10, 5, n)})\n",
    "\n",
    "nv = test_frame[\"numeric_variable\"]\n",
    "ov = test_frame[\"object_variable\"]\n",
    "\n",
    "probs1 = nv.apply(lambda x: (x/(max(nv) - min(nv))) + ((np.random.rand())/5))\n",
    "probs2 = ov.apply(lambda x: (x/(max(ov) - min(ov))) + ((np.random.rand())/5))\n",
    "\n",
    "f_probs = (probs1 + probs2)/2\n",
    "f_probs[f_probs >= 1] = 1\n",
    "\n",
    "\n",
    "Y = np.zeros(n)\n",
    "Y[f_probs > 0.4] = 1\n",
    "Y[f_probs > 0.7] = 2\n",
    "\n",
    "Y = pd.Series(Y)\n",
    "Y_strs = Y.replace({0: 'cetegory 0', 1:'category 1', 2:'category 2'})\n",
    "Y.value_counts()\n",
    "Y_binary = Y.replace({2:1})\n",
    "\n",
    "na_containts_frame = test_frame.copy()\n",
    "\n",
    "for col in test_frame.columns:\n",
    "    na_containts_frame.loc[na_containts_frame.sample(int(n/50)).index, col] = np.NaN"
   ]
  },
  {
   "cell_type": "markdown",
   "id": "faea01a5",
   "metadata": {},
   "source": [
    "## Computions funcitons"
   ]
  },
  {
   "cell_type": "code",
   "execution_count": 13,
   "id": "10639a29",
   "metadata": {},
   "outputs": [],
   "source": [
    "from computions import *"
   ]
  },
  {
   "cell_type": "markdown",
   "id": "c75f1b01",
   "metadata": {},
   "source": [
    "### get_describe_nominal function test"
   ]
  },
  {
   "cell_type": "markdown",
   "id": "fb231041",
   "metadata": {},
   "source": [
    "Basic situation"
   ]
  },
  {
   "cell_type": "code",
   "execution_count": 14,
   "id": "3954086a",
   "metadata": {},
   "outputs": [
    {
     "data": {
      "text/html": [
       "<div>\n",
       "<style scoped>\n",
       "    .dataframe tbody tr th:only-of-type {\n",
       "        vertical-align: middle;\n",
       "    }\n",
       "\n",
       "    .dataframe tbody tr th {\n",
       "        vertical-align: top;\n",
       "    }\n",
       "\n",
       "    .dataframe thead th {\n",
       "        text-align: right;\n",
       "    }\n",
       "</style>\n",
       "<table border=\"1\" class=\"dataframe\">\n",
       "  <thead>\n",
       "    <tr style=\"text-align: right;\">\n",
       "      <th></th>\n",
       "      <th>count</th>\n",
       "      <th>1.0</th>\n",
       "      <th>1.0%</th>\n",
       "      <th>2.0</th>\n",
       "      <th>2.0%</th>\n",
       "      <th>0.0</th>\n",
       "      <th>0.0%</th>\n",
       "    </tr>\n",
       "    <tr>\n",
       "      <th>object_variable</th>\n",
       "      <th></th>\n",
       "      <th></th>\n",
       "      <th></th>\n",
       "      <th></th>\n",
       "      <th></th>\n",
       "      <th></th>\n",
       "      <th></th>\n",
       "    </tr>\n",
       "  </thead>\n",
       "  <tbody>\n",
       "    <tr>\n",
       "      <th>6.0</th>\n",
       "      <td>122</td>\n",
       "      <td>115</td>\n",
       "      <td>94.262295</td>\n",
       "      <td>3.0</td>\n",
       "      <td>2.459016</td>\n",
       "      <td>4.0</td>\n",
       "      <td>3.278689</td>\n",
       "    </tr>\n",
       "    <tr>\n",
       "      <th>7.0</th>\n",
       "      <td>104</td>\n",
       "      <td>85</td>\n",
       "      <td>81.730769</td>\n",
       "      <td>17.0</td>\n",
       "      <td>16.346154</td>\n",
       "      <td>2.0</td>\n",
       "      <td>1.923077</td>\n",
       "    </tr>\n",
       "    <tr>\n",
       "      <th>8.0</th>\n",
       "      <td>101</td>\n",
       "      <td>79</td>\n",
       "      <td>78.217822</td>\n",
       "      <td>22.0</td>\n",
       "      <td>21.782178</td>\n",
       "      <td>0.0</td>\n",
       "      <td>0.000000</td>\n",
       "    </tr>\n",
       "    <tr>\n",
       "      <th>4.0</th>\n",
       "      <td>101</td>\n",
       "      <td>74</td>\n",
       "      <td>73.267327</td>\n",
       "      <td>0.0</td>\n",
       "      <td>0.000000</td>\n",
       "      <td>27.0</td>\n",
       "      <td>26.732673</td>\n",
       "    </tr>\n",
       "    <tr>\n",
       "      <th>1.0</th>\n",
       "      <td>100</td>\n",
       "      <td>8</td>\n",
       "      <td>8.000000</td>\n",
       "      <td>0.0</td>\n",
       "      <td>0.000000</td>\n",
       "      <td>92.0</td>\n",
       "      <td>92.000000</td>\n",
       "    </tr>\n",
       "    <tr>\n",
       "      <th>2.0</th>\n",
       "      <td>100</td>\n",
       "      <td>31</td>\n",
       "      <td>31.000000</td>\n",
       "      <td>0.0</td>\n",
       "      <td>0.000000</td>\n",
       "      <td>69.0</td>\n",
       "      <td>69.000000</td>\n",
       "    </tr>\n",
       "    <tr>\n",
       "      <th>3.0</th>\n",
       "      <td>99</td>\n",
       "      <td>44</td>\n",
       "      <td>44.444444</td>\n",
       "      <td>0.0</td>\n",
       "      <td>0.000000</td>\n",
       "      <td>55.0</td>\n",
       "      <td>55.555556</td>\n",
       "    </tr>\n",
       "    <tr>\n",
       "      <th>9.0</th>\n",
       "      <td>87</td>\n",
       "      <td>41</td>\n",
       "      <td>47.126437</td>\n",
       "      <td>46.0</td>\n",
       "      <td>52.873563</td>\n",
       "      <td>0.0</td>\n",
       "      <td>0.000000</td>\n",
       "    </tr>\n",
       "    <tr>\n",
       "      <th>5.0</th>\n",
       "      <td>87</td>\n",
       "      <td>74</td>\n",
       "      <td>85.057471</td>\n",
       "      <td>1.0</td>\n",
       "      <td>1.149425</td>\n",
       "      <td>12.0</td>\n",
       "      <td>13.793103</td>\n",
       "    </tr>\n",
       "    <tr>\n",
       "      <th>0.0</th>\n",
       "      <td>56</td>\n",
       "      <td>2</td>\n",
       "      <td>3.571429</td>\n",
       "      <td>0.0</td>\n",
       "      <td>0.000000</td>\n",
       "      <td>54.0</td>\n",
       "      <td>96.428571</td>\n",
       "    </tr>\n",
       "    <tr>\n",
       "      <th>10.0</th>\n",
       "      <td>43</td>\n",
       "      <td>11</td>\n",
       "      <td>25.581395</td>\n",
       "      <td>32.0</td>\n",
       "      <td>74.418605</td>\n",
       "      <td>0.0</td>\n",
       "      <td>0.000000</td>\n",
       "    </tr>\n",
       "  </tbody>\n",
       "</table>\n",
       "</div>"
      ],
      "text/plain": [
       "                 count  1.0       1.0%   2.0       2.0%   0.0       0.0%\n",
       "object_variable                                                         \n",
       "6.0                122  115  94.262295   3.0   2.459016   4.0   3.278689\n",
       "7.0                104   85  81.730769  17.0  16.346154   2.0   1.923077\n",
       "8.0                101   79  78.217822  22.0  21.782178   0.0   0.000000\n",
       "4.0                101   74  73.267327   0.0   0.000000  27.0  26.732673\n",
       "1.0                100    8   8.000000   0.0   0.000000  92.0  92.000000\n",
       "2.0                100   31  31.000000   0.0   0.000000  69.0  69.000000\n",
       "3.0                 99   44  44.444444   0.0   0.000000  55.0  55.555556\n",
       "9.0                 87   41  47.126437  46.0  52.873563   0.0   0.000000\n",
       "5.0                 87   74  85.057471   1.0   1.149425  12.0  13.793103\n",
       "0.0                 56    2   3.571429   0.0   0.000000  54.0  96.428571\n",
       "10.0                43   11  25.581395  32.0  74.418605   0.0   0.000000"
      ]
     },
     "execution_count": 14,
     "metadata": {},
     "output_type": "execute_result"
    }
   ],
   "source": [
    "get_describe_nominal(test_frame.iloc[:,1], Y)"
   ]
  },
  {
   "cell_type": "markdown",
   "id": "6c801486",
   "metadata": {},
   "source": [
    "Data frame with emptys"
   ]
  },
  {
   "cell_type": "code",
   "execution_count": 15,
   "id": "5dca1007",
   "metadata": {},
   "outputs": [
    {
     "name": "stdout",
     "output_type": "stream",
     "text": [
      "Is all obs. are in table -  False\n",
      "Is all obs. are in table -  True\n"
     ]
    }
   ],
   "source": [
    "test = get_describe_nominal(na_containts_frame.iloc[:,1], Y)\n",
    "print(\"Is all obs. are in table - \",  str(test['count'].sum() == n))\n",
    "test = get_describe_nominal(na_containts_frame.fillna('empty').iloc[:,1], Y)\n",
    "print(\"Is all obs. are in table - \",  str(test['count'].sum() == n))"
   ]
  },
  {
   "cell_type": "markdown",
   "id": "e7ed1137",
   "metadata": {},
   "source": [
    "### AUC computing test\n",
    "\n",
    "AUC numeric - simple fucntion"
   ]
  },
  {
   "cell_type": "code",
   "execution_count": 16,
   "id": "67bb1cf7",
   "metadata": {},
   "outputs": [
    {
     "name": "stdout",
     "output_type": "stream",
     "text": [
      "{1.0: 0.5607188170993559, 2.0: 0.7831777282599498, 0.0: 0.2912200208550574}\n",
      "{'category 1': 0.5607188170993559, 'category 2': 0.7831777282599498, 'cetegory 0': 0.2912200208550574}\n",
      "{'category 1': 0.5601017488076311, 'category 2': 0.7811062173109442, 'cetegory 0': 0.2929950486663343}\n",
      "{1.0: 0.7087799791449427, 0.0: 0.2912200208550574}\n"
     ]
    }
   ],
   "source": [
    "print(get_AUC_numeric(test_frame['numeric_variable'] ,Y))\n",
    "print(get_AUC_numeric(test_frame['numeric_variable'], Y_strs))\n",
    "print(get_AUC_numeric(na_containts_frame['numeric_variable'], Y_strs))\n",
    "print(get_AUC_numeric(test_frame['numeric_variable'], Y_binary))"
   ]
  },
  {
   "cell_type": "markdown",
   "id": "6bcfed18",
   "metadata": {},
   "source": [
    "AUC nominal"
   ]
  },
  {
   "cell_type": "code",
   "execution_count": 17,
   "id": "f3213fdd",
   "metadata": {},
   "outputs": [
    {
     "name": "stdout",
     "output_type": "stream",
     "text": [
      "{'category 1': 0.8435263354805127, 'category 2': 0.9265036339190854, 'cetegory 0': 0.9376178890047502}\n",
      "AUC bynary\n",
      "{1.0: 0.9376178890047504, 0.0: 0.9376178890047502}\n",
      "AUC with emptys - needs to be replaces in previous steps\n",
      "{'category 1': 0.8427211432103584, 'category 2': 0.9243881570906082, 'cetegory 0': 0.9350503997219326}\n"
     ]
    },
    {
     "data": {
      "text/plain": [
       "{'category 1': 0.8427211432103584,\n",
       " 'category 2': 0.9243881570906082,\n",
       " 'cetegory 0': 0.9350503997219326}"
      ]
     },
     "execution_count": 17,
     "metadata": {},
     "output_type": "execute_result"
    }
   ],
   "source": [
    "non_table = get_AUC_nominal(test_frame['object_variable'], Y)\n",
    "dn_tab = get_describe_nominal(test_frame.iloc[:,1], Y_strs)\n",
    "with_table = get_AUC_nominal(test_frame['object_variable'], Y_strs, dn_tab)\n",
    "print(with_table)\n",
    "\n",
    "print('AUC bynary')\n",
    "print(get_AUC_nominal(test_frame['object_variable'], Y_binary))\n",
    "\n",
    "print('AUC with emptys - needs to be replaces in previous steps')\n",
    "print(get_AUC_nominal(na_containts_frame['object_variable'].fillna('empty'), Y_strs))\n",
    "\n",
    "get_AUC_nominal(na_containts_frame['object_variable'].fillna('empty'), Y_strs, \n",
    "                get_describe_nominal(na_containts_frame.iloc[:,1].fillna('empty'), Y_strs))\n"
   ]
  },
  {
   "cell_type": "markdown",
   "id": "2822fc40",
   "metadata": {},
   "source": [
    "Get publish AUC for any predictor type"
   ]
  },
  {
   "cell_type": "code",
   "execution_count": 18,
   "id": "94a81646",
   "metadata": {},
   "outputs": [
    {
     "name": "stdout",
     "output_type": "stream",
     "text": [
      "nominal predictor without table\n",
      "{1.0: {'AUC': 0.8435263354805127, 'rel_type': 1, 'GINI': 0.6870526709610254}, 2.0: {'AUC': 0.9265036339190854, 'rel_type': 1, 'GINI': 0.8530072678381708}, 0.0: {'AUC': 0.9376178890047502, 'rel_type': 1, 'GINI': 0.8752357780095004}}\n",
      "moninal predictor with table\n",
      "{'category 1': {'AUC': 0.8435263354805127, 'rel_type': 1, 'GINI': 0.6870526709610254}, 'category 2': {'AUC': 0.9265036339190854, 'rel_type': 1, 'GINI': 0.8530072678381708}, 'cetegory 0': {'AUC': 0.9376178890047502, 'rel_type': 1, 'GINI': 0.8752357780095004}}\n",
      "numeric predictor\n",
      "{1.0: {'AUC': 0.5607188170993559, 'rel_type': 1, 'GINI': 0.12143763419871179}, 2.0: {'AUC': 0.7831777282599498, 'rel_type': 1, 'GINI': 0.5663554565198996}, 0.0: {'AUC': 0.7087799791449426, 'rel_type': -1, 'GINI': 0.41755995828988524}}\n"
     ]
    }
   ],
   "source": [
    "non_table = get_full_AUC(test_frame['object_variable'], Y, 'nominal')\n",
    "print('nominal predictor without table')\n",
    "print(non_table)\n",
    "\n",
    "with_table = get_full_AUC(test_frame['object_variable'], Y_strs, 'nominal', descr_table = dn_tab)\n",
    "print('moninal predictor with table')\n",
    "print(with_table)\n",
    "\n",
    "numeric_var = get_full_AUC(test_frame['numeric_variable'], Y, 'numeric')\n",
    "print('numeric predictor')\n",
    "print(numeric_var)"
   ]
  },
  {
   "cell_type": "markdown",
   "id": "d3ef07d0",
   "metadata": {},
   "source": [
    "Decoding AUC info as DataFrame"
   ]
  },
  {
   "cell_type": "code",
   "execution_count": 19,
   "id": "1af239c7",
   "metadata": {},
   "outputs": [
    {
     "data": {
      "text/html": [
       "<div>\n",
       "<style scoped>\n",
       "    .dataframe tbody tr th:only-of-type {\n",
       "        vertical-align: middle;\n",
       "    }\n",
       "\n",
       "    .dataframe tbody tr th {\n",
       "        vertical-align: top;\n",
       "    }\n",
       "\n",
       "    .dataframe thead tr th {\n",
       "        text-align: left;\n",
       "    }\n",
       "</style>\n",
       "<table border=\"1\" class=\"dataframe\">\n",
       "  <thead>\n",
       "    <tr>\n",
       "      <th></th>\n",
       "      <th colspan=\"3\" halign=\"left\">1.0</th>\n",
       "      <th colspan=\"3\" halign=\"left\">2.0</th>\n",
       "      <th colspan=\"3\" halign=\"left\">0.0</th>\n",
       "    </tr>\n",
       "    <tr>\n",
       "      <th></th>\n",
       "      <th>AUC</th>\n",
       "      <th>rel_type</th>\n",
       "      <th>GINI</th>\n",
       "      <th>AUC</th>\n",
       "      <th>rel_type</th>\n",
       "      <th>GINI</th>\n",
       "      <th>AUC</th>\n",
       "      <th>rel_type</th>\n",
       "      <th>GINI</th>\n",
       "    </tr>\n",
       "  </thead>\n",
       "  <tbody>\n",
       "    <tr>\n",
       "      <th>numeric_variable</th>\n",
       "      <td>0.560719</td>\n",
       "      <td>1</td>\n",
       "      <td>0.121438</td>\n",
       "      <td>0.783178</td>\n",
       "      <td>1</td>\n",
       "      <td>0.566355</td>\n",
       "      <td>0.70878</td>\n",
       "      <td>-1</td>\n",
       "      <td>0.41756</td>\n",
       "    </tr>\n",
       "  </tbody>\n",
       "</table>\n",
       "</div>"
      ],
      "text/plain": [
       "                       1.0                          2.0                     \\\n",
       "                       AUC rel_type      GINI       AUC rel_type      GINI   \n",
       "numeric_variable  0.560719        1  0.121438  0.783178        1  0.566355   \n",
       "\n",
       "                      0.0                    \n",
       "                      AUC rel_type     GINI  \n",
       "numeric_variable  0.70878       -1  0.41756  "
      ]
     },
     "execution_count": 19,
     "metadata": {},
     "output_type": "execute_result"
    }
   ],
   "source": [
    "numeric_var = get_full_AUC(test_frame['numeric_variable'], Y, 'numeric')\n",
    "AUC_info_to_DataFrame(numeric_var,'numeric_variable')"
   ]
  },
  {
   "cell_type": "markdown",
   "id": "49ffe5dc",
   "metadata": {},
   "source": [
    "get_all_computions funcion test"
   ]
  },
  {
   "cell_type": "code",
   "execution_count": 20,
   "id": "81598887",
   "metadata": {},
   "outputs": [
    {
     "name": "stdout",
     "output_type": "stream",
     "text": [
      "describe_table with no nas\n",
      "                 count  1.0       1.0%   2.0       2.0%   0.0       0.0%\n",
      "object_variable                                                         \n",
      "6.0                122  115  94.262295   3.0   2.459016   4.0   3.278689\n",
      "7.0                104   85  81.730769  17.0  16.346154   2.0   1.923077\n",
      "8.0                101   79  78.217822  22.0  21.782178   0.0   0.000000\n",
      "4.0                101   74  73.267327   0.0   0.000000  27.0  26.732673\n",
      "1.0                100    8   8.000000   0.0   0.000000  92.0  92.000000\n",
      "2.0                100   31  31.000000   0.0   0.000000  69.0  69.000000\n",
      "3.0                 99   44  44.444444   0.0   0.000000  55.0  55.555556\n",
      "9.0                 87   41  47.126437  46.0  52.873563   0.0   0.000000\n",
      "5.0                 87   74  85.057471   1.0   1.149425  12.0  13.793103\n",
      "0.0                 56    2   3.571429   0.0   0.000000  54.0  96.428571\n",
      "10.0                43   11  25.581395  32.0  74.418605   0.0   0.000000\n",
      "describe_table with nas\n",
      "                 count  1.0       1.0%   2.0       2.0%   0.0       0.0%\n",
      "object_variable                                                         \n",
      "6.0                121  114  94.214876   3.0   2.479339   4.0   3.305785\n",
      "7.0                101   84  83.168317  16.0  15.841584   1.0   0.990099\n",
      "8.0                 99   79  79.797980  20.0  20.202020   0.0   0.000000\n",
      "1.0                 99    8   8.080808   0.0   0.000000  91.0  91.919192\n",
      "4.0                 98   71  72.448980   0.0   0.000000  27.0  27.551020\n",
      "3.0                 97   44  45.360825   0.0   0.000000  53.0  54.639175\n",
      "2.0                 96   31  32.291667   0.0   0.000000  65.0  67.708333\n",
      "5.0                 86   73  84.883721   1.0   1.162791  12.0  13.953488\n",
      "9.0                 85   39  45.882353  46.0  54.117647   0.0   0.000000\n",
      "0.0                 55    2   3.636364   0.0   0.000000  53.0  96.363636\n",
      "10.0                43   11  25.581395  32.0  74.418605   0.0   0.000000\n",
      "Empty               20    8  40.000000   3.0  15.000000   9.0  45.000000\n"
     ]
    }
   ],
   "source": [
    "print('describe_table with no nas')\n",
    "print(get_all_comuptions(test_frame['object_variable'], Y)['describe_table'])\n",
    "print('describe_table with nas')\n",
    "print(get_all_comuptions(na_containts_frame['object_variable'], Y)['describe_table'])"
   ]
  },
  {
   "cell_type": "markdown",
   "id": "46bdf21d",
   "metadata": {},
   "source": [
    "Getting indicators from computions uotput"
   ]
  },
  {
   "cell_type": "code",
   "execution_count": 21,
   "metadata": {},
   "outputs": [
    {
     "name": "stdout",
     "output_type": "stream",
     "text": [
      "full numeric data\n",
      "numeric data with nas, with str categoryes\n"
     ]
    },
    {
     "data": {
      "text/html": [
       "<div>\n",
       "<style scoped>\n",
       "    .dataframe tbody tr th:only-of-type {\n",
       "        vertical-align: middle;\n",
       "    }\n",
       "\n",
       "    .dataframe tbody tr th {\n",
       "        vertical-align: top;\n",
       "    }\n",
       "\n",
       "    .dataframe thead tr th {\n",
       "        text-align: left;\n",
       "    }\n",
       "</style>\n",
       "<table border=\"1\" class=\"dataframe\">\n",
       "  <thead>\n",
       "    <tr>\n",
       "      <th></th>\n",
       "      <th colspan=\"3\" halign=\"left\">category 1</th>\n",
       "      <th colspan=\"3\" halign=\"left\">category 2</th>\n",
       "      <th colspan=\"3\" halign=\"left\">cetegory 0</th>\n",
       "      <th>Emptys</th>\n",
       "      <th>Emptys part</th>\n",
       "    </tr>\n",
       "    <tr>\n",
       "      <th></th>\n",
       "      <th>AUC</th>\n",
       "      <th>rel_type</th>\n",
       "      <th>GINI</th>\n",
       "      <th>AUC</th>\n",
       "      <th>rel_type</th>\n",
       "      <th>GINI</th>\n",
       "      <th>AUC</th>\n",
       "      <th>rel_type</th>\n",
       "      <th>GINI</th>\n",
       "      <th></th>\n",
       "      <th></th>\n",
       "    </tr>\n",
       "  </thead>\n",
       "  <tbody>\n",
       "    <tr>\n",
       "      <th>numeric_variable</th>\n",
       "      <td>0.560102</td>\n",
       "      <td>1</td>\n",
       "      <td>0.120203</td>\n",
       "      <td>0.781106</td>\n",
       "      <td>1</td>\n",
       "      <td>0.562212</td>\n",
       "      <td>0.707005</td>\n",
       "      <td>-1</td>\n",
       "      <td>0.41401</td>\n",
       "      <td>20</td>\n",
       "      <td>0.02</td>\n",
       "    </tr>\n",
       "  </tbody>\n",
       "</table>\n",
       "</div>"
      ],
      "text/plain": [
       "                 category 1                    category 2                     \\\n",
       "                        AUC rel_type      GINI        AUC rel_type      GINI   \n",
       "numeric_variable   0.560102        1  0.120203   0.781106        1  0.562212   \n",
       "\n",
       "                 cetegory 0                   Emptys Emptys part  \n",
       "                        AUC rel_type     GINI                     \n",
       "numeric_variable   0.707005       -1  0.41401     20        0.02  "
      ]
     },
     "execution_count": 21,
     "metadata": {},
     "output_type": "execute_result"
    }
   ],
   "source": [
    "comp_result =  get_all_comuptions(test_frame['numeric_variable'], Y)\n",
    "print('full numeric data')\n",
    "get_predictor_row(comp_result)\n",
    "print('numeric data with nas, with str categoryes')\n",
    "comp_result =  get_all_comuptions(na_containts_frame['numeric_variable'], Y_strs)\n",
    "get_predictor_row(comp_result)"
   ]
  },
  {
   "cell_type": "markdown",
   "id": "99161e41",
   "metadata": {},
   "source": [
    "## Writing to excel"
   ]
  },
  {
   "cell_type": "markdown",
   "id": "007e606b",
   "metadata": {},
   "source": [
    "Adding a new sheet"
   ]
  },
  {
   "cell_type": "code",
   "execution_count": 22,
   "id": "16d855b2",
   "metadata": {},
   "outputs": [],
   "source": [
    "xl_writer = pd.ExcelWriter(\"test_result/sheet_creation.xlsx\",engine='xlsxwriter')\n",
    "\n",
    "for i in range(20):\n",
    "    add_sheet(xl_writer, 'some name')\n",
    "    add_sheet(xl_writer, 'some very very very long long name')\n",
    "xl_writer.close()"
   ]
  },
  {
   "cell_type": "markdown",
   "id": "1bc367dd",
   "metadata": {},
   "source": [
    "Adding a info about different predictors"
   ]
  },
  {
   "cell_type": "code",
   "execution_count": 23,
   "id": "84079594",
   "metadata": {},
   "outputs": [],
   "source": [
    "my_cpp = classification_power_predictor(test_frame, Y)\n",
    "my_cpp.update_predictors()"
   ]
  },
  {
   "cell_type": "markdown",
   "id": "bc0c47ab",
   "metadata": {},
   "source": [
    "Let's show final table"
   ]
  },
  {
   "cell_type": "code",
   "execution_count": 24,
   "id": "854b6dd4",
   "metadata": {},
   "outputs": [
    {
     "data": {
      "text/html": [
       "<div>\n",
       "<style scoped>\n",
       "    .dataframe tbody tr th:only-of-type {\n",
       "        vertical-align: middle;\n",
       "    }\n",
       "\n",
       "    .dataframe tbody tr th {\n",
       "        vertical-align: top;\n",
       "    }\n",
       "\n",
       "    .dataframe thead tr th {\n",
       "        text-align: left;\n",
       "    }\n",
       "</style>\n",
       "<table border=\"1\" class=\"dataframe\">\n",
       "  <thead>\n",
       "    <tr>\n",
       "      <th></th>\n",
       "      <th colspan=\"3\" halign=\"left\">1.0</th>\n",
       "      <th colspan=\"3\" halign=\"left\">2.0</th>\n",
       "      <th colspan=\"3\" halign=\"left\">0.0</th>\n",
       "      <th>Emptys</th>\n",
       "      <th>Emptys part</th>\n",
       "    </tr>\n",
       "    <tr>\n",
       "      <th></th>\n",
       "      <th>AUC</th>\n",
       "      <th>rel_type</th>\n",
       "      <th>GINI</th>\n",
       "      <th>AUC</th>\n",
       "      <th>rel_type</th>\n",
       "      <th>GINI</th>\n",
       "      <th>AUC</th>\n",
       "      <th>rel_type</th>\n",
       "      <th>GINI</th>\n",
       "      <th></th>\n",
       "      <th></th>\n",
       "    </tr>\n",
       "  </thead>\n",
       "  <tbody>\n",
       "    <tr>\n",
       "      <th>numeric_variable</th>\n",
       "      <td>0.560719</td>\n",
       "      <td>1</td>\n",
       "      <td>0.121438</td>\n",
       "      <td>0.783178</td>\n",
       "      <td>1</td>\n",
       "      <td>0.566355</td>\n",
       "      <td>0.70878</td>\n",
       "      <td>-1</td>\n",
       "      <td>0.41756</td>\n",
       "      <td>0</td>\n",
       "      <td>0.0</td>\n",
       "    </tr>\n",
       "    <tr>\n",
       "      <th>object_variable</th>\n",
       "      <td>0.843526</td>\n",
       "      <td>1</td>\n",
       "      <td>0.687053</td>\n",
       "      <td>0.926504</td>\n",
       "      <td>1</td>\n",
       "      <td>0.853007</td>\n",
       "      <td>0.937618</td>\n",
       "      <td>1</td>\n",
       "      <td>0.875236</td>\n",
       "      <td>0</td>\n",
       "      <td>0.0</td>\n",
       "    </tr>\n",
       "    <tr>\n",
       "      <th>column with soo000oo000oo000oo000oo long name</th>\n",
       "      <td>0.528922</td>\n",
       "      <td>-1</td>\n",
       "      <td>0.057844</td>\n",
       "      <td>0.529283</td>\n",
       "      <td>1</td>\n",
       "      <td>0.058566</td>\n",
       "      <td>0.518526</td>\n",
       "      <td>1</td>\n",
       "      <td>0.037052</td>\n",
       "      <td>0</td>\n",
       "      <td>0.0</td>\n",
       "    </tr>\n",
       "  </tbody>\n",
       "</table>\n",
       "</div>"
      ],
      "text/plain": [
       "                                                    1.0                     \\\n",
       "                                                    AUC rel_type      GINI   \n",
       "numeric_variable                               0.560719        1  0.121438   \n",
       "object_variable                                0.843526        1  0.687053   \n",
       "column with soo000oo000oo000oo000oo long name  0.528922       -1  0.057844   \n",
       "\n",
       "                                                    2.0                     \\\n",
       "                                                    AUC rel_type      GINI   \n",
       "numeric_variable                               0.783178        1  0.566355   \n",
       "object_variable                                0.926504        1  0.853007   \n",
       "column with soo000oo000oo000oo000oo long name  0.529283        1  0.058566   \n",
       "\n",
       "                                                    0.0                     \\\n",
       "                                                    AUC rel_type      GINI   \n",
       "numeric_variable                                0.70878       -1   0.41756   \n",
       "object_variable                                0.937618        1  0.875236   \n",
       "column with soo000oo000oo000oo000oo long name  0.518526        1  0.037052   \n",
       "\n",
       "                                              Emptys Emptys part  \n",
       "                                                                  \n",
       "numeric_variable                                   0         0.0  \n",
       "object_variable                                    0         0.0  \n",
       "column with soo000oo000oo000oo000oo long name      0         0.0  "
      ]
     },
     "execution_count": 24,
     "metadata": {},
     "output_type": "execute_result"
    }
   ],
   "source": [
    "my_cpp = classification_power_predictor(test_frame, Y)\n",
    "my_cpp.update_predictors()\n",
    "#my_cpp.get_predictors_data()\n",
    "my_cpp.result_DF"
   ]
  },
  {
   "cell_type": "markdown",
   "id": "9f55e2f0",
   "metadata": {},
   "source": [
    "Writig a double header table"
   ]
  },
  {
   "cell_type": "code",
   "execution_count": 25,
   "id": "70975bca",
   "metadata": {},
   "outputs": [],
   "source": [
    "\n",
    "\n",
    "xl_writer = pd.ExcelWriter(\"test_result/double_header_saver.xlsx\",engine='xlsxwriter')\n",
    "ws = xl_writer.book.add_worksheet('test')\n",
    "xl_writer.sheets['test'] = ws      \n",
    "\n",
    "my_cpp = classification_power_predictor(test_frame, Y)\n",
    "my_cpp.update_predictors()\n",
    "my_cpp.my_writer = xl_writer\n",
    "\n",
    "print_double_column_header(  my_cpp, ws, \n",
    "                            my_cpp.result_DF.loc[['numeric_variable'],:],\n",
    "                            \"A1\", 'Hello World', \n",
    "                            xl_writer.book.add_format(my_cpp.default_header_format))\n",
    "\n",
    "xl_writer.close()"
   ]
  },
  {
   "cell_type": "markdown",
   "id": "ab6f6bf1",
   "metadata": {},
   "source": [
    "Writing info about some predictor"
   ]
  },
  {
   "cell_type": "code",
   "execution_count": 26,
   "id": "d9d78fbb",
   "metadata": {},
   "outputs": [],
   "source": [
    "xl_writer = pd.ExcelWriter(\"test_result/writing_a_value.xlsx\",engine='xlsxwriter')\n",
    "\n",
    "ws = xl_writer.book.add_worksheet('test')\n",
    "xl_writer.sheets['test'] = ws                             \n",
    "\n",
    "my_cpp = classification_power_predictor(test_frame, Y)\n",
    "my_cpp.update_predictors()\n",
    "my_cpp.my_writer = xl_writer\n",
    "\n",
    "default_predictor_printer(my_cpp, ws, my_cpp.get_predictors_data()['numeric_variable'], \n",
    "{'header_format':xl_writer.book.add_format(my_cpp.default_header_format),\n",
    "  'desc_format':xl_writer.book.add_format(my_cpp.default_header_format),\n",
    "  'class_ab_format':xl_writer.book.add_format(my_cpp.default_header_format)})\n",
    "\n",
    "xl_writer.close()"
   ]
  },
  {
   "cell_type": "code",
   "execution_count": 27,
   "id": "3cc552d9",
   "metadata": {},
   "outputs": [],
   "source": [
    "xl_writer = pd.ExcelWriter(\"test_result/result_test.xlsx\",engine='xlsxwriter')\n",
    "my_cpp.write_to_book(xl_writer)\n",
    "xl_writer.close()"
   ]
  }
 ],
 "metadata": {
  "kernelspec": {
   "display_name": "Python 3 (ipykernel)",
   "language": "python",
   "name": "python3"
  },
  "language_info": {
   "codemirror_mode": {
    "name": "ipython",
    "version": 3
   },
   "file_extension": ".py",
   "mimetype": "text/x-python",
   "name": "python",
   "nbconvert_exporter": "python",
   "pygments_lexer": "ipython3",
   "version": "3.10.2"
  }
 },
 "nbformat": 4,
 "nbformat_minor": 5
}
