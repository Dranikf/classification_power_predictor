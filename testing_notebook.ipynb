{
 "cells": [
  {
   "cell_type": "markdown",
   "id": "39746abf",
   "metadata": {},
   "source": [
    "# Testing notebook"
   ]
  },
  {
   "cell_type": "code",
   "execution_count": 14,
   "id": "3b59c6fc",
   "metadata": {},
   "outputs": [],
   "source": [
    "import xlsxwriter\n",
    "import pandas as pd\n",
    "import numpy as np\n",
    "\n",
    "from classification_power_predictor import classification_power_predictor\n",
    "from writing import *"
   ]
  },
  {
   "cell_type": "markdown",
   "id": "0c2fe7ca",
   "metadata": {},
   "source": [
    "## We need some testing data"
   ]
  },
  {
   "cell_type": "code",
   "execution_count": 15,
   "id": "95c1aefc",
   "metadata": {},
   "outputs": [],
   "source": [
    "# frame size\n",
    "n = 1000\n",
    "\n",
    "test_frame = pd.DataFrame({\"numeric_variable\": np.random.normal(10, 5, n), \n",
    "                           \"object_variable\": np.round(np.random.uniform(0, 10, n)).astype('O'),\n",
    "                           \"column with soo000oo000oo000oo000oo long name\": np.random.normal(10, 5, n)})\n",
    "\n",
    "nv = test_frame[\"numeric_variable\"]\n",
    "ov = test_frame[\"object_variable\"]\n",
    "\n",
    "probs1 = nv.apply(lambda x: (x/(max(nv) - min(nv))) + ((np.random.rand())/5))\n",
    "probs2 = ov.apply(lambda x: (x/(max(ov) - min(ov))) + ((np.random.rand())/5))\n",
    "\n",
    "f_probs = (probs1 + probs2)/2\n",
    "f_probs[f_probs >= 1] = 1\n",
    "\n",
    "\n",
    "Y = np.zeros(n)\n",
    "Y[f_probs > 0.4] = 1\n",
    "Y[f_probs > 0.7] = 2\n",
    "\n",
    "Y = pd.Series(Y)\n",
    "Y_strs = Y.replace({0: 'cetegory 0', 1:'category 1', 2:'category 2'})\n",
    "Y.value_counts()\n",
    "Y_binary = Y.replace({2:1})\n",
    "\n",
    "na_containts_frame = test_frame.copy()\n",
    "\n",
    "for col in test_frame.columns:\n",
    "    na_containts_frame.loc[na_containts_frame.sample(int(n/50)).index, col] = np.NaN"
   ]
  },
  {
   "cell_type": "markdown",
   "id": "faea01a5",
   "metadata": {},
   "source": [
    "## Computions funcitons"
   ]
  },
  {
   "cell_type": "code",
   "execution_count": 16,
   "id": "10639a29",
   "metadata": {},
   "outputs": [],
   "source": [
    "from computions import *"
   ]
  },
  {
   "cell_type": "markdown",
   "id": "c75f1b01",
   "metadata": {},
   "source": [
    "### get_describe_nominal function test"
   ]
  },
  {
   "cell_type": "markdown",
   "id": "fb231041",
   "metadata": {},
   "source": [
    "Basic situation"
   ]
  },
  {
   "cell_type": "code",
   "execution_count": 17,
   "id": "3954086a",
   "metadata": {},
   "outputs": [
    {
     "data": {
      "text/html": [
       "<div>\n",
       "<style scoped>\n",
       "    .dataframe tbody tr th:only-of-type {\n",
       "        vertical-align: middle;\n",
       "    }\n",
       "\n",
       "    .dataframe tbody tr th {\n",
       "        vertical-align: top;\n",
       "    }\n",
       "\n",
       "    .dataframe thead th {\n",
       "        text-align: right;\n",
       "    }\n",
       "</style>\n",
       "<table border=\"1\" class=\"dataframe\">\n",
       "  <thead>\n",
       "    <tr style=\"text-align: right;\">\n",
       "      <th></th>\n",
       "      <th>count</th>\n",
       "      <th>1.0</th>\n",
       "      <th>1.0%</th>\n",
       "      <th>2.0</th>\n",
       "      <th>2.0%</th>\n",
       "      <th>0.0</th>\n",
       "      <th>0.0%</th>\n",
       "    </tr>\n",
       "    <tr>\n",
       "      <th>object_variable</th>\n",
       "      <th></th>\n",
       "      <th></th>\n",
       "      <th></th>\n",
       "      <th></th>\n",
       "      <th></th>\n",
       "      <th></th>\n",
       "      <th></th>\n",
       "    </tr>\n",
       "  </thead>\n",
       "  <tbody>\n",
       "    <tr>\n",
       "      <th>9.0</th>\n",
       "      <td>113</td>\n",
       "      <td>61</td>\n",
       "      <td>53.982301</td>\n",
       "      <td>52.0</td>\n",
       "      <td>46.017699</td>\n",
       "      <td>0.0</td>\n",
       "      <td>0.000000</td>\n",
       "    </tr>\n",
       "    <tr>\n",
       "      <th>1.0</th>\n",
       "      <td>105</td>\n",
       "      <td>11</td>\n",
       "      <td>10.476190</td>\n",
       "      <td>0.0</td>\n",
       "      <td>0.000000</td>\n",
       "      <td>94.0</td>\n",
       "      <td>89.523810</td>\n",
       "    </tr>\n",
       "    <tr>\n",
       "      <th>5.0</th>\n",
       "      <td>105</td>\n",
       "      <td>87</td>\n",
       "      <td>82.857143</td>\n",
       "      <td>0.0</td>\n",
       "      <td>0.000000</td>\n",
       "      <td>18.0</td>\n",
       "      <td>17.142857</td>\n",
       "    </tr>\n",
       "    <tr>\n",
       "      <th>7.0</th>\n",
       "      <td>103</td>\n",
       "      <td>95</td>\n",
       "      <td>92.233010</td>\n",
       "      <td>7.0</td>\n",
       "      <td>6.796117</td>\n",
       "      <td>1.0</td>\n",
       "      <td>0.970874</td>\n",
       "    </tr>\n",
       "    <tr>\n",
       "      <th>6.0</th>\n",
       "      <td>98</td>\n",
       "      <td>87</td>\n",
       "      <td>88.775510</td>\n",
       "      <td>4.0</td>\n",
       "      <td>4.081633</td>\n",
       "      <td>7.0</td>\n",
       "      <td>7.142857</td>\n",
       "    </tr>\n",
       "    <tr>\n",
       "      <th>3.0</th>\n",
       "      <td>98</td>\n",
       "      <td>44</td>\n",
       "      <td>44.897959</td>\n",
       "      <td>0.0</td>\n",
       "      <td>0.000000</td>\n",
       "      <td>54.0</td>\n",
       "      <td>55.102041</td>\n",
       "    </tr>\n",
       "    <tr>\n",
       "      <th>2.0</th>\n",
       "      <td>95</td>\n",
       "      <td>23</td>\n",
       "      <td>24.210526</td>\n",
       "      <td>0.0</td>\n",
       "      <td>0.000000</td>\n",
       "      <td>72.0</td>\n",
       "      <td>75.789474</td>\n",
       "    </tr>\n",
       "    <tr>\n",
       "      <th>4.0</th>\n",
       "      <td>92</td>\n",
       "      <td>68</td>\n",
       "      <td>73.913043</td>\n",
       "      <td>0.0</td>\n",
       "      <td>0.000000</td>\n",
       "      <td>24.0</td>\n",
       "      <td>26.086957</td>\n",
       "    </tr>\n",
       "    <tr>\n",
       "      <th>8.0</th>\n",
       "      <td>89</td>\n",
       "      <td>65</td>\n",
       "      <td>73.033708</td>\n",
       "      <td>24.0</td>\n",
       "      <td>26.966292</td>\n",
       "      <td>0.0</td>\n",
       "      <td>0.000000</td>\n",
       "    </tr>\n",
       "    <tr>\n",
       "      <th>0.0</th>\n",
       "      <td>53</td>\n",
       "      <td>1</td>\n",
       "      <td>1.886792</td>\n",
       "      <td>0.0</td>\n",
       "      <td>0.000000</td>\n",
       "      <td>52.0</td>\n",
       "      <td>98.113208</td>\n",
       "    </tr>\n",
       "    <tr>\n",
       "      <th>10.0</th>\n",
       "      <td>49</td>\n",
       "      <td>17</td>\n",
       "      <td>34.693878</td>\n",
       "      <td>32.0</td>\n",
       "      <td>65.306122</td>\n",
       "      <td>0.0</td>\n",
       "      <td>0.000000</td>\n",
       "    </tr>\n",
       "  </tbody>\n",
       "</table>\n",
       "</div>"
      ],
      "text/plain": [
       "                 count  1.0       1.0%   2.0       2.0%   0.0       0.0%\n",
       "object_variable                                                         \n",
       "9.0                113   61  53.982301  52.0  46.017699   0.0   0.000000\n",
       "1.0                105   11  10.476190   0.0   0.000000  94.0  89.523810\n",
       "5.0                105   87  82.857143   0.0   0.000000  18.0  17.142857\n",
       "7.0                103   95  92.233010   7.0   6.796117   1.0   0.970874\n",
       "6.0                 98   87  88.775510   4.0   4.081633   7.0   7.142857\n",
       "3.0                 98   44  44.897959   0.0   0.000000  54.0  55.102041\n",
       "2.0                 95   23  24.210526   0.0   0.000000  72.0  75.789474\n",
       "4.0                 92   68  73.913043   0.0   0.000000  24.0  26.086957\n",
       "8.0                 89   65  73.033708  24.0  26.966292   0.0   0.000000\n",
       "0.0                 53    1   1.886792   0.0   0.000000  52.0  98.113208\n",
       "10.0                49   17  34.693878  32.0  65.306122   0.0   0.000000"
      ]
     },
     "execution_count": 17,
     "metadata": {},
     "output_type": "execute_result"
    }
   ],
   "source": [
    "get_describe_nominal(test_frame.iloc[:,1], Y)"
   ]
  },
  {
   "cell_type": "markdown",
   "id": "6c801486",
   "metadata": {},
   "source": [
    "Data frame with emptys"
   ]
  },
  {
   "cell_type": "code",
   "execution_count": 18,
   "id": "5dca1007",
   "metadata": {},
   "outputs": [
    {
     "name": "stdout",
     "output_type": "stream",
     "text": [
      "Is all obs. are in table -  False\n",
      "Is all obs. are in table -  True\n"
     ]
    }
   ],
   "source": [
    "test = get_describe_nominal(na_containts_frame.iloc[:,1], Y)\n",
    "print(\"Is all obs. are in table - \",  str(test['count'].sum() == n))\n",
    "test = get_describe_nominal(na_containts_frame.fillna('empty').iloc[:,1], Y)\n",
    "print(\"Is all obs. are in table - \",  str(test['count'].sum() == n))"
   ]
  },
  {
   "cell_type": "markdown",
   "id": "e7ed1137",
   "metadata": {},
   "source": [
    "### AUC computing test\n",
    "\n",
    "AUC numeric - simple fucntion"
   ]
  },
  {
   "cell_type": "code",
   "execution_count": 19,
   "id": "67bb1cf7",
   "metadata": {},
   "outputs": [
    {
     "name": "stdout",
     "output_type": "stream",
     "text": [
      "{1.0: 0.5225439012814428, 2.0: 0.7661557244918398, 0.0: 0.3467313435570457}\n",
      "{'category 1': 0.5225439012814428, 'category 2': 0.7661557244918398, 'cetegory 0': 0.3467313435570457}\n",
      "{'category 1': 0.5253192389006343, 'category 2': 0.7666755801170633, 'cetegory 0': 0.3423416087483415}\n",
      "{1.0: 0.6532686564429542, 0.0: 0.3467313435570457}\n"
     ]
    }
   ],
   "source": [
    "print(get_AUC_numeric(test_frame['numeric_variable'] ,Y))\n",
    "print(get_AUC_numeric(test_frame['numeric_variable'], Y_strs))\n",
    "print(get_AUC_numeric(na_containts_frame['numeric_variable'], Y_strs))\n",
    "print(get_AUC_numeric(test_frame['numeric_variable'], Y_binary))"
   ]
  },
  {
   "cell_type": "markdown",
   "id": "6bcfed18",
   "metadata": {},
   "source": [
    "AUC nominal"
   ]
  },
  {
   "cell_type": "code",
   "execution_count": 20,
   "id": "f3213fdd",
   "metadata": {},
   "outputs": [
    {
     "name": "stdout",
     "output_type": "stream",
     "text": [
      "{'category 1': 0.8389272226481529, 'category 2': 0.9248848233958736, 'cetegory 0': 0.9364201432785504}\n",
      "AUC bynary\n",
      "{1.0: 0.9364201432785503, 0.0: 0.9364201432785504}\n",
      "AUC with emptys - needs to be replaces in previous steps\n",
      "{'category 1': 0.8365846040264644, 'category 2': 0.9246749778231383, 'cetegory 0': 0.9334313563824914}\n"
     ]
    },
    {
     "data": {
      "text/plain": [
       "{'category 1': 0.8365846040264644,\n",
       " 'category 2': 0.9246749778231383,\n",
       " 'cetegory 0': 0.9334313563824914}"
      ]
     },
     "execution_count": 20,
     "metadata": {},
     "output_type": "execute_result"
    }
   ],
   "source": [
    "non_table = get_AUC_nominal(test_frame['object_variable'], Y)\n",
    "dn_tab = get_describe_nominal(test_frame.iloc[:,1], Y_strs)\n",
    "with_table = get_AUC_nominal(test_frame['object_variable'], Y_strs, dn_tab)\n",
    "print(with_table)\n",
    "\n",
    "print('AUC bynary')\n",
    "print(get_AUC_nominal(test_frame['object_variable'], Y_binary))\n",
    "\n",
    "print('AUC with emptys - needs to be replaces in previous steps')\n",
    "print(get_AUC_nominal(na_containts_frame['object_variable'].fillna('empty'), Y_strs))\n",
    "\n",
    "get_AUC_nominal(na_containts_frame['object_variable'].fillna('empty'), Y_strs, \n",
    "                get_describe_nominal(na_containts_frame.iloc[:,1].fillna('empty'), Y_strs))\n"
   ]
  },
  {
   "cell_type": "markdown",
   "id": "2822fc40",
   "metadata": {},
   "source": [
    "Get publish AUC for any predictor type"
   ]
  },
  {
   "cell_type": "code",
   "execution_count": 21,
   "id": "94a81646",
   "metadata": {},
   "outputs": [
    {
     "name": "stdout",
     "output_type": "stream",
     "text": [
      "nominal predictor without table\n",
      "{1.0: {'AUC': 0.8389272226481529, 'rel_type': 1, 'GINI': 0.6778544452963058}, 2.0: {'AUC': 0.9248848233958736, 'rel_type': 1, 'GINI': 0.8497696467917473}, 0.0: {'AUC': 0.9364201432785504, 'rel_type': 1, 'GINI': 0.8728402865571008}}\n",
      "moninal predictor with table\n",
      "{'category 1': {'AUC': 0.8389272226481529, 'rel_type': 1, 'GINI': 0.6778544452963058}, 'category 2': {'AUC': 0.9248848233958736, 'rel_type': 1, 'GINI': 0.8497696467917473}, 'cetegory 0': {'AUC': 0.9364201432785504, 'rel_type': 1, 'GINI': 0.8728402865571008}}\n",
      "numeric predictor\n",
      "{1.0: {'AUC': 0.5225439012814428, 'rel_type': 1, 'GINI': 0.04508780256288558}, 2.0: {'AUC': 0.7661557244918398, 'rel_type': 1, 'GINI': 0.5323114489836795}, 0.0: {'AUC': 0.6532686564429543, 'rel_type': -1, 'GINI': 0.3065373128859086}}\n"
     ]
    }
   ],
   "source": [
    "non_table = get_full_AUC(test_frame['object_variable'], Y, 'nominal')\n",
    "print('nominal predictor without table')\n",
    "print(non_table)\n",
    "\n",
    "with_table = get_full_AUC(test_frame['object_variable'], Y_strs, 'nominal', descr_table = dn_tab)\n",
    "print('moninal predictor with table')\n",
    "print(with_table)\n",
    "\n",
    "numeric_var = get_full_AUC(test_frame['numeric_variable'], Y, 'numeric')\n",
    "print('numeric predictor')\n",
    "print(numeric_var)"
   ]
  },
  {
   "cell_type": "markdown",
   "id": "d3ef07d0",
   "metadata": {},
   "source": [
    "Decoding AUC info as DataFrame"
   ]
  },
  {
   "cell_type": "code",
   "execution_count": 22,
   "id": "1af239c7",
   "metadata": {},
   "outputs": [
    {
     "data": {
      "text/html": [
       "<div>\n",
       "<style scoped>\n",
       "    .dataframe tbody tr th:only-of-type {\n",
       "        vertical-align: middle;\n",
       "    }\n",
       "\n",
       "    .dataframe tbody tr th {\n",
       "        vertical-align: top;\n",
       "    }\n",
       "\n",
       "    .dataframe thead tr th {\n",
       "        text-align: left;\n",
       "    }\n",
       "</style>\n",
       "<table border=\"1\" class=\"dataframe\">\n",
       "  <thead>\n",
       "    <tr>\n",
       "      <th></th>\n",
       "      <th colspan=\"3\" halign=\"left\">1.0</th>\n",
       "      <th colspan=\"3\" halign=\"left\">2.0</th>\n",
       "      <th colspan=\"3\" halign=\"left\">0.0</th>\n",
       "    </tr>\n",
       "    <tr>\n",
       "      <th></th>\n",
       "      <th>AUC</th>\n",
       "      <th>rel_type</th>\n",
       "      <th>GINI</th>\n",
       "      <th>AUC</th>\n",
       "      <th>rel_type</th>\n",
       "      <th>GINI</th>\n",
       "      <th>AUC</th>\n",
       "      <th>rel_type</th>\n",
       "      <th>GINI</th>\n",
       "    </tr>\n",
       "  </thead>\n",
       "  <tbody>\n",
       "    <tr>\n",
       "      <th>numeric_variable</th>\n",
       "      <td>0.522544</td>\n",
       "      <td>1</td>\n",
       "      <td>0.045088</td>\n",
       "      <td>0.766156</td>\n",
       "      <td>1</td>\n",
       "      <td>0.532311</td>\n",
       "      <td>0.653269</td>\n",
       "      <td>-1</td>\n",
       "      <td>0.306537</td>\n",
       "    </tr>\n",
       "  </tbody>\n",
       "</table>\n",
       "</div>"
      ],
      "text/plain": [
       "                       1.0                          2.0                     \\\n",
       "                       AUC rel_type      GINI       AUC rel_type      GINI   \n",
       "numeric_variable  0.522544        1  0.045088  0.766156        1  0.532311   \n",
       "\n",
       "                       0.0                     \n",
       "                       AUC rel_type      GINI  \n",
       "numeric_variable  0.653269       -1  0.306537  "
      ]
     },
     "execution_count": 22,
     "metadata": {},
     "output_type": "execute_result"
    }
   ],
   "source": [
    "numeric_var = get_full_AUC(test_frame['numeric_variable'], Y, 'numeric')\n",
    "AUC_info_to_DataFrame(numeric_var,'numeric_variable')"
   ]
  },
  {
   "cell_type": "markdown",
   "id": "49ffe5dc",
   "metadata": {},
   "source": [
    "get_all_computions funcion test"
   ]
  },
  {
   "cell_type": "code",
   "execution_count": 23,
   "id": "81598887",
   "metadata": {},
   "outputs": [
    {
     "name": "stdout",
     "output_type": "stream",
     "text": [
      "describe_table with no nas\n",
      "                 count  1.0       1.0%   2.0       2.0%   0.0       0.0%\n",
      "object_variable                                                         \n",
      "9.0                113   61  53.982301  52.0  46.017699   0.0   0.000000\n",
      "1.0                105   11  10.476190   0.0   0.000000  94.0  89.523810\n",
      "5.0                105   87  82.857143   0.0   0.000000  18.0  17.142857\n",
      "7.0                103   95  92.233010   7.0   6.796117   1.0   0.970874\n",
      "6.0                 98   87  88.775510   4.0   4.081633   7.0   7.142857\n",
      "3.0                 98   44  44.897959   0.0   0.000000  54.0  55.102041\n",
      "2.0                 95   23  24.210526   0.0   0.000000  72.0  75.789474\n",
      "4.0                 92   68  73.913043   0.0   0.000000  24.0  26.086957\n",
      "8.0                 89   65  73.033708  24.0  26.966292   0.0   0.000000\n",
      "0.0                 53    1   1.886792   0.0   0.000000  52.0  98.113208\n",
      "10.0                49   17  34.693878  32.0  65.306122   0.0   0.000000\n",
      "describe_table with nas\n",
      "                 count  1.0       1.0%   2.0       2.0%   0.0       0.0%\n",
      "object_variable                                                         \n",
      "9.0                113   61  53.982301  52.0  46.017699   0.0   0.000000\n",
      "1.0                103   11  10.679612   0.0   0.000000  92.0  89.320388\n",
      "5.0                102   84  82.352941   0.0   0.000000  18.0  17.647059\n",
      "7.0                101   93  92.079208   7.0   6.930693   1.0   0.990099\n",
      "3.0                 97   44  45.360825   0.0   0.000000  53.0  54.639175\n",
      "6.0                 95   86  90.526316   3.0   3.157895   6.0   6.315789\n",
      "2.0                 93   23  24.731183   0.0   0.000000  70.0  75.268817\n",
      "4.0                 90   67  74.444444   0.0   0.000000  23.0  25.555556\n",
      "8.0                 87   63  72.413793  24.0  27.586207   0.0   0.000000\n",
      "0.0                 52    1   1.923077   0.0   0.000000  51.0  98.076923\n",
      "10.0                47   16  34.042553  31.0  65.957447   0.0   0.000000\n",
      "Empty               20   10  50.000000   2.0  10.000000   8.0  40.000000\n"
     ]
    }
   ],
   "source": [
    "print('describe_table with no nas')\n",
    "print(get_all_comuptions(test_frame['object_variable'], Y)['describe_table'])\n",
    "print('describe_table with nas')\n",
    "print(get_all_comuptions(na_containts_frame['object_variable'], Y)['describe_table'])"
   ]
  },
  {
   "cell_type": "markdown",
   "id": "46bdf21d",
   "metadata": {},
   "source": [
    "Getting indicators from computions uotput"
   ]
  },
  {
   "cell_type": "code",
   "execution_count": 24,
   "metadata": {},
   "outputs": [
    {
     "name": "stdout",
     "output_type": "stream",
     "text": [
      "full numeric data\n",
      "numeric data with nas, with str categoryes\n"
     ]
    },
    {
     "data": {
      "text/html": [
       "<div>\n",
       "<style scoped>\n",
       "    .dataframe tbody tr th:only-of-type {\n",
       "        vertical-align: middle;\n",
       "    }\n",
       "\n",
       "    .dataframe tbody tr th {\n",
       "        vertical-align: top;\n",
       "    }\n",
       "\n",
       "    .dataframe thead tr th {\n",
       "        text-align: left;\n",
       "    }\n",
       "</style>\n",
       "<table border=\"1\" class=\"dataframe\">\n",
       "  <thead>\n",
       "    <tr>\n",
       "      <th></th>\n",
       "      <th colspan=\"3\" halign=\"left\">category 1</th>\n",
       "      <th colspan=\"3\" halign=\"left\">category 2</th>\n",
       "      <th colspan=\"3\" halign=\"left\">cetegory 0</th>\n",
       "      <th>Emptys</th>\n",
       "      <th>Emptys part</th>\n",
       "    </tr>\n",
       "    <tr>\n",
       "      <th></th>\n",
       "      <th>AUC</th>\n",
       "      <th>rel_type</th>\n",
       "      <th>GINI</th>\n",
       "      <th>AUC</th>\n",
       "      <th>rel_type</th>\n",
       "      <th>GINI</th>\n",
       "      <th>AUC</th>\n",
       "      <th>rel_type</th>\n",
       "      <th>GINI</th>\n",
       "      <th></th>\n",
       "      <th></th>\n",
       "    </tr>\n",
       "  </thead>\n",
       "  <tbody>\n",
       "    <tr>\n",
       "      <th>numeric_variable</th>\n",
       "      <td>0.525319</td>\n",
       "      <td>1</td>\n",
       "      <td>0.050638</td>\n",
       "      <td>0.766676</td>\n",
       "      <td>1</td>\n",
       "      <td>0.533351</td>\n",
       "      <td>0.657658</td>\n",
       "      <td>-1</td>\n",
       "      <td>0.315317</td>\n",
       "      <td>20</td>\n",
       "      <td>0.02</td>\n",
       "    </tr>\n",
       "  </tbody>\n",
       "</table>\n",
       "</div>"
      ],
      "text/plain": [
       "                 category 1                    category 2                     \\\n",
       "                        AUC rel_type      GINI        AUC rel_type      GINI   \n",
       "numeric_variable   0.525319        1  0.050638   0.766676        1  0.533351   \n",
       "\n",
       "                 cetegory 0                    Emptys Emptys part  \n",
       "                        AUC rel_type      GINI                     \n",
       "numeric_variable   0.657658       -1  0.315317     20        0.02  "
      ]
     },
     "execution_count": 24,
     "metadata": {},
     "output_type": "execute_result"
    }
   ],
   "source": [
    "comp_result =  get_all_comuptions(test_frame['numeric_variable'], Y)\n",
    "print('full numeric data')\n",
    "get_predictor_row(comp_result)\n",
    "print('numeric data with nas, with str categoryes')\n",
    "comp_result =  get_all_comuptions(na_containts_frame['numeric_variable'], Y_strs)\n",
    "get_predictor_row(comp_result)"
   ]
  },
  {
   "cell_type": "markdown",
   "id": "99161e41",
   "metadata": {},
   "source": [
    "## Writing to excel"
   ]
  },
  {
   "cell_type": "markdown",
   "id": "1bc367dd",
   "metadata": {},
   "source": [
    "Adding a info about different predictors"
   ]
  },
  {
   "cell_type": "code",
   "execution_count": 25,
   "id": "84079594",
   "metadata": {},
   "outputs": [],
   "source": [
    "my_cpp = classification_power_predictor(test_frame, Y)\n",
    "my_cpp.update_predictors()"
   ]
  },
  {
   "cell_type": "markdown",
   "id": "bc0c47ab",
   "metadata": {},
   "source": [
    "Let's show final table"
   ]
  },
  {
   "cell_type": "code",
   "execution_count": 26,
   "id": "854b6dd4",
   "metadata": {},
   "outputs": [
    {
     "data": {
      "text/html": [
       "<div>\n",
       "<style scoped>\n",
       "    .dataframe tbody tr th:only-of-type {\n",
       "        vertical-align: middle;\n",
       "    }\n",
       "\n",
       "    .dataframe tbody tr th {\n",
       "        vertical-align: top;\n",
       "    }\n",
       "\n",
       "    .dataframe thead tr th {\n",
       "        text-align: left;\n",
       "    }\n",
       "</style>\n",
       "<table border=\"1\" class=\"dataframe\">\n",
       "  <thead>\n",
       "    <tr>\n",
       "      <th></th>\n",
       "      <th colspan=\"3\" halign=\"left\">1.0</th>\n",
       "      <th colspan=\"3\" halign=\"left\">2.0</th>\n",
       "      <th colspan=\"3\" halign=\"left\">0.0</th>\n",
       "      <th>Emptys</th>\n",
       "      <th>Emptys part</th>\n",
       "    </tr>\n",
       "    <tr>\n",
       "      <th></th>\n",
       "      <th>AUC</th>\n",
       "      <th>rel_type</th>\n",
       "      <th>GINI</th>\n",
       "      <th>AUC</th>\n",
       "      <th>rel_type</th>\n",
       "      <th>GINI</th>\n",
       "      <th>AUC</th>\n",
       "      <th>rel_type</th>\n",
       "      <th>GINI</th>\n",
       "      <th></th>\n",
       "      <th></th>\n",
       "    </tr>\n",
       "  </thead>\n",
       "  <tbody>\n",
       "    <tr>\n",
       "      <th>numeric_variable</th>\n",
       "      <td>0.522544</td>\n",
       "      <td>1</td>\n",
       "      <td>0.045088</td>\n",
       "      <td>0.766156</td>\n",
       "      <td>1</td>\n",
       "      <td>0.532311</td>\n",
       "      <td>0.653269</td>\n",
       "      <td>-1</td>\n",
       "      <td>0.306537</td>\n",
       "      <td>0</td>\n",
       "      <td>0.0</td>\n",
       "    </tr>\n",
       "    <tr>\n",
       "      <th>object_variable</th>\n",
       "      <td>0.838927</td>\n",
       "      <td>1</td>\n",
       "      <td>0.677854</td>\n",
       "      <td>0.924885</td>\n",
       "      <td>1</td>\n",
       "      <td>0.84977</td>\n",
       "      <td>0.93642</td>\n",
       "      <td>1</td>\n",
       "      <td>0.87284</td>\n",
       "      <td>0</td>\n",
       "      <td>0.0</td>\n",
       "    </tr>\n",
       "    <tr>\n",
       "      <th>column with soo000oo000oo000oo000oo long name</th>\n",
       "      <td>0.507409</td>\n",
       "      <td>-1</td>\n",
       "      <td>0.014818</td>\n",
       "      <td>0.512042</td>\n",
       "      <td>1</td>\n",
       "      <td>0.024085</td>\n",
       "      <td>0.502583</td>\n",
       "      <td>1</td>\n",
       "      <td>0.005167</td>\n",
       "      <td>0</td>\n",
       "      <td>0.0</td>\n",
       "    </tr>\n",
       "  </tbody>\n",
       "</table>\n",
       "</div>"
      ],
      "text/plain": [
       "                                                    1.0                     \\\n",
       "                                                    AUC rel_type      GINI   \n",
       "numeric_variable                               0.522544        1  0.045088   \n",
       "object_variable                                0.838927        1  0.677854   \n",
       "column with soo000oo000oo000oo000oo long name  0.507409       -1  0.014818   \n",
       "\n",
       "                                                    2.0                     \\\n",
       "                                                    AUC rel_type      GINI   \n",
       "numeric_variable                               0.766156        1  0.532311   \n",
       "object_variable                                0.924885        1   0.84977   \n",
       "column with soo000oo000oo000oo000oo long name  0.512042        1  0.024085   \n",
       "\n",
       "                                                    0.0                     \\\n",
       "                                                    AUC rel_type      GINI   \n",
       "numeric_variable                               0.653269       -1  0.306537   \n",
       "object_variable                                 0.93642        1   0.87284   \n",
       "column with soo000oo000oo000oo000oo long name  0.502583        1  0.005167   \n",
       "\n",
       "                                              Emptys Emptys part  \n",
       "                                                                  \n",
       "numeric_variable                                   0         0.0  \n",
       "object_variable                                    0         0.0  \n",
       "column with soo000oo000oo000oo000oo long name      0         0.0  "
      ]
     },
     "execution_count": 26,
     "metadata": {},
     "output_type": "execute_result"
    }
   ],
   "source": [
    "my_cpp = classification_power_predictor(test_frame, Y)\n",
    "my_cpp.update_predictors()\n",
    "#my_cpp.get_predictors_data()\n",
    "my_cpp.result_DF"
   ]
  },
  {
   "cell_type": "markdown",
   "id": "9f55e2f0",
   "metadata": {},
   "source": [
    "Writig a double header table"
   ]
  },
  {
   "cell_type": "code",
   "execution_count": 27,
   "id": "70975bca",
   "metadata": {},
   "outputs": [],
   "source": [
    "\n",
    "\n",
    "xl_writer = pd.ExcelWriter(\"test_result/double_header_saver.xlsx\",engine='xlsxwriter')\n",
    "ws = xl_writer.book.add_worksheet('test')\n",
    "xl_writer.sheets['test'] = ws      \n",
    "\n",
    "my_cpp = classification_power_predictor(test_frame, Y)\n",
    "my_cpp.update_predictors()\n",
    "my_cpp.my_writer = xl_writer\n",
    "\n",
    "print_double_column_header(  my_cpp, ws, \n",
    "                            my_cpp.result_DF.loc[['numeric_variable'],:],\n",
    "                            \"A1\", 'Hello World', \n",
    "                            xl_writer.book.add_format(my_cpp.default_header_format))\n",
    "\n",
    "xl_writer.close()"
   ]
  },
  {
   "cell_type": "markdown",
   "id": "ab6f6bf1",
   "metadata": {},
   "source": [
    "Writing info about some predictor"
   ]
  },
  {
   "cell_type": "code",
   "execution_count": 28,
   "id": "d9d78fbb",
   "metadata": {},
   "outputs": [],
   "source": [
    "xl_writer = pd.ExcelWriter(\"test_result/writing_a_value.xlsx\",engine='xlsxwriter')\n",
    "\n",
    "ws = xl_writer.book.add_worksheet('test')\n",
    "xl_writer.sheets['test'] = ws                             \n",
    "\n",
    "my_cpp = classification_power_predictor(test_frame, Y)\n",
    "my_cpp.update_predictors()\n",
    "my_cpp.my_writer = xl_writer\n",
    "\n",
    "default_predictor_printer(my_cpp, ws, my_cpp.get_predictors_data()['numeric_variable'], \n",
    "{'header_format':xl_writer.book.add_format(my_cpp.default_header_format),\n",
    "  'desc_format':xl_writer.book.add_format(my_cpp.default_header_format),\n",
    "  'class_ab_format':xl_writer.book.add_format(my_cpp.default_header_format)})\n",
    "\n",
    "xl_writer.close()"
   ]
  },
  {
   "cell_type": "code",
   "execution_count": 29,
   "id": "3cc552d9",
   "metadata": {},
   "outputs": [],
   "source": [
    "xl_writer = pd.ExcelWriter(\"test_result/result_test.xlsx\",engine='xlsxwriter')\n",
    "my_cpp.write_to_book(xl_writer)\n",
    "xl_writer.close()"
   ]
  }
 ],
 "metadata": {
  "kernelspec": {
   "display_name": "Python 3 (ipykernel)",
   "language": "python",
   "name": "python3"
  },
  "language_info": {
   "codemirror_mode": {
    "name": "ipython",
    "version": 3
   },
   "file_extension": ".py",
   "mimetype": "text/x-python",
   "name": "python",
   "nbconvert_exporter": "python",
   "pygments_lexer": "ipython3",
   "version": "3.10.2"
  }
 },
 "nbformat": 4,
 "nbformat_minor": 5
}
