{
 "cells": [
  {
   "cell_type": "markdown",
   "id": "39746abf",
   "metadata": {},
   "source": [
    "# Testing notebook"
   ]
  },
  {
   "cell_type": "code",
   "execution_count": 1,
   "id": "3b59c6fc",
   "metadata": {},
   "outputs": [],
   "source": [
    "import xlsxwriter\n",
    "import pandas as pd\n",
    "import numpy as np\n",
    "\n",
    "from classification_power_predictor import classification_power_predictor\n",
    "from writing import *"
   ]
  },
  {
   "cell_type": "markdown",
   "id": "0c2fe7ca",
   "metadata": {},
   "source": [
    "## We need some testing data"
   ]
  },
  {
   "cell_type": "code",
   "execution_count": 2,
   "id": "95c1aefc",
   "metadata": {},
   "outputs": [],
   "source": [
    "# frame size\n",
    "n = 1000\n",
    "\n",
    "test_frame = pd.DataFrame({\"numeric_variable\": np.random.normal(10, 5, n), \n",
    "                           \"object_variable\": np.round(np.random.uniform(0, 10, n)).astype('O'),\n",
    "                           \"column with soo000oo000oo000oo000oo long name\": np.random.normal(10, 5, n)})\n",
    "\n",
    "nv = test_frame[\"numeric_variable\"]\n",
    "ov = test_frame[\"object_variable\"]\n",
    "\n",
    "probs1 = nv.apply(lambda x: (x/(max(nv) - min(nv))) + ((np.random.rand())/5))\n",
    "probs2 = ov.apply(lambda x: (x/(max(ov) - min(ov))) + ((np.random.rand())/5))\n",
    "\n",
    "f_probs = (probs1 + probs2)/2\n",
    "f_probs[f_probs >= 1] = 1\n",
    "\n",
    "\n",
    "Y = np.zeros(n)\n",
    "Y[f_probs > 0.4] = 1\n",
    "Y[f_probs > 0.7] = 2\n",
    "\n",
    "Y = pd.Series(Y)\n",
    "Y_strs = Y.replace({0: 'cetegory 0', 1:'category 1', 2:'category 2'})\n",
    "Y.value_counts()\n",
    "Y_binary = Y.replace({2:1})\n",
    "\n",
    "na_containts_frame = test_frame.copy()\n",
    "\n",
    "for col in test_frame.columns:\n",
    "    na_containts_frame.loc[na_containts_frame.sample(int(n/50)).index, col] = np.NaN"
   ]
  },
  {
   "cell_type": "markdown",
   "id": "faea01a5",
   "metadata": {},
   "source": [
    "## Computions funcitons"
   ]
  },
  {
   "cell_type": "code",
   "execution_count": 3,
   "id": "10639a29",
   "metadata": {},
   "outputs": [],
   "source": [
    "from computions import *"
   ]
  },
  {
   "cell_type": "markdown",
   "id": "c75f1b01",
   "metadata": {},
   "source": [
    "### get_describe_nominal function test"
   ]
  },
  {
   "cell_type": "markdown",
   "id": "fb231041",
   "metadata": {},
   "source": [
    "Basic situation"
   ]
  },
  {
   "cell_type": "code",
   "execution_count": 4,
   "id": "3954086a",
   "metadata": {},
   "outputs": [
    {
     "name": "stdout",
     "output_type": "stream",
     "text": [
      "object_variable\n"
     ]
    },
    {
     "data": {
      "text/html": [
       "<div>\n",
       "<style scoped>\n",
       "    .dataframe tbody tr th:only-of-type {\n",
       "        vertical-align: middle;\n",
       "    }\n",
       "\n",
       "    .dataframe tbody tr th {\n",
       "        vertical-align: top;\n",
       "    }\n",
       "\n",
       "    .dataframe thead th {\n",
       "        text-align: right;\n",
       "    }\n",
       "</style>\n",
       "<table border=\"1\" class=\"dataframe\">\n",
       "  <thead>\n",
       "    <tr style=\"text-align: right;\">\n",
       "      <th></th>\n",
       "      <th>count</th>\n",
       "      <th>0.0</th>\n",
       "      <th>0.0%</th>\n",
       "      <th>1.0</th>\n",
       "      <th>1.0%</th>\n",
       "      <th>2.0</th>\n",
       "      <th>2.0%</th>\n",
       "    </tr>\n",
       "    <tr>\n",
       "      <th>object_variable</th>\n",
       "      <th></th>\n",
       "      <th></th>\n",
       "      <th></th>\n",
       "      <th></th>\n",
       "      <th></th>\n",
       "      <th></th>\n",
       "      <th></th>\n",
       "    </tr>\n",
       "  </thead>\n",
       "  <tbody>\n",
       "    <tr>\n",
       "      <th>1.0</th>\n",
       "      <td>113</td>\n",
       "      <td>106.0</td>\n",
       "      <td>93.805310</td>\n",
       "      <td>7.0</td>\n",
       "      <td>6.194690</td>\n",
       "      <td>0.0</td>\n",
       "      <td>0.000000</td>\n",
       "    </tr>\n",
       "    <tr>\n",
       "      <th>5.0</th>\n",
       "      <td>110</td>\n",
       "      <td>19.0</td>\n",
       "      <td>17.272727</td>\n",
       "      <td>90.0</td>\n",
       "      <td>81.818182</td>\n",
       "      <td>1.0</td>\n",
       "      <td>0.909091</td>\n",
       "    </tr>\n",
       "    <tr>\n",
       "      <th>6.0</th>\n",
       "      <td>104</td>\n",
       "      <td>6.0</td>\n",
       "      <td>5.769231</td>\n",
       "      <td>98.0</td>\n",
       "      <td>94.230769</td>\n",
       "      <td>0.0</td>\n",
       "      <td>0.000000</td>\n",
       "    </tr>\n",
       "    <tr>\n",
       "      <th>2.0</th>\n",
       "      <td>103</td>\n",
       "      <td>87.0</td>\n",
       "      <td>84.466019</td>\n",
       "      <td>16.0</td>\n",
       "      <td>15.533981</td>\n",
       "      <td>0.0</td>\n",
       "      <td>0.000000</td>\n",
       "    </tr>\n",
       "    <tr>\n",
       "      <th>8.0</th>\n",
       "      <td>102</td>\n",
       "      <td>0.0</td>\n",
       "      <td>0.000000</td>\n",
       "      <td>77.0</td>\n",
       "      <td>75.490196</td>\n",
       "      <td>25.0</td>\n",
       "      <td>24.509804</td>\n",
       "    </tr>\n",
       "    <tr>\n",
       "      <th>3.0</th>\n",
       "      <td>95</td>\n",
       "      <td>60.0</td>\n",
       "      <td>63.157895</td>\n",
       "      <td>35.0</td>\n",
       "      <td>36.842105</td>\n",
       "      <td>0.0</td>\n",
       "      <td>0.000000</td>\n",
       "    </tr>\n",
       "    <tr>\n",
       "      <th>7.0</th>\n",
       "      <td>92</td>\n",
       "      <td>0.0</td>\n",
       "      <td>0.000000</td>\n",
       "      <td>87.0</td>\n",
       "      <td>94.565217</td>\n",
       "      <td>5.0</td>\n",
       "      <td>5.434783</td>\n",
       "    </tr>\n",
       "    <tr>\n",
       "      <th>9.0</th>\n",
       "      <td>91</td>\n",
       "      <td>0.0</td>\n",
       "      <td>0.000000</td>\n",
       "      <td>60.0</td>\n",
       "      <td>65.934066</td>\n",
       "      <td>31.0</td>\n",
       "      <td>34.065934</td>\n",
       "    </tr>\n",
       "    <tr>\n",
       "      <th>4.0</th>\n",
       "      <td>89</td>\n",
       "      <td>36.0</td>\n",
       "      <td>40.449438</td>\n",
       "      <td>53.0</td>\n",
       "      <td>59.550562</td>\n",
       "      <td>0.0</td>\n",
       "      <td>0.000000</td>\n",
       "    </tr>\n",
       "    <tr>\n",
       "      <th>0.0</th>\n",
       "      <td>58</td>\n",
       "      <td>58.0</td>\n",
       "      <td>100.000000</td>\n",
       "      <td>0.0</td>\n",
       "      <td>0.000000</td>\n",
       "      <td>0.0</td>\n",
       "      <td>0.000000</td>\n",
       "    </tr>\n",
       "    <tr>\n",
       "      <th>10.0</th>\n",
       "      <td>43</td>\n",
       "      <td>0.0</td>\n",
       "      <td>0.000000</td>\n",
       "      <td>15.0</td>\n",
       "      <td>34.883721</td>\n",
       "      <td>28.0</td>\n",
       "      <td>65.116279</td>\n",
       "    </tr>\n",
       "  </tbody>\n",
       "</table>\n",
       "</div>"
      ],
      "text/plain": [
       "                 count    0.0        0.0%   1.0       1.0%   2.0       2.0%\n",
       "object_variable                                                            \n",
       "1.0                113  106.0   93.805310   7.0   6.194690   0.0   0.000000\n",
       "5.0                110   19.0   17.272727  90.0  81.818182   1.0   0.909091\n",
       "6.0                104    6.0    5.769231  98.0  94.230769   0.0   0.000000\n",
       "2.0                103   87.0   84.466019  16.0  15.533981   0.0   0.000000\n",
       "8.0                102    0.0    0.000000  77.0  75.490196  25.0  24.509804\n",
       "3.0                 95   60.0   63.157895  35.0  36.842105   0.0   0.000000\n",
       "7.0                 92    0.0    0.000000  87.0  94.565217   5.0   5.434783\n",
       "9.0                 91    0.0    0.000000  60.0  65.934066  31.0  34.065934\n",
       "4.0                 89   36.0   40.449438  53.0  59.550562   0.0   0.000000\n",
       "0.0                 58   58.0  100.000000   0.0   0.000000   0.0   0.000000\n",
       "10.0                43    0.0    0.000000  15.0  34.883721  28.0  65.116279"
      ]
     },
     "execution_count": 4,
     "metadata": {},
     "output_type": "execute_result"
    }
   ],
   "source": [
    "get_describe_nominal(test_frame.iloc[:,1], Y)"
   ]
  },
  {
   "cell_type": "markdown",
   "id": "6c801486",
   "metadata": {},
   "source": [
    "Data frame with emptys"
   ]
  },
  {
   "cell_type": "code",
   "execution_count": 5,
   "id": "5dca1007",
   "metadata": {},
   "outputs": [
    {
     "name": "stdout",
     "output_type": "stream",
     "text": [
      "object_variable\n",
      "Is all obs. are in table -  False\n",
      "object_variable\n",
      "Is all obs. are in table -  True\n"
     ]
    }
   ],
   "source": [
    "test = get_describe_nominal(na_containts_frame.iloc[:,1], Y)\n",
    "print(\"Is all obs. are in table - \",  str(test['count'].sum() == n))\n",
    "test = get_describe_nominal(na_containts_frame.fillna('empty').iloc[:,1], Y)\n",
    "print(\"Is all obs. are in table - \",  str(test['count'].sum() == n))"
   ]
  },
  {
   "cell_type": "markdown",
   "id": "e7ed1137",
   "metadata": {},
   "source": [
    "### AUC computing test\n",
    "\n",
    "AUC numeric - simple fucntion"
   ]
  },
  {
   "cell_type": "code",
   "execution_count": 6,
   "id": "67bb1cf7",
   "metadata": {},
   "outputs": [
    {
     "name": "stdout",
     "output_type": "stream",
     "text": [
      "{0.0: 0.3216474898979522, 1.0: 0.5754920420347929, 2.0: 0.7796336996336996}\n",
      "{'cetegory 0': 0.3216474898979522, 'category 1': 0.5754920420347929, 'category 2': 0.7796336996336996}\n",
      "{'cetegory 0': 0.32634814567323756, 'category 1': 0.569800319187705, 'category 2': 0.784307480635956}\n",
      "{0.0: 0.3216474898979522, 1.0: 0.6783525101020479}\n"
     ]
    }
   ],
   "source": [
    "print(get_AUC_numeric(test_frame['numeric_variable'] ,Y))\n",
    "print(get_AUC_numeric(test_frame['numeric_variable'], Y_strs))\n",
    "print(get_AUC_numeric(na_containts_frame['numeric_variable'], Y_strs))\n",
    "print(get_AUC_numeric(test_frame['numeric_variable'], Y_binary))"
   ]
  },
  {
   "cell_type": "markdown",
   "id": "6bcfed18",
   "metadata": {},
   "source": [
    "AUC nominal"
   ]
  },
  {
   "cell_type": "code",
   "execution_count": 7,
   "id": "f3213fdd",
   "metadata": {},
   "outputs": [
    {
     "name": "stdout",
     "output_type": "stream",
     "text": [
      "object_variable\n",
      "object_variable\n",
      "{'cetegory 0': 0.9502281521813574, 'category 1': 0.8755411255411255, 'category 2': 0.9302380952380953}\n",
      "AUC bynary\n",
      "object_variable\n",
      "{0.0: 0.9502281521813574, 1.0: 0.9502281521813574}\n",
      "AUC with emptys - needs to be replaces in previous steps\n",
      "object_variable\n",
      "{'cetegory 0': 0.9479423498390521, 'category 1': 0.8727852073576979, 'category 2': 0.927954822954823}\n"
     ]
    }
   ],
   "source": [
    "non_table = get_AUC_nominal(test_frame['object_variable'], Y)\n",
    "dn_tab = get_describe_nominal(test_frame.iloc[:,1], Y_strs)\n",
    "with_table = get_AUC_nominal(test_frame['object_variable'], Y_strs, dn_tab)\n",
    "print(with_table)\n",
    "\n",
    "print('AUC bynary')\n",
    "print(get_AUC_nominal(test_frame['object_variable'], Y_binary))\n",
    "\n",
    "print('AUC with emptys - needs to be replaces in previous steps')\n",
    "print(get_AUC_nominal(na_containts_frame['object_variable'].fillna('empty'), Y_strs))"
   ]
  },
  {
   "cell_type": "markdown",
   "id": "2822fc40",
   "metadata": {},
   "source": [
    "Get publish AUC for any predictor type"
   ]
  },
  {
   "cell_type": "code",
   "execution_count": 8,
   "id": "94a81646",
   "metadata": {},
   "outputs": [
    {
     "name": "stdout",
     "output_type": "stream",
     "text": [
      "object_variable\n",
      "nominal predictor without table\n",
      "{0.0: {'AUC': 0.9502281521813574, 'rel_type': 1, 'GINI': 0.9004563043627147}, 1.0: {'AUC': 0.8755411255411255, 'rel_type': 1, 'GINI': 0.751082251082251}, 2.0: {'AUC': 0.9302380952380953, 'rel_type': 1, 'GINI': 0.8604761904761906}}\n",
      "moninal predictor with table\n",
      "{'cetegory 0': {'AUC': 0.9502281521813574, 'rel_type': 1, 'GINI': 0.9004563043627147}, 'category 1': {'AUC': 0.8755411255411255, 'rel_type': 1, 'GINI': 0.751082251082251}, 'category 2': {'AUC': 0.9302380952380953, 'rel_type': 1, 'GINI': 0.8604761904761906}}\n",
      "object_variable\n",
      "nominal predictor with empty values\n",
      "{0.0: {'AUC': 0.9479423498390521, 'rel_type': 1, 'GINI': 0.8958846996781042}, 1.0: {'AUC': 0.8727852073576979, 'rel_type': 1, 'GINI': 0.7455704147153959}, 2.0: {'AUC': 0.927954822954823, 'rel_type': 1, 'GINI': 0.855909645909646}}\n",
      "numeric predictor\n",
      "{0.0: {'AUC': 0.6783525101020478, 'rel_type': -1, 'GINI': 0.35670502020409556}, 1.0: {'AUC': 0.5754920420347929, 'rel_type': 1, 'GINI': 0.15098408406958574}, 2.0: {'AUC': 0.7796336996336996, 'rel_type': 1, 'GINI': 0.5592673992673991}}\n"
     ]
    }
   ],
   "source": [
    "non_table = get_full_AUC(test_frame['object_variable'], Y, 'nominal')\n",
    "print('nominal predictor without table')\n",
    "print(non_table)\n",
    "\n",
    "with_table = get_full_AUC(test_frame['object_variable'], Y_strs, 'nominal', dn_tab)\n",
    "print('moninal predictor with table')\n",
    "print(with_table)\n",
    "\n",
    "with_nas = get_full_AUC(na_containts_frame['object_variable'], Y, 'nominal', fillna_nominal = 'empty' )\n",
    "print('nominal predictor with empty values')\n",
    "print(with_nas)\n",
    "\n",
    "numeric_var = get_full_AUC(test_frame['numeric_variable'], Y, 'numeric')\n",
    "print('numeric predictor')\n",
    "print(numeric_var)"
   ]
  },
  {
   "cell_type": "markdown",
   "id": "d3ef07d0",
   "metadata": {},
   "source": [
    "Decoding AUC info as DataFrame"
   ]
  },
  {
   "cell_type": "code",
   "execution_count": 9,
   "id": "1af239c7",
   "metadata": {},
   "outputs": [
    {
     "data": {
      "text/html": [
       "<div>\n",
       "<style scoped>\n",
       "    .dataframe tbody tr th:only-of-type {\n",
       "        vertical-align: middle;\n",
       "    }\n",
       "\n",
       "    .dataframe tbody tr th {\n",
       "        vertical-align: top;\n",
       "    }\n",
       "\n",
       "    .dataframe thead tr th {\n",
       "        text-align: left;\n",
       "    }\n",
       "</style>\n",
       "<table border=\"1\" class=\"dataframe\">\n",
       "  <thead>\n",
       "    <tr>\n",
       "      <th></th>\n",
       "      <th colspan=\"3\" halign=\"left\">0.0</th>\n",
       "      <th colspan=\"3\" halign=\"left\">1.0</th>\n",
       "      <th colspan=\"3\" halign=\"left\">2.0</th>\n",
       "    </tr>\n",
       "    <tr>\n",
       "      <th></th>\n",
       "      <th>AUC</th>\n",
       "      <th>rel_type</th>\n",
       "      <th>GINI</th>\n",
       "      <th>AUC</th>\n",
       "      <th>rel_type</th>\n",
       "      <th>GINI</th>\n",
       "      <th>AUC</th>\n",
       "      <th>rel_type</th>\n",
       "      <th>GINI</th>\n",
       "    </tr>\n",
       "  </thead>\n",
       "  <tbody>\n",
       "    <tr>\n",
       "      <th>numeric_variable</th>\n",
       "      <td>0.678353</td>\n",
       "      <td>-1</td>\n",
       "      <td>0.356705</td>\n",
       "      <td>0.575492</td>\n",
       "      <td>1</td>\n",
       "      <td>0.150984</td>\n",
       "      <td>0.779634</td>\n",
       "      <td>1</td>\n",
       "      <td>0.559267</td>\n",
       "    </tr>\n",
       "  </tbody>\n",
       "</table>\n",
       "</div>"
      ],
      "text/plain": [
       "                       0.0                          1.0                     \\\n",
       "                       AUC rel_type      GINI       AUC rel_type      GINI   \n",
       "numeric_variable  0.678353       -1  0.356705  0.575492        1  0.150984   \n",
       "\n",
       "                       2.0                     \n",
       "                       AUC rel_type      GINI  \n",
       "numeric_variable  0.779634        1  0.559267  "
      ]
     },
     "execution_count": 9,
     "metadata": {},
     "output_type": "execute_result"
    }
   ],
   "source": [
    "numeric_var = get_full_AUC(test_frame['numeric_variable'], Y, 'numeric')\n",
    "AUC_info_to_DataFrame(numeric_var,'numeric_variable')"
   ]
  },
  {
   "cell_type": "markdown",
   "id": "46bdf21d",
   "metadata": {},
   "source": [
    "Getting indicators from computions uotput"
   ]
  },
  {
   "cell_type": "code",
   "execution_count": 10,
   "metadata": {},
   "outputs": [
    {
     "name": "stdout",
     "output_type": "stream",
     "text": [
      "full numeric data\n",
      "numeric data with nas, with str categoryes\n"
     ]
    },
    {
     "data": {
      "text/html": [
       "<div>\n",
       "<style scoped>\n",
       "    .dataframe tbody tr th:only-of-type {\n",
       "        vertical-align: middle;\n",
       "    }\n",
       "\n",
       "    .dataframe tbody tr th {\n",
       "        vertical-align: top;\n",
       "    }\n",
       "\n",
       "    .dataframe thead tr th {\n",
       "        text-align: left;\n",
       "    }\n",
       "</style>\n",
       "<table border=\"1\" class=\"dataframe\">\n",
       "  <thead>\n",
       "    <tr>\n",
       "      <th></th>\n",
       "      <th colspan=\"3\" halign=\"left\">cetegory 0</th>\n",
       "      <th colspan=\"3\" halign=\"left\">category 1</th>\n",
       "      <th colspan=\"3\" halign=\"left\">category 2</th>\n",
       "      <th>Emptys</th>\n",
       "      <th>Emptys part</th>\n",
       "    </tr>\n",
       "    <tr>\n",
       "      <th></th>\n",
       "      <th>AUC</th>\n",
       "      <th>rel_type</th>\n",
       "      <th>GINI</th>\n",
       "      <th>AUC</th>\n",
       "      <th>rel_type</th>\n",
       "      <th>GINI</th>\n",
       "      <th>AUC</th>\n",
       "      <th>rel_type</th>\n",
       "      <th>GINI</th>\n",
       "      <th></th>\n",
       "      <th></th>\n",
       "    </tr>\n",
       "  </thead>\n",
       "  <tbody>\n",
       "    <tr>\n",
       "      <th>numeric_variable</th>\n",
       "      <td>0.673652</td>\n",
       "      <td>-1</td>\n",
       "      <td>0.347304</td>\n",
       "      <td>0.5698</td>\n",
       "      <td>1</td>\n",
       "      <td>0.139601</td>\n",
       "      <td>0.784307</td>\n",
       "      <td>1</td>\n",
       "      <td>0.568615</td>\n",
       "      <td>20</td>\n",
       "      <td>0.02</td>\n",
       "    </tr>\n",
       "  </tbody>\n",
       "</table>\n",
       "</div>"
      ],
      "text/plain": [
       "                 cetegory 0                    category 1                     \\\n",
       "                        AUC rel_type      GINI        AUC rel_type      GINI   \n",
       "numeric_variable   0.673652       -1  0.347304     0.5698        1  0.139601   \n",
       "\n",
       "                 category 2                    Emptys Emptys part  \n",
       "                        AUC rel_type      GINI                     \n",
       "numeric_variable   0.784307        1  0.568615     20        0.02  "
      ]
     },
     "execution_count": 10,
     "metadata": {},
     "output_type": "execute_result"
    }
   ],
   "source": [
    "comp_result =  get_all_comuptions(test_frame['numeric_variable'], Y)\n",
    "print('full numeric data')\n",
    "get_predictor_row(comp_result)\n",
    "print('numeric data with nas, with str categoryes')\n",
    "comp_result =  get_all_comuptions(na_containts_frame['numeric_variable'], Y_strs)\n",
    "get_predictor_row(comp_result)"
   ]
  },
  {
   "cell_type": "markdown",
   "id": "99161e41",
   "metadata": {},
   "source": [
    "## Writing to excel"
   ]
  },
  {
   "cell_type": "markdown",
   "id": "007e606b",
   "metadata": {},
   "source": [
    "Adding a new sheet"
   ]
  },
  {
   "cell_type": "code",
   "execution_count": 11,
   "id": "16d855b2",
   "metadata": {},
   "outputs": [],
   "source": [
    "xl_writer = pd.ExcelWriter(\"test_result/sheet_creation.xlsx\",engine='xlsxwriter')\n",
    "\n",
    "for i in range(20):\n",
    "    add_sheet(xl_writer, 'some name')\n",
    "    add_sheet(xl_writer, 'some very very very long long name')\n",
    "xl_writer.close()"
   ]
  },
  {
   "cell_type": "markdown",
   "id": "1bc367dd",
   "metadata": {},
   "source": [
    "Adding a info about different predictors"
   ]
  },
  {
   "cell_type": "code",
   "execution_count": 12,
   "id": "84079594",
   "metadata": {},
   "outputs": [
    {
     "name": "stdout",
     "output_type": "stream",
     "text": [
      "object_variable\n"
     ]
    }
   ],
   "source": [
    "my_cpp = classification_power_predictor(test_frame, Y)\n",
    "my_cpp.update_predictors()"
   ]
  },
  {
   "cell_type": "markdown",
   "id": "bc0c47ab",
   "metadata": {},
   "source": [
    "Let's show final table"
   ]
  },
  {
   "cell_type": "code",
   "execution_count": 13,
   "id": "854b6dd4",
   "metadata": {},
   "outputs": [
    {
     "name": "stdout",
     "output_type": "stream",
     "text": [
      "object_variable\n"
     ]
    },
    {
     "data": {
      "text/html": [
       "<div>\n",
       "<style scoped>\n",
       "    .dataframe tbody tr th:only-of-type {\n",
       "        vertical-align: middle;\n",
       "    }\n",
       "\n",
       "    .dataframe tbody tr th {\n",
       "        vertical-align: top;\n",
       "    }\n",
       "\n",
       "    .dataframe thead tr th {\n",
       "        text-align: left;\n",
       "    }\n",
       "</style>\n",
       "<table border=\"1\" class=\"dataframe\">\n",
       "  <thead>\n",
       "    <tr>\n",
       "      <th></th>\n",
       "      <th colspan=\"3\" halign=\"left\">0.0</th>\n",
       "      <th colspan=\"3\" halign=\"left\">1.0</th>\n",
       "      <th colspan=\"3\" halign=\"left\">2.0</th>\n",
       "      <th>Emptys</th>\n",
       "      <th>Emptys part</th>\n",
       "    </tr>\n",
       "    <tr>\n",
       "      <th></th>\n",
       "      <th>AUC</th>\n",
       "      <th>rel_type</th>\n",
       "      <th>GINI</th>\n",
       "      <th>AUC</th>\n",
       "      <th>rel_type</th>\n",
       "      <th>GINI</th>\n",
       "      <th>AUC</th>\n",
       "      <th>rel_type</th>\n",
       "      <th>GINI</th>\n",
       "      <th></th>\n",
       "      <th></th>\n",
       "    </tr>\n",
       "  </thead>\n",
       "  <tbody>\n",
       "    <tr>\n",
       "      <th>numeric_variable</th>\n",
       "      <td>0.678353</td>\n",
       "      <td>-1</td>\n",
       "      <td>0.356705</td>\n",
       "      <td>0.575492</td>\n",
       "      <td>1</td>\n",
       "      <td>0.150984</td>\n",
       "      <td>0.779634</td>\n",
       "      <td>1</td>\n",
       "      <td>0.559267</td>\n",
       "      <td>0</td>\n",
       "      <td>0.0</td>\n",
       "    </tr>\n",
       "    <tr>\n",
       "      <th>object_variable</th>\n",
       "      <td>0.950228</td>\n",
       "      <td>1</td>\n",
       "      <td>0.900456</td>\n",
       "      <td>0.875541</td>\n",
       "      <td>1</td>\n",
       "      <td>0.751082</td>\n",
       "      <td>0.930238</td>\n",
       "      <td>1</td>\n",
       "      <td>0.860476</td>\n",
       "      <td>0</td>\n",
       "      <td>0.0</td>\n",
       "    </tr>\n",
       "    <tr>\n",
       "      <th>column with soo000oo000oo000oo000oo long name</th>\n",
       "      <td>0.502247</td>\n",
       "      <td>1</td>\n",
       "      <td>0.004495</td>\n",
       "      <td>0.506268</td>\n",
       "      <td>-1</td>\n",
       "      <td>0.012536</td>\n",
       "      <td>0.512613</td>\n",
       "      <td>1</td>\n",
       "      <td>0.025226</td>\n",
       "      <td>0</td>\n",
       "      <td>0.0</td>\n",
       "    </tr>\n",
       "  </tbody>\n",
       "</table>\n",
       "</div>"
      ],
      "text/plain": [
       "                                                    0.0                     \\\n",
       "                                                    AUC rel_type      GINI   \n",
       "numeric_variable                               0.678353       -1  0.356705   \n",
       "object_variable                                0.950228        1  0.900456   \n",
       "column with soo000oo000oo000oo000oo long name  0.502247        1  0.004495   \n",
       "\n",
       "                                                    1.0                     \\\n",
       "                                                    AUC rel_type      GINI   \n",
       "numeric_variable                               0.575492        1  0.150984   \n",
       "object_variable                                0.875541        1  0.751082   \n",
       "column with soo000oo000oo000oo000oo long name  0.506268       -1  0.012536   \n",
       "\n",
       "                                                    2.0                     \\\n",
       "                                                    AUC rel_type      GINI   \n",
       "numeric_variable                               0.779634        1  0.559267   \n",
       "object_variable                                0.930238        1  0.860476   \n",
       "column with soo000oo000oo000oo000oo long name  0.512613        1  0.025226   \n",
       "\n",
       "                                              Emptys Emptys part  \n",
       "                                                                  \n",
       "numeric_variable                                   0         0.0  \n",
       "object_variable                                    0         0.0  \n",
       "column with soo000oo000oo000oo000oo long name      0         0.0  "
      ]
     },
     "execution_count": 13,
     "metadata": {},
     "output_type": "execute_result"
    }
   ],
   "source": [
    "my_cpp = classification_power_predictor(test_frame, Y)\n",
    "my_cpp.update_predictors()\n",
    "#my_cpp.get_predictors_data()\n",
    "my_cpp.result_DF"
   ]
  },
  {
   "cell_type": "markdown",
   "id": "9f55e2f0",
   "metadata": {},
   "source": [
    "Writig a double header table"
   ]
  },
  {
   "cell_type": "code",
   "execution_count": 14,
   "id": "70975bca",
   "metadata": {},
   "outputs": [
    {
     "name": "stdout",
     "output_type": "stream",
     "text": [
      "object_variable\n"
     ]
    }
   ],
   "source": [
    "\n",
    "\n",
    "xl_writer = pd.ExcelWriter(\"test_result/double_header_saver.xlsx\",engine='xlsxwriter')\n",
    "ws = xl_writer.book.add_worksheet('test')\n",
    "xl_writer.sheets['test'] = ws      \n",
    "\n",
    "my_cpp = classification_power_predictor(test_frame, Y)\n",
    "my_cpp.update_predictors()\n",
    "my_cpp.my_writer = xl_writer\n",
    "\n",
    "print_double_column_header(  my_cpp, ws, \n",
    "                            my_cpp.result_DF.loc[['numeric_variable'],:],\n",
    "                            \"A1\", 'Hello World', \n",
    "                            xl_writer.book.add_format(my_cpp.default_header_format))\n",
    "\n",
    "xl_writer.close()"
   ]
  },
  {
   "cell_type": "markdown",
   "id": "ab6f6bf1",
   "metadata": {},
   "source": [
    "Writing info about some predictor"
   ]
  },
  {
   "cell_type": "code",
   "execution_count": 15,
   "id": "d9d78fbb",
   "metadata": {},
   "outputs": [
    {
     "name": "stdout",
     "output_type": "stream",
     "text": [
      "object_variable\n"
     ]
    }
   ],
   "source": [
    "xl_writer = pd.ExcelWriter(\"test_result/writing_a_value.xlsx\",engine='xlsxwriter')\n",
    "\n",
    "ws = xl_writer.book.add_worksheet('test')\n",
    "xl_writer.sheets['test'] = ws                             \n",
    "\n",
    "my_cpp = classification_power_predictor(test_frame, Y)\n",
    "my_cpp.update_predictors()\n",
    "my_cpp.my_writer = xl_writer\n",
    "\n",
    "default_predictor_printer(my_cpp, ws, my_cpp.get_predictors_data()['numeric_variable'], \n",
    "{'header_format':xl_writer.book.add_format(my_cpp.default_header_format),\n",
    "  'desc_format':xl_writer.book.add_format(my_cpp.default_header_format),\n",
    "  'class_ab_format':xl_writer.book.add_format(my_cpp.default_header_format)})\n",
    "\n",
    "xl_writer.close()"
   ]
  },
  {
   "cell_type": "code",
   "execution_count": 17,
   "id": "3cc552d9",
   "metadata": {},
   "outputs": [],
   "source": [
    "xl_writer = pd.ExcelWriter(\"test_result/result_test.xlsx\",engine='xlsxwriter')\n",
    "my_cpp.write_to_book(xl_writer)\n",
    "xl_writer.close()"
   ]
  }
 ],
 "metadata": {
  "kernelspec": {
   "display_name": "Python 3 (ipykernel)",
   "language": "python",
   "name": "python3"
  },
  "language_info": {
   "codemirror_mode": {
    "name": "ipython",
    "version": 3
   },
   "file_extension": ".py",
   "mimetype": "text/x-python",
   "name": "python",
   "nbconvert_exporter": "python",
   "pygments_lexer": "ipython3",
   "version": "3.10.2"
  }
 },
 "nbformat": 4,
 "nbformat_minor": 5
}
