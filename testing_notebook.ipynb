{
 "cells": [
  {
   "cell_type": "markdown",
   "id": "39746abf",
   "metadata": {},
   "source": [
    "# Testing notebook"
   ]
  },
  {
   "cell_type": "code",
   "execution_count": 1,
   "id": "3b59c6fc",
   "metadata": {},
   "outputs": [],
   "source": [
    "import xlsxwriter\n",
    "import pandas as pd\n",
    "import numpy as np\n",
    "\n",
    "from classification_power_predictor import classification_power_predictor\n",
    "from writing import *"
   ]
  },
  {
   "cell_type": "markdown",
   "id": "0c2fe7ca",
   "metadata": {},
   "source": [
    "## We need some testing data"
   ]
  },
  {
   "cell_type": "code",
   "execution_count": 2,
   "id": "95c1aefc",
   "metadata": {},
   "outputs": [],
   "source": [
    "# frame size\n",
    "n = 1000\n",
    "\n",
    "test_frame = pd.DataFrame({\"numeric_variable\": np.random.normal(10, 5, n), \n",
    "                           \"object_variable\": np.round(np.random.uniform(0, 10, n)).astype('O'),\n",
    "                           \"column with soo000oo000oo000oo000oo long name\": np.random.normal(10, 5, n)})\n",
    "\n",
    "nv = test_frame[\"numeric_variable\"]\n",
    "ov = test_frame[\"object_variable\"]\n",
    "\n",
    "probs1 = nv.apply(lambda x: (x/(max(nv) - min(nv))) + ((np.random.rand())/5))\n",
    "probs2 = ov.apply(lambda x: (x/(max(ov) - min(ov))) + ((np.random.rand())/5))\n",
    "\n",
    "f_probs = (probs1 + probs2)/2\n",
    "f_probs[f_probs >= 1] = 1\n",
    "\n",
    "\n",
    "Y = np.zeros(n)\n",
    "Y[f_probs > 0.4] = 1\n",
    "Y[f_probs > 0.7] = 2\n",
    "\n",
    "Y = pd.Series(Y)\n",
    "Y_strs = Y.replace({0: 'cetegory 0', 1:'category 1', 2:'category 2'})\n",
    "Y.value_counts()\n",
    "Y_binary = Y.replace({2:1})\n",
    "\n",
    "na_containts_frame = test_frame.copy()\n",
    "\n",
    "for col in test_frame.columns:\n",
    "    na_containts_frame.loc[na_containts_frame.sample(int(n/50)).index, col] = np.NaN"
   ]
  },
  {
   "cell_type": "markdown",
   "id": "faea01a5",
   "metadata": {},
   "source": [
    "## Computions funcitons"
   ]
  },
  {
   "cell_type": "code",
   "execution_count": 3,
   "id": "10639a29",
   "metadata": {},
   "outputs": [],
   "source": [
    "from computions import *"
   ]
  },
  {
   "cell_type": "markdown",
   "id": "c75f1b01",
   "metadata": {},
   "source": [
    "### get_describe_nominal function test"
   ]
  },
  {
   "cell_type": "markdown",
   "id": "fb231041",
   "metadata": {},
   "source": [
    "Basic situation"
   ]
  },
  {
   "cell_type": "code",
   "execution_count": 4,
   "id": "3954086a",
   "metadata": {},
   "outputs": [
    {
     "name": "stdout",
     "output_type": "stream",
     "text": [
      "object_variable\n"
     ]
    },
    {
     "data": {
      "text/html": [
       "<div>\n",
       "<style scoped>\n",
       "    .dataframe tbody tr th:only-of-type {\n",
       "        vertical-align: middle;\n",
       "    }\n",
       "\n",
       "    .dataframe tbody tr th {\n",
       "        vertical-align: top;\n",
       "    }\n",
       "\n",
       "    .dataframe thead th {\n",
       "        text-align: right;\n",
       "    }\n",
       "</style>\n",
       "<table border=\"1\" class=\"dataframe\">\n",
       "  <thead>\n",
       "    <tr style=\"text-align: right;\">\n",
       "      <th></th>\n",
       "      <th>count</th>\n",
       "      <th>2.0</th>\n",
       "      <th>2.0%</th>\n",
       "      <th>1.0</th>\n",
       "      <th>1.0%</th>\n",
       "      <th>0.0</th>\n",
       "      <th>0.0%</th>\n",
       "    </tr>\n",
       "    <tr>\n",
       "      <th>object_variable</th>\n",
       "      <th></th>\n",
       "      <th></th>\n",
       "      <th></th>\n",
       "      <th></th>\n",
       "      <th></th>\n",
       "      <th></th>\n",
       "      <th></th>\n",
       "    </tr>\n",
       "  </thead>\n",
       "  <tbody>\n",
       "    <tr>\n",
       "      <th>2.0</th>\n",
       "      <td>112</td>\n",
       "      <td>0.0</td>\n",
       "      <td>0.000000</td>\n",
       "      <td>34</td>\n",
       "      <td>30.357143</td>\n",
       "      <td>78.0</td>\n",
       "      <td>69.642857</td>\n",
       "    </tr>\n",
       "    <tr>\n",
       "      <th>8.0</th>\n",
       "      <td>112</td>\n",
       "      <td>32.0</td>\n",
       "      <td>28.571429</td>\n",
       "      <td>80</td>\n",
       "      <td>71.428571</td>\n",
       "      <td>0.0</td>\n",
       "      <td>0.000000</td>\n",
       "    </tr>\n",
       "    <tr>\n",
       "      <th>7.0</th>\n",
       "      <td>108</td>\n",
       "      <td>8.0</td>\n",
       "      <td>7.407407</td>\n",
       "      <td>100</td>\n",
       "      <td>92.592593</td>\n",
       "      <td>0.0</td>\n",
       "      <td>0.000000</td>\n",
       "    </tr>\n",
       "    <tr>\n",
       "      <th>5.0</th>\n",
       "      <td>105</td>\n",
       "      <td>4.0</td>\n",
       "      <td>3.809524</td>\n",
       "      <td>89</td>\n",
       "      <td>84.761905</td>\n",
       "      <td>12.0</td>\n",
       "      <td>11.428571</td>\n",
       "    </tr>\n",
       "    <tr>\n",
       "      <th>6.0</th>\n",
       "      <td>100</td>\n",
       "      <td>3.0</td>\n",
       "      <td>3.000000</td>\n",
       "      <td>95</td>\n",
       "      <td>95.000000</td>\n",
       "      <td>2.0</td>\n",
       "      <td>2.000000</td>\n",
       "    </tr>\n",
       "    <tr>\n",
       "      <th>1.0</th>\n",
       "      <td>96</td>\n",
       "      <td>0.0</td>\n",
       "      <td>0.000000</td>\n",
       "      <td>11</td>\n",
       "      <td>11.458333</td>\n",
       "      <td>85.0</td>\n",
       "      <td>88.541667</td>\n",
       "    </tr>\n",
       "    <tr>\n",
       "      <th>4.0</th>\n",
       "      <td>95</td>\n",
       "      <td>0.0</td>\n",
       "      <td>0.000000</td>\n",
       "      <td>71</td>\n",
       "      <td>74.736842</td>\n",
       "      <td>24.0</td>\n",
       "      <td>25.263158</td>\n",
       "    </tr>\n",
       "    <tr>\n",
       "      <th>9.0</th>\n",
       "      <td>95</td>\n",
       "      <td>53.0</td>\n",
       "      <td>55.789474</td>\n",
       "      <td>42</td>\n",
       "      <td>44.210526</td>\n",
       "      <td>0.0</td>\n",
       "      <td>0.000000</td>\n",
       "    </tr>\n",
       "    <tr>\n",
       "      <th>3.0</th>\n",
       "      <td>89</td>\n",
       "      <td>0.0</td>\n",
       "      <td>0.000000</td>\n",
       "      <td>47</td>\n",
       "      <td>52.808989</td>\n",
       "      <td>42.0</td>\n",
       "      <td>47.191011</td>\n",
       "    </tr>\n",
       "    <tr>\n",
       "      <th>10.0</th>\n",
       "      <td>48</td>\n",
       "      <td>30.0</td>\n",
       "      <td>62.500000</td>\n",
       "      <td>18</td>\n",
       "      <td>37.500000</td>\n",
       "      <td>0.0</td>\n",
       "      <td>0.000000</td>\n",
       "    </tr>\n",
       "    <tr>\n",
       "      <th>0.0</th>\n",
       "      <td>40</td>\n",
       "      <td>0.0</td>\n",
       "      <td>0.000000</td>\n",
       "      <td>3</td>\n",
       "      <td>7.500000</td>\n",
       "      <td>37.0</td>\n",
       "      <td>92.500000</td>\n",
       "    </tr>\n",
       "  </tbody>\n",
       "</table>\n",
       "</div>"
      ],
      "text/plain": [
       "                 count   2.0       2.0%  1.0       1.0%   0.0       0.0%\n",
       "object_variable                                                         \n",
       "2.0                112   0.0   0.000000   34  30.357143  78.0  69.642857\n",
       "8.0                112  32.0  28.571429   80  71.428571   0.0   0.000000\n",
       "7.0                108   8.0   7.407407  100  92.592593   0.0   0.000000\n",
       "5.0                105   4.0   3.809524   89  84.761905  12.0  11.428571\n",
       "6.0                100   3.0   3.000000   95  95.000000   2.0   2.000000\n",
       "1.0                 96   0.0   0.000000   11  11.458333  85.0  88.541667\n",
       "4.0                 95   0.0   0.000000   71  74.736842  24.0  25.263158\n",
       "9.0                 95  53.0  55.789474   42  44.210526   0.0   0.000000\n",
       "3.0                 89   0.0   0.000000   47  52.808989  42.0  47.191011\n",
       "10.0                48  30.0  62.500000   18  37.500000   0.0   0.000000\n",
       "0.0                 40   0.0   0.000000    3   7.500000  37.0  92.500000"
      ]
     },
     "execution_count": 4,
     "metadata": {},
     "output_type": "execute_result"
    }
   ],
   "source": [
    "get_describe_nominal(test_frame.iloc[:,1], Y)"
   ]
  },
  {
   "cell_type": "markdown",
   "id": "6c801486",
   "metadata": {},
   "source": [
    "Data frame with emptys"
   ]
  },
  {
   "cell_type": "code",
   "execution_count": 5,
   "id": "5dca1007",
   "metadata": {},
   "outputs": [
    {
     "name": "stdout",
     "output_type": "stream",
     "text": [
      "object_variable\n",
      "Is all obs. are in table -  False\n",
      "object_variable\n",
      "Is all obs. are in table -  True\n"
     ]
    }
   ],
   "source": [
    "test = get_describe_nominal(na_containts_frame.iloc[:,1], Y)\n",
    "print(\"Is all obs. are in table - \",  str(test['count'].sum() == n))\n",
    "test = get_describe_nominal(na_containts_frame.fillna('empty').iloc[:,1], Y)\n",
    "print(\"Is all obs. are in table - \",  str(test['count'].sum() == n))"
   ]
  },
  {
   "cell_type": "markdown",
   "id": "e7ed1137",
   "metadata": {},
   "source": [
    "### AUC computing test\n",
    "\n",
    "AUC numeric - simple fucntion"
   ]
  },
  {
   "cell_type": "code",
   "execution_count": 6,
   "id": "67bb1cf7",
   "metadata": {},
   "outputs": [
    {
     "name": "stdout",
     "output_type": "stream",
     "text": [
      "{2.0: 0.773740053050398, 1.0: 0.5282017362546507, 0.0: 0.3125892857142857}\n",
      "{'category 2': 0.773740053050398, 'category 1': 0.5282017362546507, 'cetegory 0': 0.3125892857142857}\n",
      "{'category 2': 0.7712586195902678, 'category 1': 0.5283229182805694, 'cetegory 0': 0.3116195450000259}\n",
      "{1.0: 0.6874107142857143, 0.0: 0.3125892857142857}\n"
     ]
    }
   ],
   "source": [
    "print(get_AUC_numeric(test_frame['numeric_variable'] ,Y))\n",
    "print(get_AUC_numeric(test_frame['numeric_variable'], Y_strs))\n",
    "print(get_AUC_numeric(na_containts_frame['numeric_variable'], Y_strs))\n",
    "print(get_AUC_numeric(test_frame['numeric_variable'], Y_binary))"
   ]
  },
  {
   "cell_type": "markdown",
   "id": "6bcfed18",
   "metadata": {},
   "source": [
    "AUC nominal"
   ]
  },
  {
   "cell_type": "code",
   "execution_count": 7,
   "id": "f3213fdd",
   "metadata": {},
   "outputs": [
    {
     "name": "stdout",
     "output_type": "stream",
     "text": [
      "object_variable\n",
      "object_variable\n",
      "{'category 2': 0.9169982316534041, 'category 1': 0.8360789582472096, 'cetegory 0': 0.9380109126984127}\n",
      "AUC bynary\n",
      "object_variable\n",
      "{1.0: 0.9380109126984126, 0.0: 0.9380109126984127}\n",
      "AUC with emptys\n",
      "{'category 2': 0.918381286941006, 'category 1': 0.6728156675884075, 'cetegory 0': 0.06245025188593494}\n"
     ]
    }
   ],
   "source": [
    "non_table = get_AUC_nominal(test_frame['object_variable'], Y)\n",
    "dn_tab = get_describe_nominal(test_frame.iloc[:,1], Y_strs)\n",
    "with_table = get_AUC_nominal(test_frame['object_variable'], Y_strs, dn_tab)\n",
    "print(with_table)\n",
    "\n",
    "print('AUC bynary')\n",
    "print(get_AUC_nominal(test_frame['object_variable'], Y_binary))\n",
    "\n",
    "print('AUC with emptys')\n",
    "print(get_AUC_numeric(na_containts_frame['object_variable'], Y_strs))"
   ]
  },
  {
   "cell_type": "markdown",
   "id": "2822fc40",
   "metadata": {},
   "source": [
    "Get publish AUC for any predictor type"
   ]
  },
  {
   "cell_type": "code",
   "execution_count": 8,
   "id": "94a81646",
   "metadata": {},
   "outputs": [
    {
     "name": "stdout",
     "output_type": "stream",
     "text": [
      "object_variable\n",
      "nominal predictor without table\n",
      "{2.0: {'AUC': 0.9169982316534041, 'rel_type': 1, 'GINI': 0.8339964633068082}, 1.0: {'AUC': 0.8360789582472096, 'rel_type': 1, 'GINI': 0.6721579164944191}, 0.0: {'AUC': 0.9380109126984127, 'rel_type': 1, 'GINI': 0.8760218253968255}}\n",
      "moninal predictor with table\n",
      "{'category 2': {'AUC': 0.9169982316534041, 'rel_type': 1, 'GINI': 0.8339964633068082}, 'category 1': {'AUC': 0.8360789582472096, 'rel_type': 1, 'GINI': 0.6721579164944191}, 'cetegory 0': {'AUC': 0.9380109126984127, 'rel_type': 1, 'GINI': 0.8760218253968255}}\n",
      "numeric predictor\n",
      "{2.0: {'AUC': 0.773740053050398, 'rel_type': 1, 'GINI': 0.5474801061007959}, 1.0: {'AUC': 0.5282017362546507, 'rel_type': 1, 'GINI': 0.056403472509301444}, 0.0: {'AUC': 0.6874107142857143, 'rel_type': -1, 'GINI': 0.37482142857142864}}\n"
     ]
    }
   ],
   "source": [
    "non_table = get_full_AUC(test_frame['object_variable'], Y, 'nominal')\n",
    "print('nominal predictor without table')\n",
    "print(non_table)\n",
    "\n",
    "with_table = get_full_AUC(test_frame['object_variable'], Y_strs, 'nominal', dn_tab)\n",
    "print('moninal predictor with table')\n",
    "print(with_table)\n",
    "\n",
    "numeric_var = get_full_AUC(test_frame['numeric_variable'], Y, 'numeric')\n",
    "print('numeric predictor')\n",
    "print(numeric_var)"
   ]
  },
  {
   "cell_type": "markdown",
   "id": "d3ef07d0",
   "metadata": {},
   "source": [
    "Decoding AUC info as DataFrame"
   ]
  },
  {
   "cell_type": "code",
   "execution_count": 9,
   "id": "1af239c7",
   "metadata": {},
   "outputs": [
    {
     "data": {
      "text/html": [
       "<div>\n",
       "<style scoped>\n",
       "    .dataframe tbody tr th:only-of-type {\n",
       "        vertical-align: middle;\n",
       "    }\n",
       "\n",
       "    .dataframe tbody tr th {\n",
       "        vertical-align: top;\n",
       "    }\n",
       "\n",
       "    .dataframe thead tr th {\n",
       "        text-align: left;\n",
       "    }\n",
       "</style>\n",
       "<table border=\"1\" class=\"dataframe\">\n",
       "  <thead>\n",
       "    <tr>\n",
       "      <th></th>\n",
       "      <th colspan=\"3\" halign=\"left\">2.0</th>\n",
       "      <th colspan=\"3\" halign=\"left\">1.0</th>\n",
       "      <th colspan=\"3\" halign=\"left\">0.0</th>\n",
       "    </tr>\n",
       "    <tr>\n",
       "      <th></th>\n",
       "      <th>AUC</th>\n",
       "      <th>rel_type</th>\n",
       "      <th>GINI</th>\n",
       "      <th>AUC</th>\n",
       "      <th>rel_type</th>\n",
       "      <th>GINI</th>\n",
       "      <th>AUC</th>\n",
       "      <th>rel_type</th>\n",
       "      <th>GINI</th>\n",
       "    </tr>\n",
       "  </thead>\n",
       "  <tbody>\n",
       "    <tr>\n",
       "      <th>numeric_variable</th>\n",
       "      <td>0.77374</td>\n",
       "      <td>1</td>\n",
       "      <td>0.54748</td>\n",
       "      <td>0.528202</td>\n",
       "      <td>1</td>\n",
       "      <td>0.056403</td>\n",
       "      <td>0.687411</td>\n",
       "      <td>-1</td>\n",
       "      <td>0.374821</td>\n",
       "    </tr>\n",
       "  </tbody>\n",
       "</table>\n",
       "</div>"
      ],
      "text/plain": [
       "                      2.0                         1.0                     \\\n",
       "                      AUC rel_type     GINI       AUC rel_type      GINI   \n",
       "numeric_variable  0.77374        1  0.54748  0.528202        1  0.056403   \n",
       "\n",
       "                       0.0                     \n",
       "                       AUC rel_type      GINI  \n",
       "numeric_variable  0.687411       -1  0.374821  "
      ]
     },
     "execution_count": 9,
     "metadata": {},
     "output_type": "execute_result"
    }
   ],
   "source": [
    "numeric_var = get_full_AUC(test_frame['numeric_variable'], Y, 'numeric')\n",
    "AUC_info_to_DataFrame(numeric_var,'numeric_variable')"
   ]
  },
  {
   "cell_type": "markdown",
   "id": "99161e41",
   "metadata": {},
   "source": [
    "## Writing to excel"
   ]
  },
  {
   "cell_type": "markdown",
   "id": "007e606b",
   "metadata": {},
   "source": [
    "Adding a new sheet"
   ]
  },
  {
   "cell_type": "code",
   "execution_count": 10,
   "id": "16d855b2",
   "metadata": {},
   "outputs": [],
   "source": [
    "xl_writer = pd.ExcelWriter(\"test_result/sheet_creation.xlsx\",engine='xlsxwriter')\n",
    "\n",
    "for i in range(20):\n",
    "    add_sheet(xl_writer, 'some name')\n",
    "    add_sheet(xl_writer, 'some very very very long long name')\n",
    "xl_writer.close()"
   ]
  },
  {
   "cell_type": "markdown",
   "id": "1bc367dd",
   "metadata": {},
   "source": [
    "Adding a info about different predictors"
   ]
  },
  {
   "cell_type": "code",
   "execution_count": 11,
   "id": "84079594",
   "metadata": {},
   "outputs": [
    {
     "name": "stdout",
     "output_type": "stream",
     "text": [
      "object_variable\n"
     ]
    }
   ],
   "source": [
    "xl_writer = pd.ExcelWriter(\"test_result/write_to_book.xlsx\",engine='xlsxwriter')\n",
    "\n",
    "my_cpp = classification_power_predictor(test_frame, Y)\n",
    "my_cpp.update_predictors()"
   ]
  },
  {
   "cell_type": "markdown",
   "id": "bc0c47ab",
   "metadata": {},
   "source": [
    "Let's show final table"
   ]
  },
  {
   "cell_type": "code",
   "execution_count": null,
   "id": "854b6dd4",
   "metadata": {},
   "outputs": [
    {
     "data": {
      "text/html": [
       "<div>\n",
       "<style scoped>\n",
       "    .dataframe tbody tr th:only-of-type {\n",
       "        vertical-align: middle;\n",
       "    }\n",
       "\n",
       "    .dataframe tbody tr th {\n",
       "        vertical-align: top;\n",
       "    }\n",
       "\n",
       "    .dataframe thead tr th {\n",
       "        text-align: left;\n",
       "    }\n",
       "</style>\n",
       "<table border=\"1\" class=\"dataframe\">\n",
       "  <thead>\n",
       "    <tr>\n",
       "      <th></th>\n",
       "      <th colspan=\"3\" halign=\"left\">0.0</th>\n",
       "      <th colspan=\"3\" halign=\"left\">1.0</th>\n",
       "      <th colspan=\"3\" halign=\"left\">2.0</th>\n",
       "    </tr>\n",
       "    <tr>\n",
       "      <th></th>\n",
       "      <th>AUC</th>\n",
       "      <th>rel_type</th>\n",
       "      <th>GINI</th>\n",
       "      <th>AUC</th>\n",
       "      <th>rel_type</th>\n",
       "      <th>GINI</th>\n",
       "      <th>AUC</th>\n",
       "      <th>rel_type</th>\n",
       "      <th>GINI</th>\n",
       "    </tr>\n",
       "  </thead>\n",
       "  <tbody>\n",
       "    <tr>\n",
       "      <th>numeric_variable</th>\n",
       "      <td>0.717273</td>\n",
       "      <td>-1</td>\n",
       "      <td>0.434546</td>\n",
       "      <td>0.529318</td>\n",
       "      <td>1</td>\n",
       "      <td>0.058637</td>\n",
       "      <td>0.7424</td>\n",
       "      <td>1</td>\n",
       "      <td>0.4848</td>\n",
       "    </tr>\n",
       "    <tr>\n",
       "      <th>object_variable</th>\n",
       "      <td>0.922994</td>\n",
       "      <td>1</td>\n",
       "      <td>0.845989</td>\n",
       "      <td>0.814341</td>\n",
       "      <td>1</td>\n",
       "      <td>0.628681</td>\n",
       "      <td>0.923709</td>\n",
       "      <td>1</td>\n",
       "      <td>0.847418</td>\n",
       "    </tr>\n",
       "    <tr>\n",
       "      <th>column with soo000oo000oo000oo000oo long name</th>\n",
       "      <td>0.530123</td>\n",
       "      <td>-1</td>\n",
       "      <td>0.060246</td>\n",
       "      <td>0.543274</td>\n",
       "      <td>1</td>\n",
       "      <td>0.086548</td>\n",
       "      <td>0.533278</td>\n",
       "      <td>-1</td>\n",
       "      <td>0.066556</td>\n",
       "    </tr>\n",
       "  </tbody>\n",
       "</table>\n",
       "</div>"
      ],
      "text/plain": [
       "                                                    0.0                     \\\n",
       "                                                    AUC rel_type      GINI   \n",
       "numeric_variable                               0.717273       -1  0.434546   \n",
       "object_variable                                0.922994        1  0.845989   \n",
       "column with soo000oo000oo000oo000oo long name  0.530123       -1  0.060246   \n",
       "\n",
       "                                                    1.0                     \\\n",
       "                                                    AUC rel_type      GINI   \n",
       "numeric_variable                               0.529318        1  0.058637   \n",
       "object_variable                                0.814341        1  0.628681   \n",
       "column with soo000oo000oo000oo000oo long name  0.543274        1  0.086548   \n",
       "\n",
       "                                                    2.0                     \n",
       "                                                    AUC rel_type      GINI  \n",
       "numeric_variable                                 0.7424        1    0.4848  \n",
       "object_variable                                0.923709        1  0.847418  \n",
       "column with soo000oo000oo000oo000oo long name  0.533278       -1  0.066556  "
      ]
     },
     "execution_count": 24,
     "metadata": {},
     "output_type": "execute_result"
    }
   ],
   "source": [
    "my_cpp.result_DF"
   ]
  },
  {
   "cell_type": "code",
   "execution_count": 25,
   "id": "3cc552d9",
   "metadata": {},
   "outputs": [],
   "source": [
    "my_cpp.write_to_book(xl_writer)\n",
    "\n",
    "xl_writer.close()"
   ]
  }
 ],
 "metadata": {
  "kernelspec": {
   "display_name": "Python 3 (ipykernel)",
   "language": "python",
   "name": "python3"
  },
  "language_info": {
   "codemirror_mode": {
    "name": "ipython",
    "version": 3
   },
   "file_extension": ".py",
   "mimetype": "text/x-python",
   "name": "python",
   "nbconvert_exporter": "python",
   "pygments_lexer": "ipython3",
   "version": "3.10.2"
  }
 },
 "nbformat": 4,
 "nbformat_minor": 5
}
