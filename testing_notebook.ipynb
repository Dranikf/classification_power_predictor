{
 "cells": [
  {
   "cell_type": "markdown",
   "id": "39746abf",
   "metadata": {},
   "source": [
    "# Testing notebook"
   ]
  },
  {
   "cell_type": "code",
   "execution_count": 1,
   "id": "3b59c6fc",
   "metadata": {},
   "outputs": [],
   "source": [
    "import xlsxwriter\n",
    "import pandas as pd\n",
    "import numpy as np\n",
    "\n",
    "from classification_power_predictor import classification_power_predictor\n",
    "from writing import *"
   ]
  },
  {
   "cell_type": "markdown",
   "id": "0c2fe7ca",
   "metadata": {},
   "source": [
    "## We need some testing data"
   ]
  },
  {
   "cell_type": "code",
   "execution_count": 2,
   "id": "95c1aefc",
   "metadata": {},
   "outputs": [],
   "source": [
    "# frame size\n",
    "n = 1000\n",
    "\n",
    "test_frame = pd.DataFrame({\"numeric_variable\": np.random.normal(10, 5, n), \n",
    "                           \"object_variable\": np.round(np.random.uniform(0, 10, n)).astype('O'),\n",
    "                           \"column with soo000oo000oo000oo000oo long name\": np.random.normal(10, 5, n)})\n",
    "\n",
    "nv = test_frame[\"numeric_variable\"]\n",
    "ov = test_frame[\"object_variable\"]\n",
    "\n",
    "probs1 = nv.apply(lambda x: (x/(max(nv) - min(nv))) + ((np.random.rand())/5))\n",
    "probs2 = ov.apply(lambda x: (x/(max(ov) - min(ov))) + ((np.random.rand())/5))\n",
    "\n",
    "f_probs = (probs1 + probs2)/2\n",
    "f_probs[f_probs >= 1] = 1\n",
    "\n",
    "\n",
    "Y = np.zeros(n)\n",
    "Y[f_probs > 0.4] = 1\n",
    "Y[f_probs > 0.7] = 2\n",
    "\n",
    "Y = pd.Series(Y)\n",
    "Y_strs = Y.replace({0: 'cetegory 0', 1:'category 1', 2:'category 2'})\n",
    "Y.value_counts()\n",
    "Y_binary = Y.replace({2:1})\n",
    "\n",
    "na_containts_frame = test_frame.copy()\n",
    "\n",
    "for col in test_frame.columns:\n",
    "    na_containts_frame.loc[na_containts_frame.sample(int(n/50)).index, col] = np.NaN"
   ]
  },
  {
   "cell_type": "markdown",
   "id": "faea01a5",
   "metadata": {},
   "source": [
    "## Computions funcitons"
   ]
  },
  {
   "cell_type": "code",
   "execution_count": 3,
   "id": "10639a29",
   "metadata": {},
   "outputs": [],
   "source": [
    "from computions import *"
   ]
  },
  {
   "cell_type": "markdown",
   "id": "c75f1b01",
   "metadata": {},
   "source": [
    "### get_describe_nominal function test"
   ]
  },
  {
   "cell_type": "markdown",
   "id": "fb231041",
   "metadata": {},
   "source": [
    "Basic situation"
   ]
  },
  {
   "cell_type": "code",
   "execution_count": 4,
   "id": "3954086a",
   "metadata": {},
   "outputs": [
    {
     "name": "stdout",
     "output_type": "stream",
     "text": [
      "object_variable\n"
     ]
    },
    {
     "data": {
      "text/html": [
       "<div>\n",
       "<style scoped>\n",
       "    .dataframe tbody tr th:only-of-type {\n",
       "        vertical-align: middle;\n",
       "    }\n",
       "\n",
       "    .dataframe tbody tr th {\n",
       "        vertical-align: top;\n",
       "    }\n",
       "\n",
       "    .dataframe thead th {\n",
       "        text-align: right;\n",
       "    }\n",
       "</style>\n",
       "<table border=\"1\" class=\"dataframe\">\n",
       "  <thead>\n",
       "    <tr style=\"text-align: right;\">\n",
       "      <th></th>\n",
       "      <th>count</th>\n",
       "      <th>0.0</th>\n",
       "      <th>0.0%</th>\n",
       "      <th>2.0</th>\n",
       "      <th>2.0%</th>\n",
       "      <th>1.0</th>\n",
       "      <th>1.0%</th>\n",
       "    </tr>\n",
       "    <tr>\n",
       "      <th>object_variable</th>\n",
       "      <th></th>\n",
       "      <th></th>\n",
       "      <th></th>\n",
       "      <th></th>\n",
       "      <th></th>\n",
       "      <th></th>\n",
       "      <th></th>\n",
       "    </tr>\n",
       "  </thead>\n",
       "  <tbody>\n",
       "    <tr>\n",
       "      <th>6.0</th>\n",
       "      <td>122</td>\n",
       "      <td>4.0</td>\n",
       "      <td>3.278689</td>\n",
       "      <td>3.0</td>\n",
       "      <td>2.459016</td>\n",
       "      <td>115</td>\n",
       "      <td>94.262295</td>\n",
       "    </tr>\n",
       "    <tr>\n",
       "      <th>2.0</th>\n",
       "      <td>114</td>\n",
       "      <td>79.0</td>\n",
       "      <td>69.298246</td>\n",
       "      <td>0.0</td>\n",
       "      <td>0.000000</td>\n",
       "      <td>35</td>\n",
       "      <td>30.701754</td>\n",
       "    </tr>\n",
       "    <tr>\n",
       "      <th>1.0</th>\n",
       "      <td>111</td>\n",
       "      <td>95.0</td>\n",
       "      <td>85.585586</td>\n",
       "      <td>0.0</td>\n",
       "      <td>0.000000</td>\n",
       "      <td>16</td>\n",
       "      <td>14.414414</td>\n",
       "    </tr>\n",
       "    <tr>\n",
       "      <th>7.0</th>\n",
       "      <td>107</td>\n",
       "      <td>2.0</td>\n",
       "      <td>1.869159</td>\n",
       "      <td>16.0</td>\n",
       "      <td>14.953271</td>\n",
       "      <td>89</td>\n",
       "      <td>83.177570</td>\n",
       "    </tr>\n",
       "    <tr>\n",
       "      <th>4.0</th>\n",
       "      <td>97</td>\n",
       "      <td>33.0</td>\n",
       "      <td>34.020619</td>\n",
       "      <td>0.0</td>\n",
       "      <td>0.000000</td>\n",
       "      <td>64</td>\n",
       "      <td>65.979381</td>\n",
       "    </tr>\n",
       "    <tr>\n",
       "      <th>5.0</th>\n",
       "      <td>96</td>\n",
       "      <td>9.0</td>\n",
       "      <td>9.375000</td>\n",
       "      <td>1.0</td>\n",
       "      <td>1.041667</td>\n",
       "      <td>86</td>\n",
       "      <td>89.583333</td>\n",
       "    </tr>\n",
       "    <tr>\n",
       "      <th>8.0</th>\n",
       "      <td>96</td>\n",
       "      <td>0.0</td>\n",
       "      <td>0.000000</td>\n",
       "      <td>35.0</td>\n",
       "      <td>36.458333</td>\n",
       "      <td>61</td>\n",
       "      <td>63.541667</td>\n",
       "    </tr>\n",
       "    <tr>\n",
       "      <th>9.0</th>\n",
       "      <td>88</td>\n",
       "      <td>0.0</td>\n",
       "      <td>0.000000</td>\n",
       "      <td>36.0</td>\n",
       "      <td>40.909091</td>\n",
       "      <td>52</td>\n",
       "      <td>59.090909</td>\n",
       "    </tr>\n",
       "    <tr>\n",
       "      <th>3.0</th>\n",
       "      <td>87</td>\n",
       "      <td>48.0</td>\n",
       "      <td>55.172414</td>\n",
       "      <td>0.0</td>\n",
       "      <td>0.000000</td>\n",
       "      <td>39</td>\n",
       "      <td>44.827586</td>\n",
       "    </tr>\n",
       "    <tr>\n",
       "      <th>10.0</th>\n",
       "      <td>48</td>\n",
       "      <td>0.0</td>\n",
       "      <td>0.000000</td>\n",
       "      <td>37.0</td>\n",
       "      <td>77.083333</td>\n",
       "      <td>11</td>\n",
       "      <td>22.916667</td>\n",
       "    </tr>\n",
       "    <tr>\n",
       "      <th>0.0</th>\n",
       "      <td>34</td>\n",
       "      <td>32.0</td>\n",
       "      <td>94.117647</td>\n",
       "      <td>0.0</td>\n",
       "      <td>0.000000</td>\n",
       "      <td>2</td>\n",
       "      <td>5.882353</td>\n",
       "    </tr>\n",
       "  </tbody>\n",
       "</table>\n",
       "</div>"
      ],
      "text/plain": [
       "                 count   0.0       0.0%   2.0       2.0%  1.0       1.0%\n",
       "object_variable                                                         \n",
       "6.0                122   4.0   3.278689   3.0   2.459016  115  94.262295\n",
       "2.0                114  79.0  69.298246   0.0   0.000000   35  30.701754\n",
       "1.0                111  95.0  85.585586   0.0   0.000000   16  14.414414\n",
       "7.0                107   2.0   1.869159  16.0  14.953271   89  83.177570\n",
       "4.0                 97  33.0  34.020619   0.0   0.000000   64  65.979381\n",
       "5.0                 96   9.0   9.375000   1.0   1.041667   86  89.583333\n",
       "8.0                 96   0.0   0.000000  35.0  36.458333   61  63.541667\n",
       "9.0                 88   0.0   0.000000  36.0  40.909091   52  59.090909\n",
       "3.0                 87  48.0  55.172414   0.0   0.000000   39  44.827586\n",
       "10.0                48   0.0   0.000000  37.0  77.083333   11  22.916667\n",
       "0.0                 34  32.0  94.117647   0.0   0.000000    2   5.882353"
      ]
     },
     "execution_count": 4,
     "metadata": {},
     "output_type": "execute_result"
    }
   ],
   "source": [
    "get_describe_nominal(test_frame.iloc[:,1], Y)"
   ]
  },
  {
   "cell_type": "markdown",
   "id": "6c801486",
   "metadata": {},
   "source": [
    "Data frame with emptys"
   ]
  },
  {
   "cell_type": "code",
   "execution_count": 5,
   "id": "5dca1007",
   "metadata": {},
   "outputs": [
    {
     "name": "stdout",
     "output_type": "stream",
     "text": [
      "object_variable\n",
      "Is all obs. are in table -  False\n",
      "object_variable\n",
      "Is all obs. are in table -  True\n"
     ]
    }
   ],
   "source": [
    "test = get_describe_nominal(na_containts_frame.iloc[:,1], Y)\n",
    "print(\"Is all obs. are in table - \",  str(test['count'].sum() == n))\n",
    "test = get_describe_nominal(na_containts_frame.fillna('empty').iloc[:,1], Y)\n",
    "print(\"Is all obs. are in table - \",  str(test['count'].sum() == n))"
   ]
  },
  {
   "cell_type": "markdown",
   "id": "e7ed1137",
   "metadata": {},
   "source": [
    "### AUC computing test\n",
    "\n",
    "AUC numeric - simple fucntion"
   ]
  },
  {
   "cell_type": "code",
   "execution_count": 6,
   "id": "67bb1cf7",
   "metadata": {},
   "outputs": [
    {
     "name": "stdout",
     "output_type": "stream",
     "text": [
      "{0.0: 0.28571225260441374, 2.0: 0.7669778526376146, 1.0: 0.562717258261934}\n",
      "{'cetegory 0': 0.28571225260441374, 'category 2': 0.7669778526376146, 'category 1': 0.562717258261934}\n",
      "{'cetegory 0': 0.2877590584345293, 'category 2': 0.7669333333333332, 'category 1': 0.5619941343994974}\n",
      "{0.0: 0.28571225260441374, 1.0: 0.7142877473955862}\n"
     ]
    }
   ],
   "source": [
    "print(get_AUC_numeric(test_frame['numeric_variable'] ,Y))\n",
    "print(get_AUC_numeric(test_frame['numeric_variable'], Y_strs))\n",
    "print(get_AUC_numeric(na_containts_frame['numeric_variable'], Y_strs))\n",
    "print(get_AUC_numeric(test_frame['numeric_variable'], Y_binary))"
   ]
  },
  {
   "cell_type": "markdown",
   "id": "6bcfed18",
   "metadata": {},
   "source": [
    "AUC nominal"
   ]
  },
  {
   "cell_type": "code",
   "execution_count": 7,
   "id": "f3213fdd",
   "metadata": {},
   "outputs": [
    {
     "name": "stdout",
     "output_type": "stream",
     "text": [
      "object_variable\n",
      "object_variable\n",
      "{'cetegory 0': 0.9279445530275716, 'category 2': 0.9218302035550459, 'category 1': 0.827001223990208}\n",
      "AUC bynary\n",
      "object_variable\n",
      "{0.0: 0.9279445530275716, 1.0: 0.9279445530275718}\n",
      "AUC with emptys\n",
      "{'cetegory 0': 0.07251165639323534, 'category 2': 0.9225824561403508, 'category 1': 0.6758633290699798}\n"
     ]
    }
   ],
   "source": [
    "non_table = get_AUC_nominal(test_frame['object_variable'], Y)\n",
    "dn_tab = get_describe_nominal(test_frame.iloc[:,1], Y_strs)\n",
    "with_table = get_AUC_nominal(test_frame['object_variable'], Y_strs, dn_tab)\n",
    "print(with_table)\n",
    "\n",
    "print('AUC bynary')\n",
    "print(get_AUC_nominal(test_frame['object_variable'], Y_binary))\n",
    "\n",
    "print('AUC with emptys')\n",
    "print(get_AUC_numeric(na_containts_frame['object_variable'], Y_strs))"
   ]
  },
  {
   "cell_type": "markdown",
   "id": "2822fc40",
   "metadata": {},
   "source": [
    "Get publish AUC for any predictor type"
   ]
  },
  {
   "cell_type": "code",
   "execution_count": 8,
   "id": "94a81646",
   "metadata": {},
   "outputs": [
    {
     "name": "stdout",
     "output_type": "stream",
     "text": [
      "object_variable\n",
      "nominal predictor without table\n",
      "{0.0: {'AUC': 0.9279445530275716, 'rel_type': 1, 'GINI': 0.8558891060551432}, 2.0: {'AUC': 0.9218302035550459, 'rel_type': 1, 'GINI': 0.8436604071100917}, 1.0: {'AUC': 0.827001223990208, 'rel_type': 1, 'GINI': 0.6540024479804161}}\n",
      "moninal predictor with table\n",
      "{'cetegory 0': {'AUC': 0.9279445530275716, 'rel_type': 1, 'GINI': 0.8558891060551432}, 'category 2': {'AUC': 0.9218302035550459, 'rel_type': 1, 'GINI': 0.8436604071100917}, 'category 1': {'AUC': 0.827001223990208, 'rel_type': 1, 'GINI': 0.6540024479804161}}\n",
      "numeric predictor\n",
      "{0.0: {'AUC': 0.7142877473955862, 'rel_type': -1, 'GINI': 0.4285754947911724}, 2.0: {'AUC': 0.7669778526376146, 'rel_type': 1, 'GINI': 0.5339557052752293}, 1.0: {'AUC': 0.562717258261934, 'rel_type': 1, 'GINI': 0.12543451652386794}}\n"
     ]
    }
   ],
   "source": [
    "non_table = get_full_AUC(test_frame['object_variable'], Y, 'nominal')\n",
    "print('nominal predictor without table')\n",
    "print(non_table)\n",
    "\n",
    "with_table = get_full_AUC(test_frame['object_variable'], Y_strs, 'nominal', dn_tab)\n",
    "print('moninal predictor with table')\n",
    "print(with_table)\n",
    "\n",
    "numeric_var = get_full_AUC(test_frame['numeric_variable'], Y, 'numeric')\n",
    "print('numeric predictor')\n",
    "print(numeric_var)"
   ]
  },
  {
   "cell_type": "markdown",
   "id": "d3ef07d0",
   "metadata": {},
   "source": [
    "Decoding AUC info as DataFrame"
   ]
  },
  {
   "cell_type": "code",
   "execution_count": 9,
   "id": "1af239c7",
   "metadata": {},
   "outputs": [
    {
     "data": {
      "text/html": [
       "<div>\n",
       "<style scoped>\n",
       "    .dataframe tbody tr th:only-of-type {\n",
       "        vertical-align: middle;\n",
       "    }\n",
       "\n",
       "    .dataframe tbody tr th {\n",
       "        vertical-align: top;\n",
       "    }\n",
       "\n",
       "    .dataframe thead tr th {\n",
       "        text-align: left;\n",
       "    }\n",
       "</style>\n",
       "<table border=\"1\" class=\"dataframe\">\n",
       "  <thead>\n",
       "    <tr>\n",
       "      <th></th>\n",
       "      <th colspan=\"3\" halign=\"left\">0.0</th>\n",
       "      <th colspan=\"3\" halign=\"left\">2.0</th>\n",
       "      <th colspan=\"3\" halign=\"left\">1.0</th>\n",
       "    </tr>\n",
       "    <tr>\n",
       "      <th></th>\n",
       "      <th>AUC</th>\n",
       "      <th>rel_type</th>\n",
       "      <th>GINI</th>\n",
       "      <th>AUC</th>\n",
       "      <th>rel_type</th>\n",
       "      <th>GINI</th>\n",
       "      <th>AUC</th>\n",
       "      <th>rel_type</th>\n",
       "      <th>GINI</th>\n",
       "    </tr>\n",
       "  </thead>\n",
       "  <tbody>\n",
       "    <tr>\n",
       "      <th>numeric_variable</th>\n",
       "      <td>0.714288</td>\n",
       "      <td>-1</td>\n",
       "      <td>0.428575</td>\n",
       "      <td>0.766978</td>\n",
       "      <td>1</td>\n",
       "      <td>0.533956</td>\n",
       "      <td>0.562717</td>\n",
       "      <td>1</td>\n",
       "      <td>0.125435</td>\n",
       "    </tr>\n",
       "  </tbody>\n",
       "</table>\n",
       "</div>"
      ],
      "text/plain": [
       "                       0.0                          2.0                     \\\n",
       "                       AUC rel_type      GINI       AUC rel_type      GINI   \n",
       "numeric_variable  0.714288       -1  0.428575  0.766978        1  0.533956   \n",
       "\n",
       "                       1.0                     \n",
       "                       AUC rel_type      GINI  \n",
       "numeric_variable  0.562717        1  0.125435  "
      ]
     },
     "execution_count": 9,
     "metadata": {},
     "output_type": "execute_result"
    }
   ],
   "source": [
    "numeric_var = get_full_AUC(test_frame['numeric_variable'], Y, 'numeric')\n",
    "AUC_info_to_DataFrame(numeric_var,'numeric_variable')"
   ]
  },
  {
   "cell_type": "markdown",
   "id": "46bdf21d",
   "metadata": {},
   "source": [
    "Getting indicators from computions uotput"
   ]
  },
  {
   "cell_type": "code",
   "execution_count": 10,
   "metadata": {},
   "outputs": [
    {
     "name": "stdout",
     "output_type": "stream",
     "text": [
      "full numeric data\n",
      "numeric data with nas, with str categoryes\n"
     ]
    },
    {
     "data": {
      "text/html": [
       "<div>\n",
       "<style scoped>\n",
       "    .dataframe tbody tr th:only-of-type {\n",
       "        vertical-align: middle;\n",
       "    }\n",
       "\n",
       "    .dataframe tbody tr th {\n",
       "        vertical-align: top;\n",
       "    }\n",
       "\n",
       "    .dataframe thead tr th {\n",
       "        text-align: left;\n",
       "    }\n",
       "</style>\n",
       "<table border=\"1\" class=\"dataframe\">\n",
       "  <thead>\n",
       "    <tr>\n",
       "      <th></th>\n",
       "      <th colspan=\"3\" halign=\"left\">cetegory 0</th>\n",
       "      <th colspan=\"3\" halign=\"left\">category 2</th>\n",
       "      <th colspan=\"3\" halign=\"left\">category 1</th>\n",
       "      <th>Emptys</th>\n",
       "      <th>Emptys part</th>\n",
       "    </tr>\n",
       "    <tr>\n",
       "      <th></th>\n",
       "      <th>AUC</th>\n",
       "      <th>rel_type</th>\n",
       "      <th>GINI</th>\n",
       "      <th>AUC</th>\n",
       "      <th>rel_type</th>\n",
       "      <th>GINI</th>\n",
       "      <th>AUC</th>\n",
       "      <th>rel_type</th>\n",
       "      <th>GINI</th>\n",
       "      <th></th>\n",
       "      <th></th>\n",
       "    </tr>\n",
       "  </thead>\n",
       "  <tbody>\n",
       "    <tr>\n",
       "      <th>numeric_variable</th>\n",
       "      <td>0.712241</td>\n",
       "      <td>-1</td>\n",
       "      <td>0.424482</td>\n",
       "      <td>0.766933</td>\n",
       "      <td>1</td>\n",
       "      <td>0.533867</td>\n",
       "      <td>0.561994</td>\n",
       "      <td>1</td>\n",
       "      <td>0.123988</td>\n",
       "      <td>20</td>\n",
       "      <td>0.02</td>\n",
       "    </tr>\n",
       "  </tbody>\n",
       "</table>\n",
       "</div>"
      ],
      "text/plain": [
       "                 cetegory 0                    category 2                     \\\n",
       "                        AUC rel_type      GINI        AUC rel_type      GINI   \n",
       "numeric_variable   0.712241       -1  0.424482   0.766933        1  0.533867   \n",
       "\n",
       "                 category 1                    Emptys Emptys part  \n",
       "                        AUC rel_type      GINI                     \n",
       "numeric_variable   0.561994        1  0.123988     20        0.02  "
      ]
     },
     "execution_count": 10,
     "metadata": {},
     "output_type": "execute_result"
    }
   ],
   "source": [
    "comp_result =  get_all_comuptions(test_frame['numeric_variable'], Y)\n",
    "print('full numeric data')\n",
    "get_predictor_row(comp_result)\n",
    "print('numeric data with nas, with str categoryes')\n",
    "comp_result =  get_all_comuptions(na_containts_frame['numeric_variable'], Y_strs)\n",
    "get_predictor_row(comp_result)"
   ]
  },
  {
   "cell_type": "markdown",
   "id": "99161e41",
   "metadata": {},
   "source": [
    "## Writing to excel"
   ]
  },
  {
   "cell_type": "markdown",
   "id": "007e606b",
   "metadata": {},
   "source": [
    "Adding a new sheet"
   ]
  },
  {
   "cell_type": "code",
   "execution_count": 11,
   "id": "16d855b2",
   "metadata": {},
   "outputs": [],
   "source": [
    "xl_writer = pd.ExcelWriter(\"test_result/sheet_creation.xlsx\",engine='xlsxwriter')\n",
    "\n",
    "for i in range(20):\n",
    "    add_sheet(xl_writer, 'some name')\n",
    "    add_sheet(xl_writer, 'some very very very long long name')\n",
    "xl_writer.close()"
   ]
  },
  {
   "cell_type": "markdown",
   "id": "1bc367dd",
   "metadata": {},
   "source": [
    "Adding a info about different predictors"
   ]
  },
  {
   "cell_type": "code",
   "execution_count": 12,
   "id": "84079594",
   "metadata": {},
   "outputs": [
    {
     "name": "stdout",
     "output_type": "stream",
     "text": [
      "object_variable\n"
     ]
    }
   ],
   "source": [
    "my_cpp = classification_power_predictor(test_frame, Y)\n",
    "my_cpp.update_predictors()"
   ]
  },
  {
   "cell_type": "markdown",
   "id": "bc0c47ab",
   "metadata": {},
   "source": [
    "Let's show final table"
   ]
  },
  {
   "cell_type": "code",
   "execution_count": 13,
   "id": "854b6dd4",
   "metadata": {},
   "outputs": [
    {
     "name": "stdout",
     "output_type": "stream",
     "text": [
      "object_variable\n"
     ]
    },
    {
     "data": {
      "text/html": [
       "<div>\n",
       "<style scoped>\n",
       "    .dataframe tbody tr th:only-of-type {\n",
       "        vertical-align: middle;\n",
       "    }\n",
       "\n",
       "    .dataframe tbody tr th {\n",
       "        vertical-align: top;\n",
       "    }\n",
       "\n",
       "    .dataframe thead tr th {\n",
       "        text-align: left;\n",
       "    }\n",
       "</style>\n",
       "<table border=\"1\" class=\"dataframe\">\n",
       "  <thead>\n",
       "    <tr>\n",
       "      <th></th>\n",
       "      <th colspan=\"3\" halign=\"left\">0.0</th>\n",
       "      <th colspan=\"3\" halign=\"left\">2.0</th>\n",
       "      <th colspan=\"3\" halign=\"left\">1.0</th>\n",
       "      <th>Emptys</th>\n",
       "      <th>Emptys part</th>\n",
       "    </tr>\n",
       "    <tr>\n",
       "      <th></th>\n",
       "      <th>AUC</th>\n",
       "      <th>rel_type</th>\n",
       "      <th>GINI</th>\n",
       "      <th>AUC</th>\n",
       "      <th>rel_type</th>\n",
       "      <th>GINI</th>\n",
       "      <th>AUC</th>\n",
       "      <th>rel_type</th>\n",
       "      <th>GINI</th>\n",
       "      <th></th>\n",
       "      <th></th>\n",
       "    </tr>\n",
       "  </thead>\n",
       "  <tbody>\n",
       "    <tr>\n",
       "      <th>numeric_variable</th>\n",
       "      <td>0.714288</td>\n",
       "      <td>-1</td>\n",
       "      <td>0.428575</td>\n",
       "      <td>0.766978</td>\n",
       "      <td>1</td>\n",
       "      <td>0.533956</td>\n",
       "      <td>0.562717</td>\n",
       "      <td>1</td>\n",
       "      <td>0.125435</td>\n",
       "      <td>0</td>\n",
       "      <td>0.0</td>\n",
       "    </tr>\n",
       "    <tr>\n",
       "      <th>object_variable</th>\n",
       "      <td>0.927945</td>\n",
       "      <td>1</td>\n",
       "      <td>0.855889</td>\n",
       "      <td>0.92183</td>\n",
       "      <td>1</td>\n",
       "      <td>0.84366</td>\n",
       "      <td>0.827001</td>\n",
       "      <td>1</td>\n",
       "      <td>0.654002</td>\n",
       "      <td>0</td>\n",
       "      <td>0.0</td>\n",
       "    </tr>\n",
       "    <tr>\n",
       "      <th>column with soo000oo000oo000oo000oo long name</th>\n",
       "      <td>0.504279</td>\n",
       "      <td>1</td>\n",
       "      <td>0.008558</td>\n",
       "      <td>0.518537</td>\n",
       "      <td>-1</td>\n",
       "      <td>0.037074</td>\n",
       "      <td>0.504761</td>\n",
       "      <td>1</td>\n",
       "      <td>0.009523</td>\n",
       "      <td>0</td>\n",
       "      <td>0.0</td>\n",
       "    </tr>\n",
       "  </tbody>\n",
       "</table>\n",
       "</div>"
      ],
      "text/plain": [
       "                                                    0.0                     \\\n",
       "                                                    AUC rel_type      GINI   \n",
       "numeric_variable                               0.714288       -1  0.428575   \n",
       "object_variable                                0.927945        1  0.855889   \n",
       "column with soo000oo000oo000oo000oo long name  0.504279        1  0.008558   \n",
       "\n",
       "                                                    2.0                     \\\n",
       "                                                    AUC rel_type      GINI   \n",
       "numeric_variable                               0.766978        1  0.533956   \n",
       "object_variable                                 0.92183        1   0.84366   \n",
       "column with soo000oo000oo000oo000oo long name  0.518537       -1  0.037074   \n",
       "\n",
       "                                                    1.0                     \\\n",
       "                                                    AUC rel_type      GINI   \n",
       "numeric_variable                               0.562717        1  0.125435   \n",
       "object_variable                                0.827001        1  0.654002   \n",
       "column with soo000oo000oo000oo000oo long name  0.504761        1  0.009523   \n",
       "\n",
       "                                              Emptys Emptys part  \n",
       "                                                                  \n",
       "numeric_variable                                   0         0.0  \n",
       "object_variable                                    0         0.0  \n",
       "column with soo000oo000oo000oo000oo long name      0         0.0  "
      ]
     },
     "execution_count": 13,
     "metadata": {},
     "output_type": "execute_result"
    }
   ],
   "source": [
    "my_cpp = classification_power_predictor(test_frame, Y)\n",
    "my_cpp.update_predictors()\n",
    "#my_cpp.get_predictors_data()\n",
    "my_cpp.result_DF"
   ]
  },
  {
   "cell_type": "markdown",
   "id": "9f55e2f0",
   "metadata": {},
   "source": [
    "Writig a double header table"
   ]
  },
  {
   "cell_type": "code",
   "execution_count": 14,
   "id": "70975bca",
   "metadata": {},
   "outputs": [
    {
     "name": "stdout",
     "output_type": "stream",
     "text": [
      "object_variable\n"
     ]
    }
   ],
   "source": [
    "\n",
    "\n",
    "xl_writer = pd.ExcelWriter(\"test_result/double_header_saver.xlsx\",engine='xlsxwriter')\n",
    "ws = xl_writer.book.add_worksheet('test')\n",
    "xl_writer.sheets['test'] = ws      \n",
    "\n",
    "my_cpp = classification_power_predictor(test_frame, Y)\n",
    "my_cpp.update_predictors()\n",
    "my_cpp.my_writer = xl_writer\n",
    "\n",
    "print_double_column_header(  my_cpp, ws, \n",
    "                            my_cpp.result_DF.loc[['numeric_variable'],:],\n",
    "                            \"A1\", 'Hello World', \n",
    "                            xl_writer.book.add_format(my_cpp.default_header_format))\n",
    "\n",
    "xl_writer.close()"
   ]
  },
  {
   "cell_type": "markdown",
   "id": "ab6f6bf1",
   "metadata": {},
   "source": [
    "Writing info about some predictor"
   ]
  },
  {
   "cell_type": "code",
   "execution_count": 15,
   "id": "d9d78fbb",
   "metadata": {},
   "outputs": [
    {
     "name": "stdout",
     "output_type": "stream",
     "text": [
      "object_variable\n"
     ]
    }
   ],
   "source": [
    "xl_writer = pd.ExcelWriter(\"test_result/writing_a_value.xlsx\",engine='xlsxwriter')\n",
    "\n",
    "ws = xl_writer.book.add_worksheet('test')\n",
    "xl_writer.sheets['test'] = ws                             \n",
    "\n",
    "my_cpp = classification_power_predictor(test_frame, Y)\n",
    "my_cpp.update_predictors()\n",
    "my_cpp.my_writer = xl_writer\n",
    "\n",
    "default_predictor_printer(my_cpp, ws, my_cpp.get_predictors_data()['numeric_variable'], \n",
    "{'header_format':xl_writer.book.add_format(my_cpp.default_header_format),\n",
    "  'desc_format':xl_writer.book.add_format(my_cpp.default_header_format),\n",
    "  'class_ab_format':xl_writer.book.add_format(my_cpp.default_header_format)})\n",
    "\n",
    "xl_writer.close()"
   ]
  },
  {
   "cell_type": "code",
   "execution_count": 16,
   "id": "3cc552d9",
   "metadata": {},
   "outputs": [],
   "source": [
    "xl_writer = pd.ExcelWriter(\"test_result/result_test.xlsx\",engine='xlsxwriter')\n",
    "my_cpp.write_to_book(xl_writer)\n",
    "xl_writer.close()"
   ]
  }
 ],
 "metadata": {
  "kernelspec": {
   "display_name": "Python 3 (ipykernel)",
   "language": "python",
   "name": "python3"
  },
  "language_info": {
   "codemirror_mode": {
    "name": "ipython",
    "version": 3
   },
   "file_extension": ".py",
   "mimetype": "text/x-python",
   "name": "python",
   "nbconvert_exporter": "python",
   "pygments_lexer": "ipython3",
   "version": "3.10.2"
  }
 },
 "nbformat": 4,
 "nbformat_minor": 5
}
