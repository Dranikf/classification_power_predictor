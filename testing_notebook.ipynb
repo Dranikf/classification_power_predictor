{
 "cells": [
  {
   "cell_type": "markdown",
   "id": "39746abf",
   "metadata": {},
   "source": [
    "# Testing notebook"
   ]
  },
  {
   "cell_type": "code",
   "execution_count": 1,
   "id": "3b59c6fc",
   "metadata": {},
   "outputs": [
    {
     "ename": "ModuleNotFoundError",
     "evalue": "No module named 'DS_common.excel_writing'",
     "output_type": "error",
     "traceback": [
      "\u001b[0;31m---------------------------------------------------------------------------\u001b[0m",
      "\u001b[0;31mModuleNotFoundError\u001b[0m                       Traceback (most recent call last)",
      "\u001b[1;32m/home/dranikf_work/KFA/MSB_model/MSB_model_code/factors_research/classification_power_predictor/testing_notebook.ipynb Cell 2'\u001b[0m in \u001b[0;36m<cell line: 5>\u001b[0;34m()\u001b[0m\n\u001b[1;32m      <a href='vscode-notebook-cell:/home/dranikf_work/KFA/MSB_model/MSB_model_code/factors_research/classification_power_predictor/testing_notebook.ipynb#ch0000001?line=1'>2</a>\u001b[0m \u001b[39mimport\u001b[39;00m \u001b[39mpandas\u001b[39;00m \u001b[39mas\u001b[39;00m \u001b[39mpd\u001b[39;00m\n\u001b[1;32m      <a href='vscode-notebook-cell:/home/dranikf_work/KFA/MSB_model/MSB_model_code/factors_research/classification_power_predictor/testing_notebook.ipynb#ch0000001?line=2'>3</a>\u001b[0m \u001b[39mimport\u001b[39;00m \u001b[39mnumpy\u001b[39;00m \u001b[39mas\u001b[39;00m \u001b[39mnp\u001b[39;00m\n\u001b[0;32m----> <a href='vscode-notebook-cell:/home/dranikf_work/KFA/MSB_model/MSB_model_code/factors_research/classification_power_predictor/testing_notebook.ipynb#ch0000001?line=4'>5</a>\u001b[0m \u001b[39mfrom\u001b[39;00m \u001b[39mclassification_power_predictor\u001b[39;00m \u001b[39mimport\u001b[39;00m classification_power_predictor\n\u001b[1;32m      <a href='vscode-notebook-cell:/home/dranikf_work/KFA/MSB_model/MSB_model_code/factors_research/classification_power_predictor/testing_notebook.ipynb#ch0000001?line=5'>6</a>\u001b[0m \u001b[39mfrom\u001b[39;00m \u001b[39mwriting\u001b[39;00m \u001b[39mimport\u001b[39;00m \u001b[39m*\u001b[39m\n",
      "File \u001b[0;32m~/KFA/MSB_model/MSB_model_code/factors_research/classification_power_predictor/classification_power_predictor.py:4\u001b[0m, in \u001b[0;36m<module>\u001b[0;34m\u001b[0m\n\u001b[1;32m      <a href='file:///home/dranikf_work/KFA/MSB_model/MSB_model_code/factors_research/classification_power_predictor/classification_power_predictor.py?line=1'>2</a>\u001b[0m \u001b[39mimport\u001b[39;00m \u001b[39mnumpy\u001b[39;00m \u001b[39mas\u001b[39;00m \u001b[39mnp\u001b[39;00m\n\u001b[1;32m      <a href='file:///home/dranikf_work/KFA/MSB_model/MSB_model_code/factors_research/classification_power_predictor/classification_power_predictor.py?line=2'>3</a>\u001b[0m \u001b[39mfrom\u001b[39;00m \u001b[39mcomputions\u001b[39;00m \u001b[39mimport\u001b[39;00m \u001b[39m*\u001b[39m\n\u001b[0;32m----> <a href='file:///home/dranikf_work/KFA/MSB_model/MSB_model_code/factors_research/classification_power_predictor/classification_power_predictor.py?line=3'>4</a>\u001b[0m \u001b[39mfrom\u001b[39;00m \u001b[39mwriting\u001b[39;00m \u001b[39mimport\u001b[39;00m \u001b[39m*\u001b[39m\n\u001b[1;32m      <a href='file:///home/dranikf_work/KFA/MSB_model/MSB_model_code/factors_research/classification_power_predictor/classification_power_predictor.py?line=4'>5</a>\u001b[0m \u001b[39mfrom\u001b[39;00m \u001b[39mDS_common\u001b[39;00m\u001b[39m.\u001b[39;00m\u001b[39mexcel_writing\u001b[39;00m \u001b[39mimport\u001b[39;00m add_sheet\n\u001b[1;32m      <a href='file:///home/dranikf_work/KFA/MSB_model/MSB_model_code/factors_research/classification_power_predictor/classification_power_predictor.py?line=7'>8</a>\u001b[0m \u001b[39mclass\u001b[39;00m \u001b[39mclassification_power_predictor\u001b[39;00m():\n",
      "File \u001b[0;32m~/KFA/MSB_model/MSB_model_code/factors_research/classification_power_predictor/writing.py:3\u001b[0m, in \u001b[0;36m<module>\u001b[0;34m\u001b[0m\n\u001b[1;32m      <a href='file:///home/dranikf_work/KFA/MSB_model/MSB_model_code/factors_research/classification_power_predictor/writing.py?line=0'>1</a>\u001b[0m \u001b[39mimport\u001b[39;00m \u001b[39mimp\u001b[39;00m\n\u001b[1;32m      <a href='file:///home/dranikf_work/KFA/MSB_model/MSB_model_code/factors_research/classification_power_predictor/writing.py?line=1'>2</a>\u001b[0m \u001b[39mfrom\u001b[39;00m \u001b[39mxlsxwriter\u001b[39;00m\u001b[39m.\u001b[39;00m\u001b[39mutility\u001b[39;00m \u001b[39mimport\u001b[39;00m xl_cell_to_rowcol, xl_rowcol_to_cell\n\u001b[0;32m----> <a href='file:///home/dranikf_work/KFA/MSB_model/MSB_model_code/factors_research/classification_power_predictor/writing.py?line=2'>3</a>\u001b[0m \u001b[39mfrom\u001b[39;00m \u001b[39mDS_common\u001b[39;00m\u001b[39m.\u001b[39;00m\u001b[39mexcel_writing\u001b[39;00m \u001b[39mimport\u001b[39;00m save_double_column_df\n\u001b[1;32m      <a href='file:///home/dranikf_work/KFA/MSB_model/MSB_model_code/factors_research/classification_power_predictor/writing.py?line=5'>6</a>\u001b[0m \u001b[39mdef\u001b[39;00m \u001b[39mdefault_header_printer\u001b[39m(calling_obj, sheet, predictors_data, \u001b[39mformat\u001b[39m):\n\u001b[1;32m      <a href='file:///home/dranikf_work/KFA/MSB_model/MSB_model_code/factors_research/classification_power_predictor/writing.py?line=6'>7</a>\u001b[0m     \u001b[39m'''Defatul funciton for header creator'''\u001b[39;00m\n",
      "\u001b[0;31mModuleNotFoundError\u001b[0m: No module named 'DS_common.excel_writing'"
     ]
    }
   ],
   "source": [
    "import xlsxwriter\n",
    "import pandas as pd\n",
    "import numpy as np\n",
    "\n",
    "from classification_power_predictor import classification_power_predictor\n",
    "from writing import *"
   ]
  },
  {
   "cell_type": "markdown",
   "id": "0c2fe7ca",
   "metadata": {},
   "source": [
    "## We need some testing data"
   ]
  },
  {
   "cell_type": "code",
   "execution_count": null,
   "id": "95c1aefc",
   "metadata": {},
   "outputs": [],
   "source": [
    "# frame size\n",
    "n = 1000\n",
    "\n",
    "test_frame = pd.DataFrame({\"numeric_variable\": np.random.normal(10, 5, n), \n",
    "                           \"object_variable\": np.round(np.random.uniform(0, 10, n)).astype('O'),\n",
    "                           \"column with soo000oo000oo000oo000oo long name\": np.random.normal(10, 5, n)})\n",
    "\n",
    "nv = test_frame[\"numeric_variable\"]\n",
    "ov = test_frame[\"object_variable\"]\n",
    "\n",
    "probs1 = nv.apply(lambda x: (x/(max(nv) - min(nv))) + ((np.random.rand())/5))\n",
    "probs2 = ov.apply(lambda x: (x/(max(ov) - min(ov))) + ((np.random.rand())/5))\n",
    "\n",
    "f_probs = (probs1 + probs2)/2\n",
    "f_probs[f_probs >= 1] = 1\n",
    "\n",
    "\n",
    "Y = np.zeros(n)\n",
    "Y[f_probs > 0.4] = 1\n",
    "Y[f_probs > 0.7] = 2\n",
    "\n",
    "Y = pd.Series(Y)\n",
    "Y_strs = Y.replace({0: 'cetegory 0', 1:'category 1', 2:'category 2'})\n",
    "Y.value_counts()\n",
    "Y_binary = Y.replace({2:1})\n",
    "\n",
    "na_containts_frame = test_frame.copy()\n",
    "\n",
    "for col in test_frame.columns:\n",
    "    na_containts_frame.loc[na_containts_frame.sample(int(n/50)).index, col] = np.NaN"
   ]
  },
  {
   "cell_type": "markdown",
   "id": "faea01a5",
   "metadata": {},
   "source": [
    "## Computions funcitons"
   ]
  },
  {
   "cell_type": "code",
   "execution_count": null,
   "id": "10639a29",
   "metadata": {},
   "outputs": [],
   "source": [
    "from computions import *"
   ]
  },
  {
   "cell_type": "markdown",
   "id": "c75f1b01",
   "metadata": {},
   "source": [
    "### get_describe_nominal function test"
   ]
  },
  {
   "cell_type": "markdown",
   "id": "fb231041",
   "metadata": {},
   "source": [
    "Basic situation"
   ]
  },
  {
   "cell_type": "code",
   "execution_count": null,
   "id": "3954086a",
   "metadata": {},
   "outputs": [
    {
     "data": {
      "text/html": [
       "<div>\n",
       "<style scoped>\n",
       "    .dataframe tbody tr th:only-of-type {\n",
       "        vertical-align: middle;\n",
       "    }\n",
       "\n",
       "    .dataframe tbody tr th {\n",
       "        vertical-align: top;\n",
       "    }\n",
       "\n",
       "    .dataframe thead th {\n",
       "        text-align: right;\n",
       "    }\n",
       "</style>\n",
       "<table border=\"1\" class=\"dataframe\">\n",
       "  <thead>\n",
       "    <tr style=\"text-align: right;\">\n",
       "      <th></th>\n",
       "      <th>count</th>\n",
       "      <th>0.0</th>\n",
       "      <th>0.0%</th>\n",
       "      <th>1.0</th>\n",
       "      <th>1.0%</th>\n",
       "      <th>2.0</th>\n",
       "      <th>2.0%</th>\n",
       "    </tr>\n",
       "    <tr>\n",
       "      <th>object_variable</th>\n",
       "      <th></th>\n",
       "      <th></th>\n",
       "      <th></th>\n",
       "      <th></th>\n",
       "      <th></th>\n",
       "      <th></th>\n",
       "      <th></th>\n",
       "    </tr>\n",
       "  </thead>\n",
       "  <tbody>\n",
       "    <tr>\n",
       "      <th>5.0</th>\n",
       "      <td>117</td>\n",
       "      <td>15.0</td>\n",
       "      <td>12.820513</td>\n",
       "      <td>101</td>\n",
       "      <td>86.324786</td>\n",
       "      <td>1.0</td>\n",
       "      <td>0.854701</td>\n",
       "    </tr>\n",
       "    <tr>\n",
       "      <th>6.0</th>\n",
       "      <td>112</td>\n",
       "      <td>9.0</td>\n",
       "      <td>8.035714</td>\n",
       "      <td>97</td>\n",
       "      <td>86.607143</td>\n",
       "      <td>6.0</td>\n",
       "      <td>5.357143</td>\n",
       "    </tr>\n",
       "    <tr>\n",
       "      <th>2.0</th>\n",
       "      <td>103</td>\n",
       "      <td>79.0</td>\n",
       "      <td>76.699029</td>\n",
       "      <td>24</td>\n",
       "      <td>23.300971</td>\n",
       "      <td>0.0</td>\n",
       "      <td>0.000000</td>\n",
       "    </tr>\n",
       "    <tr>\n",
       "      <th>8.0</th>\n",
       "      <td>100</td>\n",
       "      <td>0.0</td>\n",
       "      <td>0.000000</td>\n",
       "      <td>70</td>\n",
       "      <td>70.000000</td>\n",
       "      <td>30.0</td>\n",
       "      <td>30.000000</td>\n",
       "    </tr>\n",
       "    <tr>\n",
       "      <th>9.0</th>\n",
       "      <td>94</td>\n",
       "      <td>0.0</td>\n",
       "      <td>0.000000</td>\n",
       "      <td>51</td>\n",
       "      <td>54.255319</td>\n",
       "      <td>43.0</td>\n",
       "      <td>45.744681</td>\n",
       "    </tr>\n",
       "    <tr>\n",
       "      <th>3.0</th>\n",
       "      <td>94</td>\n",
       "      <td>50.0</td>\n",
       "      <td>53.191489</td>\n",
       "      <td>44</td>\n",
       "      <td>46.808511</td>\n",
       "      <td>0.0</td>\n",
       "      <td>0.000000</td>\n",
       "    </tr>\n",
       "    <tr>\n",
       "      <th>4.0</th>\n",
       "      <td>91</td>\n",
       "      <td>30.0</td>\n",
       "      <td>32.967033</td>\n",
       "      <td>61</td>\n",
       "      <td>67.032967</td>\n",
       "      <td>0.0</td>\n",
       "      <td>0.000000</td>\n",
       "    </tr>\n",
       "    <tr>\n",
       "      <th>7.0</th>\n",
       "      <td>91</td>\n",
       "      <td>0.0</td>\n",
       "      <td>0.000000</td>\n",
       "      <td>80</td>\n",
       "      <td>87.912088</td>\n",
       "      <td>11.0</td>\n",
       "      <td>12.087912</td>\n",
       "    </tr>\n",
       "    <tr>\n",
       "      <th>1.0</th>\n",
       "      <td>90</td>\n",
       "      <td>76.0</td>\n",
       "      <td>84.444444</td>\n",
       "      <td>14</td>\n",
       "      <td>15.555556</td>\n",
       "      <td>0.0</td>\n",
       "      <td>0.000000</td>\n",
       "    </tr>\n",
       "    <tr>\n",
       "      <th>0.0</th>\n",
       "      <td>57</td>\n",
       "      <td>54.0</td>\n",
       "      <td>94.736842</td>\n",
       "      <td>3</td>\n",
       "      <td>5.263158</td>\n",
       "      <td>0.0</td>\n",
       "      <td>0.000000</td>\n",
       "    </tr>\n",
       "    <tr>\n",
       "      <th>10.0</th>\n",
       "      <td>51</td>\n",
       "      <td>0.0</td>\n",
       "      <td>0.000000</td>\n",
       "      <td>9</td>\n",
       "      <td>17.647059</td>\n",
       "      <td>42.0</td>\n",
       "      <td>82.352941</td>\n",
       "    </tr>\n",
       "  </tbody>\n",
       "</table>\n",
       "</div>"
      ],
      "text/plain": [
       "                 count   0.0       0.0%  1.0       1.0%   2.0       2.0%\n",
       "object_variable                                                         \n",
       "5.0                117  15.0  12.820513  101  86.324786   1.0   0.854701\n",
       "6.0                112   9.0   8.035714   97  86.607143   6.0   5.357143\n",
       "2.0                103  79.0  76.699029   24  23.300971   0.0   0.000000\n",
       "8.0                100   0.0   0.000000   70  70.000000  30.0  30.000000\n",
       "9.0                 94   0.0   0.000000   51  54.255319  43.0  45.744681\n",
       "3.0                 94  50.0  53.191489   44  46.808511   0.0   0.000000\n",
       "4.0                 91  30.0  32.967033   61  67.032967   0.0   0.000000\n",
       "7.0                 91   0.0   0.000000   80  87.912088  11.0  12.087912\n",
       "1.0                 90  76.0  84.444444   14  15.555556   0.0   0.000000\n",
       "0.0                 57  54.0  94.736842    3   5.263158   0.0   0.000000\n",
       "10.0                51   0.0   0.000000    9  17.647059  42.0  82.352941"
      ]
     },
     "execution_count": 4,
     "metadata": {},
     "output_type": "execute_result"
    }
   ],
   "source": [
    "get_describe_nominal(test_frame.iloc[:,1], Y)"
   ]
  },
  {
   "cell_type": "markdown",
   "id": "6c801486",
   "metadata": {},
   "source": [
    "Data frame with emptys"
   ]
  },
  {
   "cell_type": "code",
   "execution_count": null,
   "id": "5dca1007",
   "metadata": {},
   "outputs": [
    {
     "name": "stdout",
     "output_type": "stream",
     "text": [
      "Is all obs. are in table -  False\n",
      "Is all obs. are in table -  True\n"
     ]
    }
   ],
   "source": [
    "test = get_describe_nominal(na_containts_frame.iloc[:,1], Y)\n",
    "print(\"Is all obs. are in table - \",  str(test['count'].sum() == n))\n",
    "test = get_describe_nominal(na_containts_frame.fillna('empty').iloc[:,1], Y)\n",
    "print(\"Is all obs. are in table - \",  str(test['count'].sum() == n))"
   ]
  },
  {
   "cell_type": "markdown",
   "id": "e7ed1137",
   "metadata": {},
   "source": [
    "### AUC computing test\n",
    "\n",
    "AUC numeric - simple fucntion"
   ]
  },
  {
   "cell_type": "code",
   "execution_count": null,
   "id": "67bb1cf7",
   "metadata": {},
   "outputs": [
    {
     "name": "stdout",
     "output_type": "stream",
     "text": [
      "{0.0: 0.29587826871474343, 1.0: 0.5497199333020351, 2.0: 0.7741065466434253}\n",
      "{'cetegory 0': 0.29587826871474343, 'category 1': 0.5497199333020351, 'category 2': 0.7741065466434253}\n",
      "{'cetegory 0': 0.2954687013391467, 'category 1': 0.5494883720930233, 'category 2': 0.7818482584290548}\n",
      "{0.0: 0.29587826871474343, 1.0: 0.7041217312852567}\n"
     ]
    }
   ],
   "source": [
    "print(get_AUC_numeric(test_frame['numeric_variable'] ,Y))\n",
    "print(get_AUC_numeric(test_frame['numeric_variable'], Y_strs))\n",
    "print(get_AUC_numeric(na_containts_frame['numeric_variable'], Y_strs))\n",
    "print(get_AUC_numeric(test_frame['numeric_variable'], Y_binary))"
   ]
  },
  {
   "cell_type": "markdown",
   "id": "6bcfed18",
   "metadata": {},
   "source": [
    "AUC nominal"
   ]
  },
  {
   "cell_type": "code",
   "execution_count": null,
   "id": "f3213fdd",
   "metadata": {},
   "outputs": [
    {
     "name": "stdout",
     "output_type": "stream",
     "text": [
      "{'cetegory 0': 0.9283940455097172, 'category 1': 0.8249987858380147, 'category 2': 0.9276348310221921}\n",
      "AUC bynary\n",
      "{0.0: 0.9283940455097172, 1.0: 0.9283940455097173}\n",
      "AUC with emptys - needs to be replaces in previous steps\n",
      "{'cetegory 0': 0.925687459017537, 'category 1': 0.8213724887082935, 'category 2': 0.9239838350200761}\n"
     ]
    },
    {
     "data": {
      "text/plain": [
       "{'cetegory 0': 0.925687459017537,\n",
       " 'category 1': 0.8213724887082935,\n",
       " 'category 2': 0.9239838350200761}"
      ]
     },
     "execution_count": 7,
     "metadata": {},
     "output_type": "execute_result"
    }
   ],
   "source": [
    "non_table = get_AUC_nominal(test_frame['object_variable'], Y)\n",
    "dn_tab = get_describe_nominal(test_frame.iloc[:,1], Y_strs)\n",
    "with_table = get_AUC_nominal(test_frame['object_variable'], Y_strs, dn_tab)\n",
    "print(with_table)\n",
    "\n",
    "print('AUC bynary')\n",
    "print(get_AUC_nominal(test_frame['object_variable'], Y_binary))\n",
    "\n",
    "print('AUC with emptys - needs to be replaces in previous steps')\n",
    "print(get_AUC_nominal(na_containts_frame['object_variable'].fillna('empty'), Y_strs))\n",
    "\n",
    "get_AUC_nominal(na_containts_frame['object_variable'].fillna('empty'), Y_strs, \n",
    "                get_describe_nominal(na_containts_frame.iloc[:,1].fillna('empty'), Y_strs))\n"
   ]
  },
  {
   "cell_type": "markdown",
   "id": "2822fc40",
   "metadata": {},
   "source": [
    "Get publish AUC for any predictor type"
   ]
  },
  {
   "cell_type": "code",
   "execution_count": null,
   "id": "94a81646",
   "metadata": {},
   "outputs": [
    {
     "name": "stdout",
     "output_type": "stream",
     "text": [
      "nominal predictor without table\n",
      "{0.0: {'AUC': 0.9283940455097172, 'rel_type': 1, 'GINI': 0.8567880910194343}, 1.0: {'AUC': 0.8249987858380147, 'rel_type': 1, 'GINI': 0.6499975716760293}, 2.0: {'AUC': 0.9276348310221921, 'rel_type': 1, 'GINI': 0.8552696620443843}}\n",
      "moninal predictor with table\n",
      "{'cetegory 0': {'AUC': 0.9283940455097172, 'rel_type': 1, 'GINI': 0.8567880910194343}, 'category 1': {'AUC': 0.8249987858380147, 'rel_type': 1, 'GINI': 0.6499975716760293}, 'category 2': {'AUC': 0.9276348310221921, 'rel_type': 1, 'GINI': 0.8552696620443843}}\n",
      "numeric predictor\n",
      "{0.0: {'AUC': 0.7041217312852566, 'rel_type': -1, 'GINI': 0.40824346257051314}, 1.0: {'AUC': 0.5497199333020351, 'rel_type': 1, 'GINI': 0.09943986660407012}, 2.0: {'AUC': 0.7741065466434253, 'rel_type': 1, 'GINI': 0.5482130932868505}}\n"
     ]
    }
   ],
   "source": [
    "non_table = get_full_AUC(test_frame['object_variable'], Y, 'nominal')\n",
    "print('nominal predictor without table')\n",
    "print(non_table)\n",
    "\n",
    "with_table = get_full_AUC(test_frame['object_variable'], Y_strs, 'nominal', descr_table = dn_tab)\n",
    "print('moninal predictor with table')\n",
    "print(with_table)\n",
    "\n",
    "numeric_var = get_full_AUC(test_frame['numeric_variable'], Y, 'numeric')\n",
    "print('numeric predictor')\n",
    "print(numeric_var)"
   ]
  },
  {
   "cell_type": "markdown",
   "id": "d3ef07d0",
   "metadata": {},
   "source": [
    "Decoding AUC info as DataFrame"
   ]
  },
  {
   "cell_type": "code",
   "execution_count": null,
   "id": "1af239c7",
   "metadata": {},
   "outputs": [
    {
     "data": {
      "text/html": [
       "<div>\n",
       "<style scoped>\n",
       "    .dataframe tbody tr th:only-of-type {\n",
       "        vertical-align: middle;\n",
       "    }\n",
       "\n",
       "    .dataframe tbody tr th {\n",
       "        vertical-align: top;\n",
       "    }\n",
       "\n",
       "    .dataframe thead tr th {\n",
       "        text-align: left;\n",
       "    }\n",
       "</style>\n",
       "<table border=\"1\" class=\"dataframe\">\n",
       "  <thead>\n",
       "    <tr>\n",
       "      <th></th>\n",
       "      <th colspan=\"3\" halign=\"left\">0.0</th>\n",
       "      <th colspan=\"3\" halign=\"left\">1.0</th>\n",
       "      <th colspan=\"3\" halign=\"left\">2.0</th>\n",
       "    </tr>\n",
       "    <tr>\n",
       "      <th></th>\n",
       "      <th>AUC</th>\n",
       "      <th>rel_type</th>\n",
       "      <th>GINI</th>\n",
       "      <th>AUC</th>\n",
       "      <th>rel_type</th>\n",
       "      <th>GINI</th>\n",
       "      <th>AUC</th>\n",
       "      <th>rel_type</th>\n",
       "      <th>GINI</th>\n",
       "    </tr>\n",
       "  </thead>\n",
       "  <tbody>\n",
       "    <tr>\n",
       "      <th>numeric_variable</th>\n",
       "      <td>0.704122</td>\n",
       "      <td>-1</td>\n",
       "      <td>0.408243</td>\n",
       "      <td>0.54972</td>\n",
       "      <td>1</td>\n",
       "      <td>0.09944</td>\n",
       "      <td>0.774107</td>\n",
       "      <td>1</td>\n",
       "      <td>0.548213</td>\n",
       "    </tr>\n",
       "  </tbody>\n",
       "</table>\n",
       "</div>"
      ],
      "text/plain": [
       "                       0.0                         1.0                    \\\n",
       "                       AUC rel_type      GINI      AUC rel_type     GINI   \n",
       "numeric_variable  0.704122       -1  0.408243  0.54972        1  0.09944   \n",
       "\n",
       "                       2.0                     \n",
       "                       AUC rel_type      GINI  \n",
       "numeric_variable  0.774107        1  0.548213  "
      ]
     },
     "execution_count": 9,
     "metadata": {},
     "output_type": "execute_result"
    }
   ],
   "source": [
    "numeric_var = get_full_AUC(test_frame['numeric_variable'], Y, 'numeric')\n",
    "AUC_info_to_DataFrame(numeric_var,'numeric_variable')"
   ]
  },
  {
   "cell_type": "markdown",
   "id": "49ffe5dc",
   "metadata": {},
   "source": [
    "get_all_computions funcion test"
   ]
  },
  {
   "cell_type": "code",
   "execution_count": null,
   "id": "81598887",
   "metadata": {},
   "outputs": [
    {
     "name": "stdout",
     "output_type": "stream",
     "text": [
      "describe_table with no nas\n",
      "                 count   0.0       0.0%  1.0       1.0%   2.0       2.0%\n",
      "object_variable                                                         \n",
      "5.0                117  15.0  12.820513  101  86.324786   1.0   0.854701\n",
      "6.0                112   9.0   8.035714   97  86.607143   6.0   5.357143\n",
      "2.0                103  79.0  76.699029   24  23.300971   0.0   0.000000\n",
      "8.0                100   0.0   0.000000   70  70.000000  30.0  30.000000\n",
      "9.0                 94   0.0   0.000000   51  54.255319  43.0  45.744681\n",
      "3.0                 94  50.0  53.191489   44  46.808511   0.0   0.000000\n",
      "4.0                 91  30.0  32.967033   61  67.032967   0.0   0.000000\n",
      "7.0                 91   0.0   0.000000   80  87.912088  11.0  12.087912\n",
      "1.0                 90  76.0  84.444444   14  15.555556   0.0   0.000000\n",
      "0.0                 57  54.0  94.736842    3   5.263158   0.0   0.000000\n",
      "10.0                51   0.0   0.000000    9  17.647059  42.0  82.352941\n",
      "describe_table with nas\n",
      "                 count   0.0       0.0%  1.0       1.0%   2.0       2.0%\n",
      "object_variable                                                         \n",
      "5.0                117  15.0  12.820513  101  86.324786   1.0   0.854701\n",
      "6.0                111   9.0   8.108108   96  86.486486   6.0   5.405405\n",
      "2.0                100  77.0  77.000000   23  23.000000   0.0   0.000000\n",
      "8.0                 98   0.0   0.000000   68  69.387755  30.0  30.612245\n",
      "4.0                 90  30.0  33.333333   60  66.666667   0.0   0.000000\n",
      "9.0                 90   0.0   0.000000   50  55.555556  40.0  44.444444\n",
      "1.0                 90  76.0  84.444444   14  15.555556   0.0   0.000000\n",
      "3.0                 90  48.0  53.333333   42  46.666667   0.0   0.000000\n",
      "7.0                 87   0.0   0.000000   76  87.356322  11.0  12.643678\n",
      "0.0                 56  53.0  94.642857    3   5.357143   0.0   0.000000\n",
      "10.0                51   0.0   0.000000    9  17.647059  42.0  82.352941\n",
      "Empty               20   5.0  25.000000   12  60.000000   3.0  15.000000\n"
     ]
    }
   ],
   "source": [
    "print('describe_table with no nas')\n",
    "print(get_all_comuptions(test_frame['object_variable'], Y)['describe_table'])\n",
    "print('describe_table with nas')\n",
    "print(get_all_comuptions(na_containts_frame['object_variable'], Y)['describe_table'])"
   ]
  },
  {
   "cell_type": "markdown",
   "id": "46bdf21d",
   "metadata": {},
   "source": [
    "Getting indicators from computions uotput"
   ]
  },
  {
   "cell_type": "code",
   "execution_count": null,
   "metadata": {},
   "outputs": [
    {
     "name": "stdout",
     "output_type": "stream",
     "text": [
      "full numeric data\n",
      "numeric data with nas, with str categoryes\n"
     ]
    },
    {
     "data": {
      "text/html": [
       "<div>\n",
       "<style scoped>\n",
       "    .dataframe tbody tr th:only-of-type {\n",
       "        vertical-align: middle;\n",
       "    }\n",
       "\n",
       "    .dataframe tbody tr th {\n",
       "        vertical-align: top;\n",
       "    }\n",
       "\n",
       "    .dataframe thead tr th {\n",
       "        text-align: left;\n",
       "    }\n",
       "</style>\n",
       "<table border=\"1\" class=\"dataframe\">\n",
       "  <thead>\n",
       "    <tr>\n",
       "      <th></th>\n",
       "      <th colspan=\"3\" halign=\"left\">cetegory 0</th>\n",
       "      <th colspan=\"3\" halign=\"left\">category 1</th>\n",
       "      <th colspan=\"3\" halign=\"left\">category 2</th>\n",
       "      <th>Emptys</th>\n",
       "      <th>Emptys part</th>\n",
       "    </tr>\n",
       "    <tr>\n",
       "      <th></th>\n",
       "      <th>AUC</th>\n",
       "      <th>rel_type</th>\n",
       "      <th>GINI</th>\n",
       "      <th>AUC</th>\n",
       "      <th>rel_type</th>\n",
       "      <th>GINI</th>\n",
       "      <th>AUC</th>\n",
       "      <th>rel_type</th>\n",
       "      <th>GINI</th>\n",
       "      <th></th>\n",
       "      <th></th>\n",
       "    </tr>\n",
       "  </thead>\n",
       "  <tbody>\n",
       "    <tr>\n",
       "      <th>numeric_variable</th>\n",
       "      <td>0.704531</td>\n",
       "      <td>-1</td>\n",
       "      <td>0.409063</td>\n",
       "      <td>0.549488</td>\n",
       "      <td>1</td>\n",
       "      <td>0.098977</td>\n",
       "      <td>0.781848</td>\n",
       "      <td>1</td>\n",
       "      <td>0.563697</td>\n",
       "      <td>20</td>\n",
       "      <td>0.02</td>\n",
       "    </tr>\n",
       "  </tbody>\n",
       "</table>\n",
       "</div>"
      ],
      "text/plain": [
       "                 cetegory 0                    category 1                     \\\n",
       "                        AUC rel_type      GINI        AUC rel_type      GINI   \n",
       "numeric_variable   0.704531       -1  0.409063   0.549488        1  0.098977   \n",
       "\n",
       "                 category 2                    Emptys Emptys part  \n",
       "                        AUC rel_type      GINI                     \n",
       "numeric_variable   0.781848        1  0.563697     20        0.02  "
      ]
     },
     "execution_count": 11,
     "metadata": {},
     "output_type": "execute_result"
    }
   ],
   "source": [
    "comp_result =  get_all_comuptions(test_frame['numeric_variable'], Y)\n",
    "print('full numeric data')\n",
    "get_predictor_row(comp_result)\n",
    "print('numeric data with nas, with str categoryes')\n",
    "comp_result =  get_all_comuptions(na_containts_frame['numeric_variable'], Y_strs)\n",
    "get_predictor_row(comp_result)"
   ]
  },
  {
   "cell_type": "markdown",
   "id": "99161e41",
   "metadata": {},
   "source": [
    "## Writing to excel"
   ]
  },
  {
   "cell_type": "markdown",
   "id": "1bc367dd",
   "metadata": {},
   "source": [
    "Adding a info about different predictors"
   ]
  },
  {
   "cell_type": "code",
   "execution_count": null,
   "id": "84079594",
   "metadata": {},
   "outputs": [],
   "source": [
    "my_cpp = classification_power_predictor(test_frame, Y)\n",
    "my_cpp.update_predictors()"
   ]
  },
  {
   "cell_type": "markdown",
   "id": "bc0c47ab",
   "metadata": {},
   "source": [
    "Let's show final table"
   ]
  },
  {
   "cell_type": "code",
   "execution_count": null,
   "id": "854b6dd4",
   "metadata": {},
   "outputs": [
    {
     "data": {
      "text/html": [
       "<div>\n",
       "<style scoped>\n",
       "    .dataframe tbody tr th:only-of-type {\n",
       "        vertical-align: middle;\n",
       "    }\n",
       "\n",
       "    .dataframe tbody tr th {\n",
       "        vertical-align: top;\n",
       "    }\n",
       "\n",
       "    .dataframe thead tr th {\n",
       "        text-align: left;\n",
       "    }\n",
       "</style>\n",
       "<table border=\"1\" class=\"dataframe\">\n",
       "  <thead>\n",
       "    <tr>\n",
       "      <th></th>\n",
       "      <th colspan=\"3\" halign=\"left\">0.0</th>\n",
       "      <th colspan=\"3\" halign=\"left\">1.0</th>\n",
       "      <th colspan=\"3\" halign=\"left\">2.0</th>\n",
       "      <th>Emptys</th>\n",
       "      <th>Emptys part</th>\n",
       "    </tr>\n",
       "    <tr>\n",
       "      <th></th>\n",
       "      <th>AUC</th>\n",
       "      <th>rel_type</th>\n",
       "      <th>GINI</th>\n",
       "      <th>AUC</th>\n",
       "      <th>rel_type</th>\n",
       "      <th>GINI</th>\n",
       "      <th>AUC</th>\n",
       "      <th>rel_type</th>\n",
       "      <th>GINI</th>\n",
       "      <th></th>\n",
       "      <th></th>\n",
       "    </tr>\n",
       "  </thead>\n",
       "  <tbody>\n",
       "    <tr>\n",
       "      <th>numeric_variable</th>\n",
       "      <td>0.704122</td>\n",
       "      <td>-1</td>\n",
       "      <td>0.408243</td>\n",
       "      <td>0.54972</td>\n",
       "      <td>1</td>\n",
       "      <td>0.09944</td>\n",
       "      <td>0.774107</td>\n",
       "      <td>1</td>\n",
       "      <td>0.548213</td>\n",
       "      <td>0</td>\n",
       "      <td>0.0</td>\n",
       "    </tr>\n",
       "    <tr>\n",
       "      <th>object_variable</th>\n",
       "      <td>0.928394</td>\n",
       "      <td>1</td>\n",
       "      <td>0.856788</td>\n",
       "      <td>0.824999</td>\n",
       "      <td>1</td>\n",
       "      <td>0.649998</td>\n",
       "      <td>0.927635</td>\n",
       "      <td>1</td>\n",
       "      <td>0.85527</td>\n",
       "      <td>0</td>\n",
       "      <td>0.0</td>\n",
       "    </tr>\n",
       "    <tr>\n",
       "      <th>column with soo000oo000oo000oo000oo long name</th>\n",
       "      <td>0.500937</td>\n",
       "      <td>-1</td>\n",
       "      <td>0.001874</td>\n",
       "      <td>0.512635</td>\n",
       "      <td>-1</td>\n",
       "      <td>0.025271</td>\n",
       "      <td>0.528822</td>\n",
       "      <td>1</td>\n",
       "      <td>0.057644</td>\n",
       "      <td>0</td>\n",
       "      <td>0.0</td>\n",
       "    </tr>\n",
       "  </tbody>\n",
       "</table>\n",
       "</div>"
      ],
      "text/plain": [
       "                                                    0.0                     \\\n",
       "                                                    AUC rel_type      GINI   \n",
       "numeric_variable                               0.704122       -1  0.408243   \n",
       "object_variable                                0.928394        1  0.856788   \n",
       "column with soo000oo000oo000oo000oo long name  0.500937       -1  0.001874   \n",
       "\n",
       "                                                    1.0                     \\\n",
       "                                                    AUC rel_type      GINI   \n",
       "numeric_variable                                0.54972        1   0.09944   \n",
       "object_variable                                0.824999        1  0.649998   \n",
       "column with soo000oo000oo000oo000oo long name  0.512635       -1  0.025271   \n",
       "\n",
       "                                                    2.0                     \\\n",
       "                                                    AUC rel_type      GINI   \n",
       "numeric_variable                               0.774107        1  0.548213   \n",
       "object_variable                                0.927635        1   0.85527   \n",
       "column with soo000oo000oo000oo000oo long name  0.528822        1  0.057644   \n",
       "\n",
       "                                              Emptys Emptys part  \n",
       "                                                                  \n",
       "numeric_variable                                   0         0.0  \n",
       "object_variable                                    0         0.0  \n",
       "column with soo000oo000oo000oo000oo long name      0         0.0  "
      ]
     },
     "execution_count": 13,
     "metadata": {},
     "output_type": "execute_result"
    }
   ],
   "source": [
    "my_cpp = classification_power_predictor(test_frame, Y)\n",
    "my_cpp.update_predictors()\n",
    "#my_cpp.get_predictors_data()\n",
    "my_cpp.result_DF"
   ]
  },
  {
   "cell_type": "markdown",
   "id": "9f55e2f0",
   "metadata": {},
   "source": [
    "Writig a double header table"
   ]
  },
  {
   "cell_type": "code",
   "execution_count": null,
   "id": "70975bca",
   "metadata": {},
   "outputs": [],
   "source": [
    "\n",
    "\n",
    "xl_writer = pd.ExcelWriter(\"test_result/double_header_saver.xlsx\",engine='xlsxwriter')\n",
    "ws = xl_writer.book.add_worksheet('test')\n",
    "xl_writer.sheets['test'] = ws      \n",
    "\n",
    "my_cpp = classification_power_predictor(test_frame, Y)\n",
    "my_cpp.update_predictors()\n",
    "my_cpp.my_writer = xl_writer\n",
    "\n",
    "print_double_column_header(  my_cpp, ws, \n",
    "                            my_cpp.result_DF.loc[['numeric_variable'],:],\n",
    "                            \"A1\", 'Hello World', \n",
    "                            xl_writer.book.add_format(my_cpp.default_header_format))\n",
    "\n",
    "xl_writer.close()"
   ]
  },
  {
   "cell_type": "markdown",
   "id": "ab6f6bf1",
   "metadata": {},
   "source": [
    "Writing info about some predictor"
   ]
  },
  {
   "cell_type": "code",
   "execution_count": null,
   "id": "d9d78fbb",
   "metadata": {},
   "outputs": [],
   "source": [
    "xl_writer = pd.ExcelWriter(\"test_result/writing_a_value.xlsx\",engine='xlsxwriter')\n",
    "\n",
    "ws = xl_writer.book.add_worksheet('test')\n",
    "xl_writer.sheets['test'] = ws                             \n",
    "\n",
    "my_cpp = classification_power_predictor(test_frame, Y)\n",
    "my_cpp.update_predictors()\n",
    "my_cpp.my_writer = xl_writer\n",
    "\n",
    "default_predictor_printer(my_cpp, ws, my_cpp.get_predictors_data()['numeric_variable'], \n",
    "{'header_format':xl_writer.book.add_format(my_cpp.default_header_format),\n",
    "  'desc_format':xl_writer.book.add_format(my_cpp.default_header_format),\n",
    "  'class_ab_format':xl_writer.book.add_format(my_cpp.default_header_format)})\n",
    "\n",
    "xl_writer.close()"
   ]
  },
  {
   "cell_type": "code",
   "execution_count": null,
   "id": "3cc552d9",
   "metadata": {},
   "outputs": [],
   "source": [
    "xl_writer = pd.ExcelWriter(\"test_result/result_test.xlsx\",engine='xlsxwriter')\n",
    "my_cpp.write_to_book(xl_writer)\n",
    "xl_writer.close()"
   ]
  }
 ],
 "metadata": {
  "kernelspec": {
   "display_name": "Python 3 (ipykernel)",
   "language": "python",
   "name": "python3"
  },
  "language_info": {
   "codemirror_mode": {
    "name": "ipython",
    "version": 3
   },
   "file_extension": ".py",
   "mimetype": "text/x-python",
   "name": "python",
   "nbconvert_exporter": "python",
   "pygments_lexer": "ipython3",
   "version": "3.10.0"
  }
 },
 "nbformat": 4,
 "nbformat_minor": 5
}
