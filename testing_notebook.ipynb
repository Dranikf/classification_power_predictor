{
 "cells": [
  {
   "cell_type": "markdown",
   "id": "39746abf",
   "metadata": {},
   "source": [
    "# Testing notebook"
   ]
  },
  {
   "cell_type": "code",
   "execution_count": 1,
   "id": "3b59c6fc",
   "metadata": {},
   "outputs": [],
   "source": [
    "import xlsxwriter\n",
    "import pandas as pd\n",
    "import numpy as np\n",
    "\n",
    "from classification_power_predictor import classification_power_predictor\n",
    "from writing import *"
   ]
  },
  {
   "cell_type": "markdown",
   "id": "0c2fe7ca",
   "metadata": {},
   "source": [
    "## We need some testing data"
   ]
  },
  {
   "cell_type": "code",
   "execution_count": 2,
   "id": "95c1aefc",
   "metadata": {},
   "outputs": [],
   "source": [
    "# frame size\n",
    "n = 1000\n",
    "\n",
    "test_frame = pd.DataFrame({\"numeric_variable\": np.random.normal(10, 5, n), \n",
    "                           \"object_variable\": np.round(np.random.uniform(0, 10, n)).astype('O'),\n",
    "                           \"column with soo000oo000oo000oo000oo long name\": np.random.normal(10, 5, n)})\n",
    "\n",
    "nv = test_frame[\"numeric_variable\"]\n",
    "ov = test_frame[\"object_variable\"]\n",
    "\n",
    "probs1 = nv.apply(lambda x: (x/(max(nv) - min(nv))) + ((np.random.rand())/5))\n",
    "probs2 = ov.apply(lambda x: (x/(max(ov) - min(ov))) + ((np.random.rand())/5))\n",
    "\n",
    "f_probs = (probs1 + probs2)/2\n",
    "f_probs[f_probs >= 1] = 1\n",
    "\n",
    "\n",
    "Y = np.zeros(n)\n",
    "Y[f_probs > 0.4] = 1\n",
    "Y[f_probs > 0.7] = 2\n",
    "\n",
    "Y = pd.Series(Y)\n",
    "Y_strs = Y.replace({0: 'cetegory 0', 1:'category 1', 2:'category 2'})\n",
    "Y.value_counts()\n",
    "Y_binary = Y.replace({2:1})\n",
    "\n",
    "na_containts_frame = test_frame.copy()\n",
    "\n",
    "for col in test_frame.columns:\n",
    "    na_containts_frame.loc[na_containts_frame.sample(int(n/50)).index, col] = np.NaN"
   ]
  },
  {
   "cell_type": "markdown",
   "id": "ded2bb6c",
   "metadata": {},
   "source": [
    "Data generator for the study of interrelationships"
   ]
  },
  {
   "cell_type": "code",
   "execution_count": 3,
   "id": "37aab263",
   "metadata": {},
   "outputs": [],
   "source": [
    "def inter_data_gen(grop_size = 200, grops_count = 3, relation_param = 1.2):\n",
    "    # lets creaate a sample wich contains columns for every situation\n",
    "    Y = np.concatenate([np.zeros(grop_size) + i for i in range(grops_count)])\n",
    "    related_col = np.concatenate(\n",
    "        [np.random.normal(i*relation_param, 0.5, grop_size) for i in range(grops_count)]\n",
    "    )\n",
    "    non_related_col = np.concatenate(\n",
    "        [np.random.normal(0, 0.5, grop_size) for i in range(grops_count)]\n",
    "    )\n",
    "    test_frame = pd.DataFrame({\n",
    "        \"Y\" : Y,\n",
    "        \"related_col\" : related_col,\n",
    "        \"non_ralted_col\" : non_related_col\n",
    "        \n",
    "    })\n",
    "    \n",
    "    return test_frame"
   ]
  },
  {
   "cell_type": "markdown",
   "id": "faea01a5",
   "metadata": {},
   "source": [
    "# Computions funcitons"
   ]
  },
  {
   "cell_type": "code",
   "execution_count": 4,
   "id": "10639a29",
   "metadata": {},
   "outputs": [],
   "source": [
    "from computions import *"
   ]
  },
  {
   "cell_type": "markdown",
   "id": "c75f1b01",
   "metadata": {},
   "source": [
    "## get_describe_nominal function test"
   ]
  },
  {
   "cell_type": "markdown",
   "id": "fb231041",
   "metadata": {},
   "source": [
    "Basic situation"
   ]
  },
  {
   "cell_type": "code",
   "execution_count": 5,
   "id": "3954086a",
   "metadata": {},
   "outputs": [
    {
     "data": {
      "text/html": [
       "<div>\n",
       "<style scoped>\n",
       "    .dataframe tbody tr th:only-of-type {\n",
       "        vertical-align: middle;\n",
       "    }\n",
       "\n",
       "    .dataframe tbody tr th {\n",
       "        vertical-align: top;\n",
       "    }\n",
       "\n",
       "    .dataframe thead th {\n",
       "        text-align: right;\n",
       "    }\n",
       "</style>\n",
       "<table border=\"1\" class=\"dataframe\">\n",
       "  <thead>\n",
       "    <tr style=\"text-align: right;\">\n",
       "      <th></th>\n",
       "      <th>count</th>\n",
       "      <th>2.0</th>\n",
       "      <th>2.0%</th>\n",
       "      <th>1.0</th>\n",
       "      <th>1.0%</th>\n",
       "      <th>0.0</th>\n",
       "      <th>0.0%</th>\n",
       "    </tr>\n",
       "    <tr>\n",
       "      <th>object_variable</th>\n",
       "      <th></th>\n",
       "      <th></th>\n",
       "      <th></th>\n",
       "      <th></th>\n",
       "      <th></th>\n",
       "      <th></th>\n",
       "      <th></th>\n",
       "    </tr>\n",
       "  </thead>\n",
       "  <tbody>\n",
       "    <tr>\n",
       "      <th>6.0</th>\n",
       "      <td>119</td>\n",
       "      <td>6.0</td>\n",
       "      <td>5.042017</td>\n",
       "      <td>107</td>\n",
       "      <td>89.915966</td>\n",
       "      <td>6.0</td>\n",
       "      <td>5.042017</td>\n",
       "    </tr>\n",
       "    <tr>\n",
       "      <th>4.0</th>\n",
       "      <td>106</td>\n",
       "      <td>0.0</td>\n",
       "      <td>0.000000</td>\n",
       "      <td>66</td>\n",
       "      <td>62.264151</td>\n",
       "      <td>40.0</td>\n",
       "      <td>37.735849</td>\n",
       "    </tr>\n",
       "    <tr>\n",
       "      <th>2.0</th>\n",
       "      <td>105</td>\n",
       "      <td>0.0</td>\n",
       "      <td>0.000000</td>\n",
       "      <td>34</td>\n",
       "      <td>32.380952</td>\n",
       "      <td>71.0</td>\n",
       "      <td>67.619048</td>\n",
       "    </tr>\n",
       "    <tr>\n",
       "      <th>7.0</th>\n",
       "      <td>104</td>\n",
       "      <td>13.0</td>\n",
       "      <td>12.500000</td>\n",
       "      <td>90</td>\n",
       "      <td>86.538462</td>\n",
       "      <td>1.0</td>\n",
       "      <td>0.961538</td>\n",
       "    </tr>\n",
       "    <tr>\n",
       "      <th>1.0</th>\n",
       "      <td>103</td>\n",
       "      <td>0.0</td>\n",
       "      <td>0.000000</td>\n",
       "      <td>10</td>\n",
       "      <td>9.708738</td>\n",
       "      <td>93.0</td>\n",
       "      <td>90.291262</td>\n",
       "    </tr>\n",
       "    <tr>\n",
       "      <th>9.0</th>\n",
       "      <td>102</td>\n",
       "      <td>52.0</td>\n",
       "      <td>50.980392</td>\n",
       "      <td>50</td>\n",
       "      <td>49.019608</td>\n",
       "      <td>0.0</td>\n",
       "      <td>0.000000</td>\n",
       "    </tr>\n",
       "    <tr>\n",
       "      <th>5.0</th>\n",
       "      <td>93</td>\n",
       "      <td>1.0</td>\n",
       "      <td>1.075269</td>\n",
       "      <td>81</td>\n",
       "      <td>87.096774</td>\n",
       "      <td>11.0</td>\n",
       "      <td>11.827957</td>\n",
       "    </tr>\n",
       "    <tr>\n",
       "      <th>8.0</th>\n",
       "      <td>92</td>\n",
       "      <td>15.0</td>\n",
       "      <td>16.304348</td>\n",
       "      <td>77</td>\n",
       "      <td>83.695652</td>\n",
       "      <td>0.0</td>\n",
       "      <td>0.000000</td>\n",
       "    </tr>\n",
       "    <tr>\n",
       "      <th>3.0</th>\n",
       "      <td>79</td>\n",
       "      <td>0.0</td>\n",
       "      <td>0.000000</td>\n",
       "      <td>42</td>\n",
       "      <td>53.164557</td>\n",
       "      <td>37.0</td>\n",
       "      <td>46.835443</td>\n",
       "    </tr>\n",
       "    <tr>\n",
       "      <th>10.0</th>\n",
       "      <td>52</td>\n",
       "      <td>34.0</td>\n",
       "      <td>65.384615</td>\n",
       "      <td>18</td>\n",
       "      <td>34.615385</td>\n",
       "      <td>0.0</td>\n",
       "      <td>0.000000</td>\n",
       "    </tr>\n",
       "    <tr>\n",
       "      <th>0.0</th>\n",
       "      <td>45</td>\n",
       "      <td>0.0</td>\n",
       "      <td>0.000000</td>\n",
       "      <td>5</td>\n",
       "      <td>11.111111</td>\n",
       "      <td>40.0</td>\n",
       "      <td>88.888889</td>\n",
       "    </tr>\n",
       "  </tbody>\n",
       "</table>\n",
       "</div>"
      ],
      "text/plain": [
       "                 count   2.0       2.0%  1.0       1.0%   0.0       0.0%\n",
       "object_variable                                                         \n",
       "6.0                119   6.0   5.042017  107  89.915966   6.0   5.042017\n",
       "4.0                106   0.0   0.000000   66  62.264151  40.0  37.735849\n",
       "2.0                105   0.0   0.000000   34  32.380952  71.0  67.619048\n",
       "7.0                104  13.0  12.500000   90  86.538462   1.0   0.961538\n",
       "1.0                103   0.0   0.000000   10   9.708738  93.0  90.291262\n",
       "9.0                102  52.0  50.980392   50  49.019608   0.0   0.000000\n",
       "5.0                 93   1.0   1.075269   81  87.096774  11.0  11.827957\n",
       "8.0                 92  15.0  16.304348   77  83.695652   0.0   0.000000\n",
       "3.0                 79   0.0   0.000000   42  53.164557  37.0  46.835443\n",
       "10.0                52  34.0  65.384615   18  34.615385   0.0   0.000000\n",
       "0.0                 45   0.0   0.000000    5  11.111111  40.0  88.888889"
      ]
     },
     "execution_count": 5,
     "metadata": {},
     "output_type": "execute_result"
    }
   ],
   "source": [
    "get_describe_nominal(test_frame.iloc[:,1], Y)"
   ]
  },
  {
   "cell_type": "markdown",
   "id": "6c801486",
   "metadata": {},
   "source": [
    "Data frame with emptys"
   ]
  },
  {
   "cell_type": "code",
   "execution_count": 6,
   "id": "5dca1007",
   "metadata": {},
   "outputs": [
    {
     "name": "stdout",
     "output_type": "stream",
     "text": [
      "Is all obs. are in table -  False\n",
      "Is all obs. are in table -  True\n"
     ]
    }
   ],
   "source": [
    "test = get_describe_nominal(na_containts_frame.iloc[:,1], Y)\n",
    "print(\"Is all obs. are in table - \",  str(test['count'].sum() == n))\n",
    "test = get_describe_nominal(na_containts_frame.fillna('empty').iloc[:,1], Y)\n",
    "print(\"Is all obs. are in table - \",  str(test['count'].sum() == n))"
   ]
  },
  {
   "cell_type": "markdown",
   "id": "f2666ebf",
   "metadata": {},
   "source": [
    "## Stats computing test"
   ]
  },
  {
   "cell_type": "markdown",
   "id": "cc11c442",
   "metadata": {},
   "source": [
    "Stats numeric"
   ]
  },
  {
   "cell_type": "code",
   "execution_count": 9,
   "id": "d9c6d4bb",
   "metadata": {},
   "outputs": [
    {
     "name": "stdout",
     "output_type": "stream",
     "text": [
      "KS test results\n",
      "first kind error\n",
      "count 0; share 0.0%\n",
      "second kind error\n",
      "count 11; share 5.5%\n"
     ]
    }
   ],
   "source": [
    "def stats_error_mesage(error_type):\n",
    "    print(\"ERROR:\")\n",
    "    print(error_type)\n",
    "    print(\"may be try again random is random\")\n",
    "    \n",
    "KS_conv_level = 0.05\n",
    "second_kind_error_count = 0\n",
    "first_kind_error_count = 0\n",
    "test_count = 200\n",
    "\n",
    "for i in range(test_count):\n",
    "    data_for_testing = inter_data_gen(relation_param = 1.2)\n",
    "    \n",
    "    related_stats = get_stats_numeric(\n",
    "        data_for_testing['related_col'], data_for_testing['Y']\n",
    "    )\n",
    "    non_related_stats = get_stats_numeric(\n",
    "        data_for_testing['non_ralted_col'], data_for_testing['Y']\n",
    "    )\n",
    "    \n",
    "    if related_stats[2]['AUC'] < non_related_stats[2]['AUC']:  \n",
    "        stats_error_mesage(\n",
    "            'AUC of related sample is smaller than AUC of independent!'\n",
    "        )\n",
    "        break\n",
    "    if related_stats[0]['AUC'] > 0.5:\n",
    "        stats_error_mesage(\n",
    "            'AUC for factor with smaller on average levels must be lower than 0.5'\n",
    "        )\n",
    "        break\n",
    "    if related_stats[2]['KS'] < non_related_stats[2]['KS']:\n",
    "        stats_error_mesage(\n",
    "            'KS of related sample is smaller than KS of independent!'\n",
    "        )\n",
    "    \n",
    "    if related_stats[0]['KS_p_val'] > KS_conv_level:\n",
    "        first_kind_error_count += 1\n",
    "    if non_related_stats[0]['KS_p_val'] < KS_conv_level:\n",
    "        second_kind_error_count += 1\n",
    "        \n",
    "print(\"KS test results\")\n",
    "print(\"first kind error\")\n",
    "print(\n",
    "    \"count \" + str(first_kind_error_count) + \"; share \" +\\\n",
    "    str(np.round(first_kind_error_count*100/test_count, 3)) + \"%\"\n",
    ")\n",
    "print(\"second kind error\")\n",
    "print(\n",
    "    \"count \" + str(second_kind_error_count) + \"; share \" +\\\n",
    "    str(np.round(second_kind_error_count*100/test_count, 3)) + \"%\"\n",
    ")"
   ]
  },
  {
   "cell_type": "markdown",
   "id": "e7ed1137",
   "metadata": {},
   "source": [
    "## AUC computing test\n",
    "\n",
    "AUC numeric - simple fucntion"
   ]
  },
  {
   "cell_type": "code",
   "execution_count": 6,
   "id": "67bb1cf7",
   "metadata": {},
   "outputs": [
    {
     "name": "stdout",
     "output_type": "stream",
     "text": [
      "{1.0: 0.523252976771423, 0.0: 0.26380095697778894, 2.0: 0.7699568058175457}\n",
      "{'category 1': 0.523252976771423, 'cetegory 0': 0.26380095697778894, 'category 2': 0.7699568058175457}\n",
      "{'category 1': 0.5267980658180295, 'cetegory 0': 0.26242596348884384, 'category 2': 0.7680114657311542}\n",
      "{1.0: 0.7361990430222112, 0.0: 0.26380095697778894}\n"
     ]
    }
   ],
   "source": [
    "print(get_AUC_numeric(test_frame['numeric_variable'] ,Y))\n",
    "print(get_AUC_numeric(test_frame['numeric_variable'], Y_strs))\n",
    "print(get_AUC_numeric(na_containts_frame['numeric_variable'], Y_strs))\n",
    "print(get_AUC_numeric(test_frame['numeric_variable'], Y_binary))"
   ]
  },
  {
   "cell_type": "markdown",
   "id": "6bcfed18",
   "metadata": {},
   "source": [
    "AUC nominal"
   ]
  },
  {
   "cell_type": "code",
   "execution_count": 7,
   "id": "f3213fdd",
   "metadata": {},
   "outputs": [
    {
     "name": "stdout",
     "output_type": "stream",
     "text": [
      "{'category 1': 0.7995274578697379, 'cetegory 0': 0.9293497565766105, 'category 2': 0.904473878454851}\n",
      "AUC bynary\n",
      "{1.0: 0.9293497565766105, 0.0: 0.9293497565766105}\n",
      "AUC with emptys - needs to be replaces in previous steps\n",
      "{'category 1': 0.796522220053354, 'cetegory 0': 0.9283572577780563, 'category 2': 0.9029839525410756}\n"
     ]
    },
    {
     "data": {
      "text/plain": [
       "{'category 1': 0.796522220053354,\n",
       " 'cetegory 0': 0.9283572577780563,\n",
       " 'category 2': 0.9029839525410756}"
      ]
     },
     "execution_count": 7,
     "metadata": {},
     "output_type": "execute_result"
    }
   ],
   "source": [
    "non_table = get_AUC_nominal(test_frame['object_variable'], Y)\n",
    "dn_tab = get_describe_nominal(test_frame.iloc[:,1], Y_strs)\n",
    "with_table = get_AUC_nominal(test_frame['object_variable'], Y_strs, dn_tab)\n",
    "print(with_table)\n",
    "\n",
    "print('AUC bynary')\n",
    "print(get_AUC_nominal(test_frame['object_variable'], Y_binary))\n",
    "\n",
    "print('AUC with emptys - needs to be replaces in previous steps')\n",
    "print(get_AUC_nominal(na_containts_frame['object_variable'].fillna('empty'), Y_strs))\n",
    "\n",
    "get_AUC_nominal(na_containts_frame['object_variable'].fillna('empty'), Y_strs, \n",
    "                get_describe_nominal(na_containts_frame.iloc[:,1].fillna('empty'), Y_strs))\n"
   ]
  },
  {
   "cell_type": "markdown",
   "id": "2822fc40",
   "metadata": {},
   "source": [
    "Get publish AUC for any predictor type"
   ]
  },
  {
   "cell_type": "code",
   "execution_count": 8,
   "id": "94a81646",
   "metadata": {},
   "outputs": [
    {
     "name": "stdout",
     "output_type": "stream",
     "text": [
      "nominal predictor without table\n",
      "{1.0: {'AUC': 0.7995274578697379, 'rel_type': 1, 'GINI': 0.5990549157394758}, 0.0: {'AUC': 0.9293497565766105, 'rel_type': 1, 'GINI': 0.8586995131532209}, 2.0: {'AUC': 0.904473878454851, 'rel_type': 1, 'GINI': 0.8089477569097021}}\n",
      "moninal predictor with table\n",
      "{'category 1': {'AUC': 0.7995274578697379, 'rel_type': 1, 'GINI': 0.5990549157394758}, 'cetegory 0': {'AUC': 0.9293497565766105, 'rel_type': 1, 'GINI': 0.8586995131532209}, 'category 2': {'AUC': 0.904473878454851, 'rel_type': 1, 'GINI': 0.8089477569097021}}\n",
      "numeric predictor\n",
      "{1.0: {'AUC': 0.523252976771423, 'rel_type': 1, 'GINI': 0.046505953542846035}, 0.0: {'AUC': 0.7361990430222111, 'rel_type': -1, 'GINI': 0.4723980860444221}, 2.0: {'AUC': 0.7699568058175457, 'rel_type': 1, 'GINI': 0.5399136116350913}}\n"
     ]
    }
   ],
   "source": [
    "non_table = get_full_AUC(test_frame['object_variable'], Y, 'nominal')\n",
    "print('nominal predictor without table')\n",
    "print(non_table)\n",
    "\n",
    "with_table = get_full_AUC(test_frame['object_variable'], Y_strs, 'nominal', descr_table = dn_tab)\n",
    "print('moninal predictor with table')\n",
    "print(with_table)\n",
    "\n",
    "numeric_var = get_full_AUC(test_frame['numeric_variable'], Y, 'numeric')\n",
    "print('numeric predictor')\n",
    "print(numeric_var)"
   ]
  },
  {
   "cell_type": "markdown",
   "id": "d3ef07d0",
   "metadata": {},
   "source": [
    "Decoding AUC info as DataFrame"
   ]
  },
  {
   "cell_type": "code",
   "execution_count": 9,
   "id": "1af239c7",
   "metadata": {},
   "outputs": [
    {
     "data": {
      "text/html": [
       "<div>\n",
       "<style scoped>\n",
       "    .dataframe tbody tr th:only-of-type {\n",
       "        vertical-align: middle;\n",
       "    }\n",
       "\n",
       "    .dataframe tbody tr th {\n",
       "        vertical-align: top;\n",
       "    }\n",
       "\n",
       "    .dataframe thead tr th {\n",
       "        text-align: left;\n",
       "    }\n",
       "</style>\n",
       "<table border=\"1\" class=\"dataframe\">\n",
       "  <thead>\n",
       "    <tr>\n",
       "      <th></th>\n",
       "      <th colspan=\"3\" halign=\"left\">1.0</th>\n",
       "      <th colspan=\"3\" halign=\"left\">0.0</th>\n",
       "      <th colspan=\"3\" halign=\"left\">2.0</th>\n",
       "    </tr>\n",
       "    <tr>\n",
       "      <th></th>\n",
       "      <th>AUC</th>\n",
       "      <th>rel_type</th>\n",
       "      <th>GINI</th>\n",
       "      <th>AUC</th>\n",
       "      <th>rel_type</th>\n",
       "      <th>GINI</th>\n",
       "      <th>AUC</th>\n",
       "      <th>rel_type</th>\n",
       "      <th>GINI</th>\n",
       "    </tr>\n",
       "  </thead>\n",
       "  <tbody>\n",
       "    <tr>\n",
       "      <th>numeric_variable</th>\n",
       "      <td>0.523253</td>\n",
       "      <td>1</td>\n",
       "      <td>0.046506</td>\n",
       "      <td>0.736199</td>\n",
       "      <td>-1</td>\n",
       "      <td>0.472398</td>\n",
       "      <td>0.769957</td>\n",
       "      <td>1</td>\n",
       "      <td>0.539914</td>\n",
       "    </tr>\n",
       "  </tbody>\n",
       "</table>\n",
       "</div>"
      ],
      "text/plain": [
       "                       1.0                          0.0                     \\\n",
       "                       AUC rel_type      GINI       AUC rel_type      GINI   \n",
       "numeric_variable  0.523253        1  0.046506  0.736199       -1  0.472398   \n",
       "\n",
       "                       2.0                     \n",
       "                       AUC rel_type      GINI  \n",
       "numeric_variable  0.769957        1  0.539914  "
      ]
     },
     "execution_count": 9,
     "metadata": {},
     "output_type": "execute_result"
    }
   ],
   "source": [
    "numeric_var = get_full_AUC(test_frame['numeric_variable'], Y, 'numeric')\n",
    "AUC_info_to_DataFrame(numeric_var,'numeric_variable')"
   ]
  },
  {
   "cell_type": "markdown",
   "id": "49ffe5dc",
   "metadata": {},
   "source": [
    "## get_all_computions funcion test"
   ]
  },
  {
   "cell_type": "code",
   "execution_count": 10,
   "id": "81598887",
   "metadata": {},
   "outputs": [
    {
     "name": "stdout",
     "output_type": "stream",
     "text": [
      "describe_table with no nas\n",
      "                 count  1.0       1.0%   0.0       0.0%   2.0       2.0%\n",
      "object_variable                                                         \n",
      "7.0                110   85  77.272727   0.0   0.000000  25.0  22.727273\n",
      "9.0                105   50  47.619048   0.0   0.000000  55.0  52.380952\n",
      "6.0                104   92  88.461538   5.0   4.807692   7.0   6.730769\n",
      "2.0                103   27  26.213592  76.0  73.786408   0.0   0.000000\n",
      "1.0                102   21  20.588235  81.0  79.411765   0.0   0.000000\n",
      "3.0                 99   68  68.686869  31.0  31.313131   0.0   0.000000\n",
      "8.0                 95   52  54.736842   1.0   1.052632  42.0  44.210526\n",
      "4.0                 95   72  75.789474  22.0  23.157895   1.0   1.052632\n",
      "5.0                 92   81  88.043478   6.0   6.521739   5.0   5.434783\n",
      "10.0                56   13  23.214286   0.0   0.000000  43.0  76.785714\n",
      "0.0                 39    3   7.692308  36.0  92.307692   0.0   0.000000\n",
      "describe_table with nas\n",
      "                 count  1.0       1.0%   0.0       0.0%   2.0       2.0%\n",
      "object_variable                                                         \n",
      "7.0                109   84  77.064220   0.0   0.000000  25.0  22.935780\n",
      "9.0                103   49  47.572816   0.0   0.000000  54.0  52.427184\n",
      "1.0                101   20  19.801980  81.0  80.198020   0.0   0.000000\n",
      "2.0                100   26  26.000000  74.0  74.000000   0.0   0.000000\n",
      "6.0                 99   87  87.878788   5.0   5.050505   7.0   7.070707\n",
      "3.0                 98   68  69.387755  30.0  30.612245   0.0   0.000000\n",
      "4.0                 93   70  75.268817  22.0  23.655914   1.0   1.075269\n",
      "8.0                 92   51  55.434783   0.0   0.000000  41.0  44.565217\n",
      "5.0                 91   80  87.912088   6.0   6.593407   5.0   5.494505\n",
      "10.0                56   13  23.214286   0.0   0.000000  43.0  76.785714\n",
      "0.0                 38    3   7.894737  35.0  92.105263   0.0   0.000000\n",
      "Empty               20   13  65.000000   5.0  25.000000   2.0  10.000000\n"
     ]
    }
   ],
   "source": [
    "print('describe_table with no nas')\n",
    "print(get_all_comuptions(test_frame['object_variable'], Y)['describe_table'])\n",
    "print('describe_table with nas')\n",
    "print(get_all_comuptions(na_containts_frame['object_variable'], Y)['describe_table'])"
   ]
  },
  {
   "cell_type": "markdown",
   "id": "46bdf21d",
   "metadata": {},
   "source": [
    "Getting indicators from computions uotput"
   ]
  },
  {
   "cell_type": "code",
   "execution_count": 11,
   "id": "9655dfc8",
   "metadata": {},
   "outputs": [
    {
     "name": "stdout",
     "output_type": "stream",
     "text": [
      "full numeric data\n",
      "numeric data with nas, with str categoryes\n"
     ]
    },
    {
     "data": {
      "text/html": [
       "<div>\n",
       "<style scoped>\n",
       "    .dataframe tbody tr th:only-of-type {\n",
       "        vertical-align: middle;\n",
       "    }\n",
       "\n",
       "    .dataframe tbody tr th {\n",
       "        vertical-align: top;\n",
       "    }\n",
       "\n",
       "    .dataframe thead tr th {\n",
       "        text-align: left;\n",
       "    }\n",
       "</style>\n",
       "<table border=\"1\" class=\"dataframe\">\n",
       "  <thead>\n",
       "    <tr>\n",
       "      <th></th>\n",
       "      <th colspan=\"3\" halign=\"left\">category 1</th>\n",
       "      <th colspan=\"3\" halign=\"left\">cetegory 0</th>\n",
       "      <th colspan=\"3\" halign=\"left\">category 2</th>\n",
       "      <th>Emptys</th>\n",
       "      <th>Emptys part</th>\n",
       "    </tr>\n",
       "    <tr>\n",
       "      <th></th>\n",
       "      <th>AUC</th>\n",
       "      <th>rel_type</th>\n",
       "      <th>GINI</th>\n",
       "      <th>AUC</th>\n",
       "      <th>rel_type</th>\n",
       "      <th>GINI</th>\n",
       "      <th>AUC</th>\n",
       "      <th>rel_type</th>\n",
       "      <th>GINI</th>\n",
       "      <th></th>\n",
       "      <th></th>\n",
       "    </tr>\n",
       "  </thead>\n",
       "  <tbody>\n",
       "    <tr>\n",
       "      <th>numeric_variable</th>\n",
       "      <td>0.526798</td>\n",
       "      <td>1</td>\n",
       "      <td>0.053596</td>\n",
       "      <td>0.737574</td>\n",
       "      <td>-1</td>\n",
       "      <td>0.475148</td>\n",
       "      <td>0.768011</td>\n",
       "      <td>1</td>\n",
       "      <td>0.536023</td>\n",
       "      <td>20</td>\n",
       "      <td>0.02</td>\n",
       "    </tr>\n",
       "  </tbody>\n",
       "</table>\n",
       "</div>"
      ],
      "text/plain": [
       "                 category 1                    cetegory 0                     \\\n",
       "                        AUC rel_type      GINI        AUC rel_type      GINI   \n",
       "numeric_variable   0.526798        1  0.053596   0.737574       -1  0.475148   \n",
       "\n",
       "                 category 2                    Emptys Emptys part  \n",
       "                        AUC rel_type      GINI                     \n",
       "numeric_variable   0.768011        1  0.536023     20        0.02  "
      ]
     },
     "execution_count": 11,
     "metadata": {},
     "output_type": "execute_result"
    }
   ],
   "source": [
    "comp_result =  get_all_comuptions(test_frame['numeric_variable'], Y)\n",
    "print('full numeric data')\n",
    "get_predictor_row(comp_result)\n",
    "print('numeric data with nas, with str categoryes')\n",
    "comp_result =  get_all_comuptions(na_containts_frame['numeric_variable'], Y_strs)\n",
    "get_predictor_row(comp_result)"
   ]
  },
  {
   "cell_type": "markdown",
   "id": "99161e41",
   "metadata": {},
   "source": [
    "# Writing to excel"
   ]
  },
  {
   "cell_type": "markdown",
   "id": "1bc367dd",
   "metadata": {},
   "source": [
    "Adding a info about different predictors"
   ]
  },
  {
   "cell_type": "code",
   "execution_count": 12,
   "id": "84079594",
   "metadata": {},
   "outputs": [],
   "source": [
    "my_cpp = classification_power_predictor(test_frame, Y)\n",
    "my_cpp.update_predictors()"
   ]
  },
  {
   "cell_type": "markdown",
   "id": "bc0c47ab",
   "metadata": {},
   "source": [
    "Let's show final table"
   ]
  },
  {
   "cell_type": "code",
   "execution_count": 13,
   "id": "854b6dd4",
   "metadata": {},
   "outputs": [
    {
     "data": {
      "text/html": [
       "<div>\n",
       "<style scoped>\n",
       "    .dataframe tbody tr th:only-of-type {\n",
       "        vertical-align: middle;\n",
       "    }\n",
       "\n",
       "    .dataframe tbody tr th {\n",
       "        vertical-align: top;\n",
       "    }\n",
       "\n",
       "    .dataframe thead tr th {\n",
       "        text-align: left;\n",
       "    }\n",
       "</style>\n",
       "<table border=\"1\" class=\"dataframe\">\n",
       "  <thead>\n",
       "    <tr>\n",
       "      <th></th>\n",
       "      <th colspan=\"3\" halign=\"left\">1.0</th>\n",
       "      <th colspan=\"3\" halign=\"left\">0.0</th>\n",
       "      <th colspan=\"3\" halign=\"left\">2.0</th>\n",
       "      <th>Emptys</th>\n",
       "      <th>Emptys part</th>\n",
       "    </tr>\n",
       "    <tr>\n",
       "      <th></th>\n",
       "      <th>AUC</th>\n",
       "      <th>rel_type</th>\n",
       "      <th>GINI</th>\n",
       "      <th>AUC</th>\n",
       "      <th>rel_type</th>\n",
       "      <th>GINI</th>\n",
       "      <th>AUC</th>\n",
       "      <th>rel_type</th>\n",
       "      <th>GINI</th>\n",
       "      <th></th>\n",
       "      <th></th>\n",
       "    </tr>\n",
       "  </thead>\n",
       "  <tbody>\n",
       "    <tr>\n",
       "      <th>numeric_variable</th>\n",
       "      <td>0.523253</td>\n",
       "      <td>1</td>\n",
       "      <td>0.046506</td>\n",
       "      <td>0.736199</td>\n",
       "      <td>-1</td>\n",
       "      <td>0.472398</td>\n",
       "      <td>0.769957</td>\n",
       "      <td>1</td>\n",
       "      <td>0.539914</td>\n",
       "      <td>0</td>\n",
       "      <td>0.0</td>\n",
       "    </tr>\n",
       "    <tr>\n",
       "      <th>object_variable</th>\n",
       "      <td>0.799527</td>\n",
       "      <td>1</td>\n",
       "      <td>0.599055</td>\n",
       "      <td>0.92935</td>\n",
       "      <td>1</td>\n",
       "      <td>0.8587</td>\n",
       "      <td>0.904474</td>\n",
       "      <td>1</td>\n",
       "      <td>0.808948</td>\n",
       "      <td>0</td>\n",
       "      <td>0.0</td>\n",
       "    </tr>\n",
       "    <tr>\n",
       "      <th>column with soo000oo000oo000oo000oo long name</th>\n",
       "      <td>0.505165</td>\n",
       "      <td>-1</td>\n",
       "      <td>0.010329</td>\n",
       "      <td>0.535187</td>\n",
       "      <td>1</td>\n",
       "      <td>0.070373</td>\n",
       "      <td>0.537358</td>\n",
       "      <td>-1</td>\n",
       "      <td>0.074715</td>\n",
       "      <td>0</td>\n",
       "      <td>0.0</td>\n",
       "    </tr>\n",
       "  </tbody>\n",
       "</table>\n",
       "</div>"
      ],
      "text/plain": [
       "                                                    1.0                     \\\n",
       "                                                    AUC rel_type      GINI   \n",
       "numeric_variable                               0.523253        1  0.046506   \n",
       "object_variable                                0.799527        1  0.599055   \n",
       "column with soo000oo000oo000oo000oo long name  0.505165       -1  0.010329   \n",
       "\n",
       "                                                    0.0                     \\\n",
       "                                                    AUC rel_type      GINI   \n",
       "numeric_variable                               0.736199       -1  0.472398   \n",
       "object_variable                                 0.92935        1    0.8587   \n",
       "column with soo000oo000oo000oo000oo long name  0.535187        1  0.070373   \n",
       "\n",
       "                                                    2.0                     \\\n",
       "                                                    AUC rel_type      GINI   \n",
       "numeric_variable                               0.769957        1  0.539914   \n",
       "object_variable                                0.904474        1  0.808948   \n",
       "column with soo000oo000oo000oo000oo long name  0.537358       -1  0.074715   \n",
       "\n",
       "                                              Emptys Emptys part  \n",
       "                                                                  \n",
       "numeric_variable                                   0         0.0  \n",
       "object_variable                                    0         0.0  \n",
       "column with soo000oo000oo000oo000oo long name      0         0.0  "
      ]
     },
     "execution_count": 13,
     "metadata": {},
     "output_type": "execute_result"
    }
   ],
   "source": [
    "my_cpp = classification_power_predictor(test_frame, Y)\n",
    "my_cpp.update_predictors()\n",
    "#my_cpp.get_predictors_data()\n",
    "my_cpp.result_DF"
   ]
  },
  {
   "cell_type": "markdown",
   "id": "9f55e2f0",
   "metadata": {},
   "source": [
    "Writig a double header table"
   ]
  },
  {
   "cell_type": "code",
   "execution_count": 14,
   "id": "70975bca",
   "metadata": {},
   "outputs": [],
   "source": [
    "\n",
    "\n",
    "xl_writer = pd.ExcelWriter(\"test_result/double_header_saver.xlsx\",engine='xlsxwriter')\n",
    "ws = xl_writer.book.add_worksheet('test')\n",
    "xl_writer.sheets['test'] = ws      \n",
    "\n",
    "my_cpp = classification_power_predictor(test_frame, Y)\n",
    "my_cpp.update_predictors()\n",
    "my_cpp.my_writer = xl_writer\n",
    "\n",
    "print_double_column_header(  my_cpp, ws, \n",
    "                            my_cpp.result_DF.loc[['numeric_variable'],:],\n",
    "                            \"A1\", 'Hello World', \n",
    "                            xl_writer.book.add_format(my_cpp.default_header_format))\n",
    "\n",
    "xl_writer.close()"
   ]
  },
  {
   "cell_type": "markdown",
   "id": "ab6f6bf1",
   "metadata": {},
   "source": [
    "Writing info about some predictor"
   ]
  },
  {
   "cell_type": "code",
   "execution_count": 15,
   "id": "d9d78fbb",
   "metadata": {},
   "outputs": [],
   "source": [
    "xl_writer = pd.ExcelWriter(\"test_result/writing_a_value.xlsx\",engine='xlsxwriter')\n",
    "\n",
    "ws = xl_writer.book.add_worksheet('test')\n",
    "xl_writer.sheets['test'] = ws                             \n",
    "\n",
    "my_cpp = classification_power_predictor(test_frame, Y)\n",
    "my_cpp.update_predictors()\n",
    "my_cpp.my_writer = xl_writer\n",
    "\n",
    "default_predictor_printer(my_cpp, ws, my_cpp.get_predictors_data()['numeric_variable'], \n",
    "{'header_format':xl_writer.book.add_format(my_cpp.default_header_format),\n",
    "  'desc_format':xl_writer.book.add_format(my_cpp.default_header_format),\n",
    "  'class_ab_format':xl_writer.book.add_format(my_cpp.default_header_format)})\n",
    "\n",
    "xl_writer.close()"
   ]
  },
  {
   "cell_type": "code",
   "execution_count": 16,
   "id": "3cc552d9",
   "metadata": {},
   "outputs": [],
   "source": [
    "xl_writer = pd.ExcelWriter(\"test_result/result_test.xlsx\",engine='xlsxwriter')\n",
    "my_cpp.write_to_book(xl_writer)\n",
    "xl_writer.close()"
   ]
  }
 ],
 "metadata": {
  "kernelspec": {
   "display_name": "Python 3 (ipykernel)",
   "language": "python",
   "name": "python3"
  },
  "language_info": {
   "codemirror_mode": {
    "name": "ipython",
    "version": 3
   },
   "file_extension": ".py",
   "mimetype": "text/x-python",
   "name": "python",
   "nbconvert_exporter": "python",
   "pygments_lexer": "ipython3",
   "version": "3.10.0"
  }
 },
 "nbformat": 4,
 "nbformat_minor": 5
}
