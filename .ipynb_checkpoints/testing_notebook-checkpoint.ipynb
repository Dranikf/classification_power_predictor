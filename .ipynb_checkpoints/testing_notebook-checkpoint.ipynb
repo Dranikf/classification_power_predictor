{
 "cells": [
  {
   "cell_type": "markdown",
   "id": "39746abf",
   "metadata": {},
   "source": [
    "# Testing notebook"
   ]
  },
  {
   "cell_type": "code",
   "execution_count": 1,
   "id": "3b59c6fc",
   "metadata": {},
   "outputs": [],
   "source": [
    "import xlsxwriter\n",
    "import pandas as pd\n",
    "import numpy as np\n",
    "\n",
    "from classification_power_predictor import classification_power_predictor\n",
    "from writing import *"
   ]
  },
  {
   "cell_type": "markdown",
   "id": "0c2fe7ca",
   "metadata": {},
   "source": [
    "## We need some testing data"
   ]
  },
  {
   "cell_type": "markdown",
   "id": "d41931a3",
   "metadata": {},
   "source": [
    "Data generator for the study of interrelationships"
   ]
  },
  {
   "cell_type": "code",
   "execution_count": 16,
   "id": "04f99ea7",
   "metadata": {},
   "outputs": [
    {
     "data": {
      "text/html": [
       "<div>\n",
       "<style scoped>\n",
       "    .dataframe tbody tr th:only-of-type {\n",
       "        vertical-align: middle;\n",
       "    }\n",
       "\n",
       "    .dataframe tbody tr th {\n",
       "        vertical-align: top;\n",
       "    }\n",
       "\n",
       "    .dataframe thead th {\n",
       "        text-align: right;\n",
       "    }\n",
       "</style>\n",
       "<table border=\"1\" class=\"dataframe\">\n",
       "  <thead>\n",
       "    <tr style=\"text-align: right;\">\n",
       "      <th></th>\n",
       "      <th>Y</th>\n",
       "      <th>related_col</th>\n",
       "      <th>non_related_col</th>\n",
       "      <th>related_col_cat</th>\n",
       "      <th>non_related_col_cat</th>\n",
       "      <th>Y_names</th>\n",
       "    </tr>\n",
       "  </thead>\n",
       "  <tbody>\n",
       "    <tr>\n",
       "      <th>0</th>\n",
       "      <td>0.0</td>\n",
       "      <td>-0.786660</td>\n",
       "      <td>0.105084</td>\n",
       "      <td>0</td>\n",
       "      <td>1</td>\n",
       "      <td>name 0.0</td>\n",
       "    </tr>\n",
       "    <tr>\n",
       "      <th>1</th>\n",
       "      <td>0.0</td>\n",
       "      <td>0.027621</td>\n",
       "      <td>-0.162805</td>\n",
       "      <td>0</td>\n",
       "      <td>1</td>\n",
       "      <td>name 0.0</td>\n",
       "    </tr>\n",
       "    <tr>\n",
       "      <th>2</th>\n",
       "      <td>0.0</td>\n",
       "      <td>0.632219</td>\n",
       "      <td>0.219654</td>\n",
       "      <td>1</td>\n",
       "      <td>1</td>\n",
       "      <td>name 0.0</td>\n",
       "    </tr>\n",
       "    <tr>\n",
       "      <th>3</th>\n",
       "      <td>0.0</td>\n",
       "      <td>0.516693</td>\n",
       "      <td>-0.149288</td>\n",
       "      <td>0</td>\n",
       "      <td>1</td>\n",
       "      <td>name 0.0</td>\n",
       "    </tr>\n",
       "    <tr>\n",
       "      <th>4</th>\n",
       "      <td>0.0</td>\n",
       "      <td>-0.397204</td>\n",
       "      <td>-0.497393</td>\n",
       "      <td>0</td>\n",
       "      <td>0</td>\n",
       "      <td>name 0.0</td>\n",
       "    </tr>\n",
       "    <tr>\n",
       "      <th>...</th>\n",
       "      <td>...</td>\n",
       "      <td>...</td>\n",
       "      <td>...</td>\n",
       "      <td>...</td>\n",
       "      <td>...</td>\n",
       "      <td>...</td>\n",
       "    </tr>\n",
       "    <tr>\n",
       "      <th>595</th>\n",
       "      <td>2.0</td>\n",
       "      <td>2.024831</td>\n",
       "      <td>0.261111</td>\n",
       "      <td>2</td>\n",
       "      <td>2</td>\n",
       "      <td>name 2.0</td>\n",
       "    </tr>\n",
       "    <tr>\n",
       "      <th>596</th>\n",
       "      <td>2.0</td>\n",
       "      <td>2.961504</td>\n",
       "      <td>0.173736</td>\n",
       "      <td>2</td>\n",
       "      <td>1</td>\n",
       "      <td>name 2.0</td>\n",
       "    </tr>\n",
       "    <tr>\n",
       "      <th>597</th>\n",
       "      <td>2.0</td>\n",
       "      <td>2.443682</td>\n",
       "      <td>-0.055504</td>\n",
       "      <td>2</td>\n",
       "      <td>1</td>\n",
       "      <td>name 2.0</td>\n",
       "    </tr>\n",
       "    <tr>\n",
       "      <th>598</th>\n",
       "      <td>2.0</td>\n",
       "      <td>2.162241</td>\n",
       "      <td>0.437901</td>\n",
       "      <td>2</td>\n",
       "      <td>2</td>\n",
       "      <td>name 2.0</td>\n",
       "    </tr>\n",
       "    <tr>\n",
       "      <th>599</th>\n",
       "      <td>2.0</td>\n",
       "      <td>3.120396</td>\n",
       "      <td>-0.218664</td>\n",
       "      <td>2</td>\n",
       "      <td>0</td>\n",
       "      <td>name 2.0</td>\n",
       "    </tr>\n",
       "  </tbody>\n",
       "</table>\n",
       "<p>600 rows × 6 columns</p>\n",
       "</div>"
      ],
      "text/plain": [
       "       Y  related_col  non_related_col  related_col_cat  non_related_col_cat  \\\n",
       "0    0.0    -0.786660         0.105084                0                    1   \n",
       "1    0.0     0.027621        -0.162805                0                    1   \n",
       "2    0.0     0.632219         0.219654                1                    1   \n",
       "3    0.0     0.516693        -0.149288                0                    1   \n",
       "4    0.0    -0.397204        -0.497393                0                    0   \n",
       "..   ...          ...              ...              ...                  ...   \n",
       "595  2.0     2.024831         0.261111                2                    2   \n",
       "596  2.0     2.961504         0.173736                2                    1   \n",
       "597  2.0     2.443682        -0.055504                2                    1   \n",
       "598  2.0     2.162241         0.437901                2                    2   \n",
       "599  2.0     3.120396        -0.218664                2                    0   \n",
       "\n",
       "      Y_names  \n",
       "0    name 0.0  \n",
       "1    name 0.0  \n",
       "2    name 0.0  \n",
       "3    name 0.0  \n",
       "4    name 0.0  \n",
       "..        ...  \n",
       "595  name 2.0  \n",
       "596  name 2.0  \n",
       "597  name 2.0  \n",
       "598  name 2.0  \n",
       "599  name 2.0  \n",
       "\n",
       "[600 rows x 6 columns]"
      ]
     },
     "execution_count": 16,
     "metadata": {},
     "output_type": "execute_result"
    }
   ],
   "source": [
    "def inter_data_gen(grop_size = 200, grops_count = 3, relation_param = 1.2):\n",
    "    # lets creaate a sample wich contains columns for every situation\n",
    "    Y = np.concatenate([np.zeros(grop_size) + i for i in range(grops_count)])\n",
    "    related_col = np.concatenate(\n",
    "        [np.random.normal(i*relation_param, 0.5, grop_size) for i in range(grops_count)]\n",
    "    )\n",
    "    non_related_col = np.concatenate(\n",
    "        [np.random.normal(0, 0.5, grop_size) for i in range(grops_count)]\n",
    "    )\n",
    "    # get <grops_count>-order quantiles\n",
    "    related_col_quants = np.array(\n",
    "        [np.quantile(related_col,(i+1)/grops_count) for i in range(grops_count)]\n",
    "    )\n",
    "    non_related_col_quants = np.array(\n",
    "        [np.quantile(non_related_col,(i+1)/grops_count) for i in range(grops_count)]\n",
    "    )\n",
    "    test_frame = pd.DataFrame({\n",
    "        \"Y\" : Y,\n",
    "        \"related_col\" : related_col,\n",
    "        \"non_related_col\" : non_related_col,\n",
    "        \"related_col_cat\" : \\\n",
    "            map(lambda x: sum(x > related_col_quants), related_col),\n",
    "        \"non_related_col_cat\":\\\n",
    "            map(lambda x: sum(x > non_related_col_quants), non_related_col)\n",
    "    })\n",
    "    \n",
    "    test_frame[\"Y_names\"] =\\\n",
    "    test_frame['Y'].replace({\n",
    "        level : \"name \" + str(level) \\\n",
    "        for level in test_frame['Y'].unique()\n",
    "    })\n",
    "    \n",
    "    return test_frame\n",
    "\n",
    "temp_frame = inter_data_gen()\n",
    "temp_frame"
   ]
  },
  {
   "cell_type": "markdown",
   "id": "faea01a5",
   "metadata": {},
   "source": [
    "# Computions funcitons"
   ]
  },
  {
   "cell_type": "code",
   "execution_count": 3,
   "id": "10639a29",
   "metadata": {},
   "outputs": [],
   "source": [
    "from computions import *"
   ]
  },
  {
   "cell_type": "markdown",
   "id": "c75f1b01",
   "metadata": {},
   "source": [
    "## get_describe_nominal function test"
   ]
  },
  {
   "cell_type": "markdown",
   "id": "fb231041",
   "metadata": {},
   "source": [
    "Basic situation"
   ]
  },
  {
   "cell_type": "code",
   "execution_count": 4,
   "id": "3954086a",
   "metadata": {},
   "outputs": [
    {
     "data": {
      "text/html": [
       "<div>\n",
       "<style scoped>\n",
       "    .dataframe tbody tr th:only-of-type {\n",
       "        vertical-align: middle;\n",
       "    }\n",
       "\n",
       "    .dataframe tbody tr th {\n",
       "        vertical-align: top;\n",
       "    }\n",
       "\n",
       "    .dataframe thead th {\n",
       "        text-align: right;\n",
       "    }\n",
       "</style>\n",
       "<table border=\"1\" class=\"dataframe\">\n",
       "  <thead>\n",
       "    <tr style=\"text-align: right;\">\n",
       "      <th></th>\n",
       "      <th>count</th>\n",
       "      <th>0.0</th>\n",
       "      <th>0.0%</th>\n",
       "      <th>1.0</th>\n",
       "      <th>1.0%</th>\n",
       "      <th>2.0</th>\n",
       "      <th>2.0%</th>\n",
       "    </tr>\n",
       "    <tr>\n",
       "      <th>related_col_cat</th>\n",
       "      <th></th>\n",
       "      <th></th>\n",
       "      <th></th>\n",
       "      <th></th>\n",
       "      <th></th>\n",
       "      <th></th>\n",
       "      <th></th>\n",
       "    </tr>\n",
       "  </thead>\n",
       "  <tbody>\n",
       "    <tr>\n",
       "      <th>1</th>\n",
       "      <td>200</td>\n",
       "      <td>23.0</td>\n",
       "      <td>11.5</td>\n",
       "      <td>154</td>\n",
       "      <td>77.0</td>\n",
       "      <td>23.0</td>\n",
       "      <td>11.5</td>\n",
       "    </tr>\n",
       "    <tr>\n",
       "      <th>0</th>\n",
       "      <td>200</td>\n",
       "      <td>177.0</td>\n",
       "      <td>88.5</td>\n",
       "      <td>23</td>\n",
       "      <td>11.5</td>\n",
       "      <td>0.0</td>\n",
       "      <td>0.0</td>\n",
       "    </tr>\n",
       "    <tr>\n",
       "      <th>2</th>\n",
       "      <td>200</td>\n",
       "      <td>0.0</td>\n",
       "      <td>0.0</td>\n",
       "      <td>23</td>\n",
       "      <td>11.5</td>\n",
       "      <td>177.0</td>\n",
       "      <td>88.5</td>\n",
       "    </tr>\n",
       "  </tbody>\n",
       "</table>\n",
       "</div>"
      ],
      "text/plain": [
       "                 count    0.0  0.0%  1.0  1.0%    2.0  2.0%\n",
       "related_col_cat                                            \n",
       "1                  200   23.0  11.5  154  77.0   23.0  11.5\n",
       "0                  200  177.0  88.5   23  11.5    0.0   0.0\n",
       "2                  200    0.0   0.0   23  11.5  177.0  88.5"
      ]
     },
     "execution_count": 4,
     "metadata": {},
     "output_type": "execute_result"
    }
   ],
   "source": [
    "get_describe_nominal(temp_frame[\"related_col_cat\"], temp_frame.Y)"
   ]
  },
  {
   "cell_type": "markdown",
   "id": "f2666ebf",
   "metadata": {},
   "source": [
    "## Stats computing test"
   ]
  },
  {
   "cell_type": "markdown",
   "id": "74a9c077",
   "metadata": {},
   "source": [
    "Testig settings"
   ]
  },
  {
   "cell_type": "code",
   "execution_count": 5,
   "id": "c00b0592",
   "metadata": {},
   "outputs": [],
   "source": [
    "def stats_error_mesage(error_type):\n",
    "    print(\"ERROR:\")\n",
    "    print(error_type)\n",
    "    print(\"may be try again random is random\")\n",
    "\n",
    "KS_conv_level = 0.05\n",
    "second_kind_error_count = 0\n",
    "first_kind_error_count = 0\n",
    "test_count = 200"
   ]
  },
  {
   "cell_type": "markdown",
   "id": "cc11c442",
   "metadata": {},
   "source": [
    "Stats numeric"
   ]
  },
  {
   "cell_type": "code",
   "execution_count": 6,
   "id": "d9c6d4bb",
   "metadata": {},
   "outputs": [
    {
     "name": "stdout",
     "output_type": "stream",
     "text": [
      "KS test results\n",
      "first kind error\n",
      "count 0; share 0.0%\n",
      "second kind error\n",
      "count 9; share 4.5%\n"
     ]
    }
   ],
   "source": [
    "for i in range(test_count):\n",
    "    data_for_testing = inter_data_gen(relation_param = 1.2)\n",
    "    \n",
    "    related_stats = get_stats_numeric(\n",
    "        data_for_testing['related_col'], data_for_testing['Y']\n",
    "    )\n",
    "    non_related_stats = get_stats_numeric(\n",
    "        data_for_testing['non_related_col'], data_for_testing['Y']\n",
    "    )\n",
    "    \n",
    "    if related_stats[2]['AUC'] < non_related_stats[2]['AUC']:  \n",
    "        stats_error_mesage(\n",
    "            'AUC of related sample is smaller than AUC of independent!'\n",
    "        )\n",
    "        break\n",
    "    if related_stats[0]['AUC'] > 0.5:\n",
    "        stats_error_mesage(\n",
    "            'AUC for factor with smaller on average levels must be lower than 0.5'\n",
    "        )\n",
    "        break\n",
    "    if related_stats[2]['KS'] < non_related_stats[2]['KS']:\n",
    "        stats_error_mesage(\n",
    "            'KS of related sample is smaller than KS of independent!'\n",
    "        )\n",
    "    \n",
    "    if related_stats[0]['KS_p_val'] > KS_conv_level:\n",
    "        first_kind_error_count += 1\n",
    "    if non_related_stats[0]['KS_p_val'] < KS_conv_level:\n",
    "        second_kind_error_count += 1\n",
    "        \n",
    "print(\"KS test results\")\n",
    "print(\"first kind error\")\n",
    "print(\n",
    "    \"count \" + str(first_kind_error_count) + \"; share \" +\\\n",
    "    str(np.round(first_kind_error_count*100/test_count, 3)) + \"%\"\n",
    ")\n",
    "print(\"second kind error\")\n",
    "print(\n",
    "    \"count \" + str(second_kind_error_count) + \"; share \" +\\\n",
    "    str(np.round(second_kind_error_count*100/test_count, 3)) + \"%\"\n",
    ")"
   ]
  },
  {
   "cell_type": "markdown",
   "id": "42aad4f7",
   "metadata": {},
   "source": [
    "Stats nominal"
   ]
  },
  {
   "cell_type": "code",
   "execution_count": 7,
   "id": "274a5f2e",
   "metadata": {},
   "outputs": [
    {
     "name": "stdout",
     "output_type": "stream",
     "text": [
      "KS test results\n",
      "first kind error\n",
      "count 0; share 0.0%\n",
      "second kind error\n",
      "count 9; share 4.5%\n"
     ]
    }
   ],
   "source": [
    "for i in range(test_count):\n",
    "    data_for_testing = inter_data_gen(relation_param = 1.2)\n",
    "    \n",
    "    related_stats = get_stats_numeric(\n",
    "        data_for_testing['related_col_cat'], data_for_testing['Y']\n",
    "    )\n",
    "    non_related_stats = get_stats_numeric(\n",
    "        data_for_testing['non_related_col_cat'], data_for_testing['Y']\n",
    "    )\n",
    "    \n",
    "    if related_stats[2]['AUC'] < non_related_stats[2]['AUC']:  \n",
    "        stats_error_mesage(\n",
    "            'AUC of related sample is smaller than AUC of independent!'\n",
    "        )\n",
    "        break\n",
    "    if related_stats[0]['AUC'] > 0.5:\n",
    "        stats_error_mesage(\n",
    "            'AUC for factor with smaller on average levels must be lower than 0.5'\n",
    "        )\n",
    "        break\n",
    "    if related_stats[2]['KS'] < non_related_stats[2]['KS']:\n",
    "        stats_error_mesage(\n",
    "            'KS of related sample is smaller than KS of independent!'\n",
    "        )\n",
    "        break\n",
    "        \n",
    "    if related_stats[0]['KS_p_val'] > KS_conv_level:\n",
    "        first_kind_error_count += 1\n",
    "    if non_related_stats[0]['KS_p_val'] < KS_conv_level:\n",
    "        second_kind_error_count += 1\n",
    "        \n",
    "print(\"KS test results\")\n",
    "print(\"first kind error\")\n",
    "print(\n",
    "    \"count \" + str(first_kind_error_count) + \"; share \" +\\\n",
    "    str(np.round(first_kind_error_count*100/test_count, 3)) + \"%\"\n",
    ")\n",
    "print(\"second kind error\")\n",
    "print(\n",
    "    \"count \" + str(second_kind_error_count) + \"; share \" +\\\n",
    "    str(np.round(second_kind_error_count*100/test_count, 3)) + \"%\"\n",
    ")"
   ]
  },
  {
   "cell_type": "markdown",
   "id": "d961b8a8",
   "metadata": {},
   "source": [
    "Does it work with description table"
   ]
  },
  {
   "cell_type": "code",
   "execution_count": 23,
   "id": "0e1b6fd5",
   "metadata": {},
   "outputs": [
    {
     "data": {
      "text/plain": [
       "{'name 0.0': {'AUC': 0.9475, 'KS': 0.8425, 'KS_p_val': 9.517116054304806e-107},\n",
       " 'name 1.0': {'AUC': 0.8275, 'KS': 0.64, 'KS_p_val': 1.6598382707722782e-53},\n",
       " 'name 2.0': {'AUC': 0.9325, 'KS': 0.7975, 'KS_p_val': 2.3581393559109397e-91}}"
      ]
     },
     "execution_count": 23,
     "metadata": {},
     "output_type": "execute_result"
    }
   ],
   "source": [
    "#Y_strs = [\"name\" + str(i) for i in range(3)]\n",
    "\n",
    "\n",
    "dn_tab = get_describe_nominal(\n",
    "    temp_frame[\"related_col_cat\"], \n",
    "    temp_frame[\"Y_names\"]\n",
    ")\n",
    "\n",
    "with_table = get_stats_nominal(\n",
    "    temp_frame[\"related_col_cat\"], \n",
    "    temp_frame[\"Y_names\"], dn_tab\n",
    ")\n",
    "with_table"
   ]
  },
  {
   "cell_type": "markdown",
   "id": "e211f9df",
   "metadata": {},
   "source": [
    "Getting full info about stats - no difference nominal or numeric"
   ]
  },
  {
   "cell_type": "code",
   "execution_count": null,
   "id": "91b4efff",
   "metadata": {},
   "outputs": [],
   "source": [
    "data_for_testing = inter_data_gen(relation_param = 1.2)\n",
    "print(\"result for numeric column\")\n",
    "print(get_full_stats(\n",
    "    data_for_testing[\"related_col\"], data_for_testing.Y, \"numeric\"\n",
    "))\n",
    "print(\"result for nominal column\")\n",
    "print(get_full_stats(\n",
    "    data_for_testing[\"related_col_cat\"], data_for_testing.Y, \"nominal\"\n",
    "))"
   ]
  },
  {
   "cell_type": "markdown",
   "id": "49ffe5dc",
   "metadata": {},
   "source": [
    "**And finally all computions**"
   ]
  },
  {
   "cell_type": "code",
   "execution_count": null,
   "id": "81598887",
   "metadata": {},
   "outputs": [],
   "source": [
    "data_for_testing = inter_data_gen(relation_param = 1.2)\n",
    "\n",
    "print('describe_table with no nas')\n",
    "print(get_all_comuptions(\n",
    "    data_for_testing['related_col'], \n",
    "    data_for_testing.Y\n",
    ")['describe_table'])\n",
    "\n",
    "data_for_testing.loc[data_for_testing.sample(20).index] = np.NaN\n",
    "print('describe_table with nas')\n",
    "print(get_all_comuptions(\n",
    "    data_for_testing['related_col'], \n",
    "    data_for_testing.Y\n",
    "))"
   ]
  },
  {
   "cell_type": "code",
   "execution_count": null,
   "id": "3114a601",
   "metadata": {},
   "outputs": [],
   "source": [
    "data_for_testing = inter_data_gen(relation_param = 1.2)\n",
    "\n",
    "stats_info_to_DataFrame(\n",
    "    get_all_comuptions(\n",
    "        data_for_testing['non_related_col'], \n",
    "        data_for_testing.Y\n",
    "    )['stats_result']\n",
    ")"
   ]
  },
  {
   "cell_type": "markdown",
   "id": "46bdf21d",
   "metadata": {},
   "source": [
    "Getting indicators from computions uotput"
   ]
  },
  {
   "cell_type": "code",
   "execution_count": null,
   "id": "9655dfc8",
   "metadata": {},
   "outputs": [],
   "source": [
    "def get_predictor_row(column_data):\n",
    "\n",
    "    result = stats_info_to_DataFrame(column_data['stats_result'], column_data['name'])\n",
    "    result['Emptys'] = column_data['emptys_count']\n",
    "    result['Emptys part'] = column_data['emptys_part']\n",
    "    return result\n",
    "\n",
    "data_for_testing = inter_data_gen(relation_param = 1.2)\n",
    "\n",
    "comp_result =  get_all_comuptions(\n",
    "    data_for_testing['non_related_col'], \n",
    "    data_for_testing.Y\n",
    ")\n",
    "\n",
    "print('full numeric data')\n",
    "get_predictor_row(comp_result)"
   ]
  },
  {
   "cell_type": "markdown",
   "id": "99161e41",
   "metadata": {},
   "source": [
    "# Writing to excel\n",
    "\n",
    "Testing data"
   ]
  },
  {
   "cell_type": "code",
   "execution_count": null,
   "id": "95c1aefc",
   "metadata": {},
   "outputs": [],
   "source": [
    "# frame size\n",
    "n = 1000\n",
    "\n",
    "test_frame = pd.DataFrame({\"numeric_variable\": np.random.normal(10, 5, n), \n",
    "                           \"object_variable\": np.round(np.random.uniform(0, 10, n)).astype('O'),\n",
    "                           \"column with soo000oo000oo000oo000oo long name\": np.random.normal(10, 5, n)})\n",
    "\n",
    "nv = test_frame[\"numeric_variable\"]\n",
    "ov = test_frame[\"object_variable\"]\n",
    "\n",
    "probs1 = nv.apply(lambda x: (x/(max(nv) - min(nv))) + ((np.random.rand())/5))\n",
    "probs2 = ov.apply(lambda x: (x/(max(ov) - min(ov))) + ((np.random.rand())/5))\n",
    "\n",
    "f_probs = (probs1 + probs2)/2\n",
    "f_probs[f_probs >= 1] = 1\n",
    "\n",
    "\n",
    "Y = np.zeros(n)\n",
    "Y[f_probs > 0.4] = 1\n",
    "Y[f_probs > 0.7] = 2\n",
    "\n",
    "Y = pd.Series(Y)\n",
    "Y_strs = Y.replace({0: 'cetegory 0', 1:'category 1', 2:'category 2'})\n",
    "Y.value_counts()\n",
    "Y_binary = Y.replace({2:1})\n",
    "\n",
    "na_containts_frame = test_frame.copy()\n",
    "\n",
    "for col in test_frame.columns:\n",
    "    na_containts_frame.loc[na_containts_frame.sample(int(n/50)).index, col] = np.NaN"
   ]
  },
  {
   "cell_type": "markdown",
   "id": "1bc367dd",
   "metadata": {},
   "source": [
    "Adding a info about different predictors"
   ]
  },
  {
   "cell_type": "code",
   "execution_count": null,
   "id": "84079594",
   "metadata": {},
   "outputs": [],
   "source": [
    "my_cpp = classification_power_predictor(test_frame, Y)\n",
    "my_cpp.update_predictors()"
   ]
  },
  {
   "cell_type": "markdown",
   "id": "bc0c47ab",
   "metadata": {},
   "source": [
    "Let's show final table"
   ]
  },
  {
   "cell_type": "code",
   "execution_count": null,
   "id": "854b6dd4",
   "metadata": {},
   "outputs": [],
   "source": [
    "my_cpp = classification_power_predictor(test_frame, Y)\n",
    "my_cpp.update_predictors()\n",
    "#my_cpp.get_predictors_data()\n",
    "my_cpp.result_DF"
   ]
  },
  {
   "cell_type": "markdown",
   "id": "9f55e2f0",
   "metadata": {},
   "source": [
    "Writig a double header table"
   ]
  },
  {
   "cell_type": "code",
   "execution_count": null,
   "id": "70975bca",
   "metadata": {},
   "outputs": [],
   "source": [
    "xl_writer = pd.ExcelWriter(\"test_result/double_header_saver.xlsx\",engine='xlsxwriter')\n",
    "ws = xl_writer.book.add_worksheet('test')\n",
    "xl_writer.sheets['test'] = ws      \n",
    "\n",
    "my_cpp = classification_power_predictor(test_frame, Y)\n",
    "my_cpp.update_predictors()\n",
    "my_cpp.my_writer = xl_writer\n",
    "\n",
    "print_double_column_header(  my_cpp, ws, \n",
    "                            my_cpp.result_DF.loc[['numeric_variable'],:],\n",
    "                            \"A1\", 'Hello World', \n",
    "                            xl_writer.book.add_format(my_cpp.default_header_format))\n",
    "\n",
    "xl_writer.close()"
   ]
  },
  {
   "cell_type": "markdown",
   "id": "ab6f6bf1",
   "metadata": {},
   "source": [
    "Writing info about some predictor"
   ]
  },
  {
   "cell_type": "code",
   "execution_count": null,
   "id": "d9d78fbb",
   "metadata": {},
   "outputs": [],
   "source": [
    "xl_writer = pd.ExcelWriter(\"test_result/writing_a_value.xlsx\",engine='xlsxwriter')\n",
    "\n",
    "ws = xl_writer.book.add_worksheet('test')\n",
    "xl_writer.sheets['test'] = ws                             \n",
    "\n",
    "my_cpp = classification_power_predictor(test_frame, Y)\n",
    "my_cpp.update_predictors()\n",
    "my_cpp.my_writer = xl_writer\n",
    "\n",
    "default_predictor_printer(my_cpp, ws, my_cpp.get_predictors_data()['numeric_variable'], \n",
    "{'header_format':xl_writer.book.add_format(my_cpp.default_header_format),\n",
    "  'desc_format':xl_writer.book.add_format(my_cpp.default_header_format),\n",
    "  'class_ab_format':xl_writer.book.add_format(my_cpp.default_header_format)})\n",
    "\n",
    "xl_writer.close()"
   ]
  },
  {
   "cell_type": "code",
   "execution_count": null,
   "id": "3cc552d9",
   "metadata": {},
   "outputs": [],
   "source": [
    "xl_writer = pd.ExcelWriter(\"test_result/result_test.xlsx\",engine='xlsxwriter')\n",
    "my_cpp.write_to_book(xl_writer)\n",
    "xl_writer.close()"
   ]
  }
 ],
 "metadata": {
  "kernelspec": {
   "display_name": "Python 3 (ipykernel)",
   "language": "python",
   "name": "python3"
  },
  "language_info": {
   "codemirror_mode": {
    "name": "ipython",
    "version": 3
   },
   "file_extension": ".py",
   "mimetype": "text/x-python",
   "name": "python",
   "nbconvert_exporter": "python",
   "pygments_lexer": "ipython3",
   "version": "3.10.0"
  }
 },
 "nbformat": 4,
 "nbformat_minor": 5
}
