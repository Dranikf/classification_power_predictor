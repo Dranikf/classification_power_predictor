{
 "cells": [
  {
   "cell_type": "markdown",
   "id": "d36d94ee",
   "metadata": {},
   "source": [
    "# KS pdf fucntion plot"
   ]
  },
  {
   "cell_type": "code",
   "execution_count": 1,
   "id": "17019061",
   "metadata": {},
   "outputs": [],
   "source": [
    "from scipy.stats import ksone"
   ]
  },
  {
   "cell_type": "code",
   "execution_count": null,
   "id": "8bc351fc",
   "metadata": {},
   "outputs": [],
   "source": []
  }
 ],
 "metadata": {
  "kernelspec": {
   "display_name": "Python 3 (ipykernel)",
   "language": "python",
   "name": "python3"
  },
  "language_info": {
   "codemirror_mode": {
    "name": "ipython",
    "version": 3
   },
   "file_extension": ".py",
   "mimetype": "text/x-python",
   "name": "python",
   "nbconvert_exporter": "python",
   "pygments_lexer": "ipython3",
   "version": "3.10.0"
  }
 },
 "nbformat": 4,
 "nbformat_minor": 5
}
