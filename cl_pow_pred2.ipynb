{
 "cells": [
  {
   "cell_type": "code",
   "execution_count": 1,
   "id": "dd78e4ac-4d22-4732-acfb-f6597ce8d6e1",
   "metadata": {},
   "outputs": [],
   "source": [
    "from cl_pow_pred2 import *\n",
    "from DS_common.data_processing import np_replace"
   ]
  },
  {
   "cell_type": "markdown",
   "id": "a0df6d7e-0e82-444c-aaf9-a56568c4edcb",
   "metadata": {},
   "source": [
    "Numeric variable"
   ]
  },
  {
   "cell_type": "code",
   "execution_count": 2,
   "id": "435c8f74-79f7-4a21-9bdb-5c7b6acfa999",
   "metadata": {},
   "outputs": [],
   "source": [
    "n = 100\n",
    "\n",
    "np.random.seed(3)\n",
    "\n",
    "test_X = np.concatenate([\n",
    "    np.random.normal(-2, 2, n),\n",
    "    np.random.normal(2, 2, n)\n",
    "])\n",
    "\n",
    "test_y = np.concatenate([\n",
    "    np.random.choice(['b','a'], n, p = [0.3, 0.7]),\n",
    "    np.random.choice(['b','a'], n, p = [0.7, 0.3])\n",
    "])"
   ]
  },
  {
   "cell_type": "code",
   "execution_count": 3,
   "id": "667fa63f-b779-42a1-9950-f2b88b39461e",
   "metadata": {},
   "outputs": [
    {
     "data": {
      "text/plain": [
       "0.6774709883953582"
      ]
     },
     "execution_count": 3,
     "metadata": {},
     "output_type": "execute_result"
    }
   ],
   "source": [
    "pred_auc(test_y, test_X)"
   ]
  },
  {
   "cell_type": "markdown",
   "id": "c3ee23ce-23b1-4a85-83df-19e3f8bc2eb0",
   "metadata": {},
   "source": [
    "Categorial variable"
   ]
  },
  {
   "cell_type": "code",
   "execution_count": 4,
   "id": "9eb969f1-a127-435b-90dd-962693e6e1e4",
   "metadata": {},
   "outputs": [
    {
     "data": {
      "text/plain": [
       "array(['test3', 'test2', 'test3', 'test3', 'g'], dtype='<U5')"
      ]
     },
     "execution_count": 4,
     "metadata": {},
     "output_type": "execute_result"
    }
   ],
   "source": [
    "\n",
    "np_replace(np.array(['a', 'b', 'a', 'a', 'g']), {'a':'test', 'b': \"test2\", 'a':\"test3\"})\n",
    "# arr = np.array(['a', 'b'])\n",
    "# rule = {'a' : 'test'}\n",
    "\n",
    "# arr[0] == np.array(list(rule.keys()))"
   ]
  },
  {
   "cell_type": "code",
   "execution_count": 9,
   "id": "c337a176-e2a4-4b14-aecb-ed880ea5800b",
   "metadata": {},
   "outputs": [
    {
     "data": {
      "text/plain": [
       "0.7345252403846154"
      ]
     },
     "execution_count": 9,
     "metadata": {},
     "output_type": "execute_result"
    }
   ],
   "source": [
    "n = 100\n",
    "cat_vars = [\"cat1\", \"cat2\", \"cat3\"]\n",
    "\n",
    "np.random.seed(3)\n",
    "\n",
    "test_X = np.concatenate([\n",
    "    np.random.choice(cat_vars, n, p = [0.15, 0.15, 0.7]),\n",
    "    np.random.choice(cat_vars, n, p = [0.2, 0.5, 0.3]),\n",
    "    np.random.choice(cat_vars, n, p = [0.7, 0.15, 0.15])\n",
    "])\n",
    "\n",
    "test_y = np.concatenate([\n",
    "    np.random.choice(['a','b'], n, p = [0.9, 0.1]),\n",
    "    np.random.choice(['a','b'], n, p = [0.5, 0.5]),\n",
    "    np.random.choice(['a','b'], n, p = [0.1, 0.9])\n",
    "])\n",
    "\n",
    "cat_auc(test_y, test_X)"
   ]
  }
 ],
 "metadata": {
  "kernelspec": {
   "display_name": "Python 3 (ipykernel)",
   "language": "python",
   "name": "python3"
  },
  "language_info": {
   "codemirror_mode": {
    "name": "ipython",
    "version": 3
   },
   "file_extension": ".py",
   "mimetype": "text/x-python",
   "name": "python",
   "nbconvert_exporter": "python",
   "pygments_lexer": "ipython3",
   "version": "3.10.5"
  }
 },
 "nbformat": 4,
 "nbformat_minor": 5
}
